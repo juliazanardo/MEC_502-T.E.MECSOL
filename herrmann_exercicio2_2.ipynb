{
 "cells": [
  {
   "cell_type": "markdown",
   "id": "285f5b71",
   "metadata": {},
   "source": [
    "Começamos fazendo as importações necessárias para o trabalho."
   ]
  },
  {
   "cell_type": "code",
   "execution_count": 2,
   "id": "9dc123a9",
   "metadata": {},
   "outputs": [],
   "source": [
    "import torch\n",
    "import matplotlib.pyplot as plt\n",
    "from torch.autograd import grad"
   ]
  },
  {
   "cell_type": "markdown",
   "id": "2950c25c",
   "metadata": {},
   "source": [
    "## Displacements\n",
    "\n",
    "\n",
    "A função u(x, y) foi construída propositalmente para ser zero em toda a malha, mas com dependência explícita de x e y para que o PyTorch consiga computar derivadas.\n",
    "A função v(x, y) é uma expressão quadrática simples em y, representando um deslocamento vertical. O termo **x² y² * 0** também é adicionado para manter a dependência de x, mesmo que o resultado seja 0."
   ]
  },
  {
   "cell_type": "code",
   "execution_count": 3,
   "id": "720a3bc6",
   "metadata": {},
   "outputs": [],
   "source": [
    "u = lambda x, y: 0 * x ** 2 * y ** 2  # needed to force pytorch to evaluate gradient\n",
    "v = lambda x, y: -1.7004e-7 * y ** 2 + x ** 2 * y ** 2 * 0"
   ]
  },
  {
   "cell_type": "markdown",
   "id": "388fec50",
   "metadata": {},
   "source": [
    "## Spatial grid creation\n",
    "\n",
    "Criamos uma malha bidimensional de nx x ny pontos no domínio [-1, 1] × [-1, 1], com requires_grad=True para que possamos calcular gradientes posteriormente."
   ]
  },
  {
   "cell_type": "code",
   "execution_count": 4,
   "id": "f41f42c3",
   "metadata": {},
   "outputs": [],
   "source": [
    "nx = 5\n",
    "ny = 5\n",
    "\n",
    "x = torch.linspace(-1, 1, nx, requires_grad=True)\n",
    "y = torch.linspace(-1, 1, ny, requires_grad=True)\n",
    "x, y = torch.meshgrid(x, y, indexing=\"ij\")"
   ]
  },
  {
   "cell_type": "markdown",
   "id": "3b8d3c6d",
   "metadata": {},
   "source": [
    "## Sampled displacement field\n",
    "\n",
    "Aqui concatenamos os deslocamentos:\n",
    "\n",
    "- **d[0]:** deslocamento horizontal u(x, y) (zero)\n",
    "- **d[1]:** deslocamento vertical v(x, y) (varia com y²)"
   ]
  },
  {
   "cell_type": "code",
   "execution_count": 5,
   "id": "176b82a6",
   "metadata": {},
   "outputs": [],
   "source": [
    "d = torch.cat((u(x, y).unsqueeze(0), v(x, y).unsqueeze(0)), 0)\n",
    "# the following is achieved by the concatenation\n",
    "# d[0, :, :] == u(x,y)\n",
    "# d[1, :, :] == v(x,y)"
   ]
  },
  {
   "cell_type": "markdown",
   "id": "dda848ef",
   "metadata": {},
   "source": [
    "## Visualize displacement field\n",
    "\n",
    "Um gráfico de setas (quiver) é utilizado para visualizar o campo vetorial de deslocamentos. Como u é nulo, as setas apontam apenas na direção vertical, com intensidade variando conforme y²."
   ]
  },
  {
   "cell_type": "code",
   "execution_count": 6,
   "id": "e2185b92",
   "metadata": {},
   "outputs": [
    {
     "data": {
      "image/png": "[encoded data removed]",
      "text/plain": [
       "<Figure size 400x300 with 1 Axes>"
      ]
     },
     "metadata": {},
     "output_type": "display_data"
    }
   ],
   "source": [
    "plt.figure(figsize=(4, 3))\n",
    "plt.quiver(x.detach(), y.detach(), d[0, :, :].detach(), d[1, :, :].detach())\n",
    "plt.xlabel('x')\n",
    "plt.ylabel('y')\n",
    "plt.title('Quiver plot of vector field (u, v)')\n",
    "plt.grid(True)\n",
    "plt.show()"
   ]
  },
  {
   "cell_type": "markdown",
   "id": "89102548",
   "metadata": {},
   "source": [
    "## Gradient computation\n",
    "\n",
    "Neste trecho, utilizamos **torch.autograd.grad** para obter as derivadas parciais dos deslocamentos em relação a x e y.\n",
    "\n",
    "Essas derivadas são armazenadas na matriz dd_dx, que tem shape **(2, 2, nx, ny)** e representa:\n",
    "\n",
    "- **Dimensão 0:** componente de deslocamento (u ou v)\n",
    "- **Dimensão 1:** direção da derivada (x ou y)"
   ]
  },
  {
   "cell_type": "code",
   "execution_count": 7,
   "id": "76a5ba7b",
   "metadata": {},
   "outputs": [],
   "source": [
    "dd_dx = torch.zeros((2, 2, nx, ny))\n",
    "dd_dx[0, 0] = grad(d[0], x, torch.ones_like(x), create_graph=True, retain_graph=True)[0]  # dd_dxdx\n",
    "dd_dx[0, 1] = grad(d[0], y, torch.ones_like(y), create_graph=True, retain_graph=True)[0]  # dd_dxdy\n",
    "dd_dx[1, 0] = grad(d[1], x, torch.ones_like(x), create_graph=True, retain_graph=True)[0]  # dd_dydx\n",
    "dd_dx[1, 1] = grad(d[1], y, torch.ones_like(y), create_graph=True, retain_graph=True)[0]  # dd_dydy"
   ]
  },
  {
   "cell_type": "markdown",
   "id": "c555979a",
   "metadata": {},
   "source": [
    "print resultados do tensor"
   ]
  },
  {
   "cell_type": "code",
   "execution_count": 8,
   "id": "59aa2432",
   "metadata": {},
   "outputs": [
    {
     "name": "stdout",
     "output_type": "stream",
     "text": [
      "tensor([[-0., -0., -0., -0., -0.],\n",
      "        [-0., -0., -0., -0., -0.],\n",
      "        [0., 0., 0., 0., 0.],\n",
      "        [0., 0., 0., 0., 0.],\n",
      "        [0., 0., 0., 0., 0.]], grad_fn=<SelectBackward0>) tensor([[0., 0., 0., 0., 0.],\n",
      "        [0., 0., 0., 0., 0.],\n",
      "        [0., 0., 0., 0., 0.],\n",
      "        [0., 0., 0., 0., 0.],\n",
      "        [0., 0., 0., 0., 0.]], grad_fn=<SelectBackward0>) tensor([[-0., -0., -0., -0., -0.],\n",
      "        [-0., -0., -0., -0., -0.],\n",
      "        [0., 0., 0., 0., 0.],\n",
      "        [0., 0., 0., 0., 0.],\n",
      "        [0., 0., 0., 0., 0.]], grad_fn=<SelectBackward0>) tensor([[ 3.4008e-07,  1.7004e-07,  0.0000e+00, -1.7004e-07, -3.4008e-07],\n",
      "        [ 3.4008e-07,  1.7004e-07,  0.0000e+00, -1.7004e-07, -3.4008e-07],\n",
      "        [ 3.4008e-07,  1.7004e-07,  0.0000e+00, -1.7004e-07, -3.4008e-07],\n",
      "        [ 3.4008e-07,  1.7004e-07,  0.0000e+00, -1.7004e-07, -3.4008e-07],\n",
      "        [ 3.4008e-07,  1.7004e-07,  0.0000e+00, -1.7004e-07, -3.4008e-07]],\n",
      "       grad_fn=<SelectBackward0>)\n"
     ]
    }
   ],
   "source": [
    "print(dd_dx[0, 0],\n",
    "      dd_dx[0, 1],\n",
    "      dd_dx[1, 0],\n",
    "      dd_dx[1, 1])"
   ]
  },
  {
   "cell_type": "markdown",
   "id": "74cae3dc",
   "metadata": {},
   "source": [
    "## Strain computation\n",
    "\n",
    "Aqui aplicamos a fórmula de deformação linear:\n",
    "O permute((1, 0, ...)) troca as componentes para somar corretamente os pares cruzados, como ∂u/∂y + ∂v/∂x."
   ]
  },
  {
   "cell_type": "code",
   "execution_count": 9,
   "id": "98da6973",
   "metadata": {},
   "outputs": [],
   "source": [
    "eps = 0.5 * (dd_dx + dd_dx.permute((1, 0, 2, 3)))"
   ]
  },
  {
   "cell_type": "markdown",
   "id": "a54a1a91",
   "metadata": {},
   "source": [
    "## Material properties and 4th order material tensor\n",
    "\n",
    "Criamos o tensor constitutivo elástico isotrópico com simetria plana. Este tensor C representa as propriedades do material (módulo de Young E e coeficiente de Poisson ν) para transformar deformações em tensões usando a Lei de Hooke."
   ]
  },
  {
   "cell_type": "code",
   "execution_count": 10,
   "id": "f0bc15c0",
   "metadata": {},
   "outputs": [],
   "source": [
    "E = 210000.0\n",
    "nu = 0.3\n",
    "\n",
    "C = torch.zeros((2, 2, 2, 2))  # 4th order material tensor\n",
    "C[0, 0, 0, 0] = 1.0\n",
    "C[0, 0, 1, 1] = nu\n",
    "C[1, 1, 0, 0] = nu\n",
    "C[1, 1, 1, 1] = 1.0\n",
    "C[0, 1, 0, 1] = (1.0 - nu) / 2.0\n",
    "C = E / (1.0 - nu ** 2) * C"
   ]
  },
  {
   "cell_type": "markdown",
   "id": "a862e423",
   "metadata": {},
   "source": [
    "## Stress computation\n",
    "\n",
    "Calculamos o tensor de tensões σ multiplicando o tensor constitutivo pelo tensor de deformações:"
   ]
  },
  {
   "cell_type": "code",
   "execution_count": 11,
   "id": "86f4453b",
   "metadata": {},
   "outputs": [],
   "source": [
    "sig = torch.tensordot(C, eps)"
   ]
  },
  {
   "cell_type": "markdown",
   "id": "8726f9ca",
   "metadata": {},
   "source": [
    "## Equilibrium computation\n",
    "\n",
    "print resultados do tensor"
   ]
  },
  {
   "cell_type": "code",
   "execution_count": 12,
   "id": "be826bf9",
   "metadata": {},
   "outputs": [
    {
     "data": {
      "text/plain": [
       "(tensor([[0., 0., 0., 0., 0.],\n",
       "         [0., 0., 0., 0., 0.],\n",
       "         [0., 0., 0., 0., 0.],\n",
       "         [0., 0., 0., 0., 0.],\n",
       "         [0., 0., 0., 0., 0.]], grad_fn=<AddBackward0>),)"
      ]
     },
     "execution_count": 12,
     "metadata": {},
     "output_type": "execute_result"
    }
   ],
   "source": [
    "grad(\n",
    "    sig[0, 0], x, torch.ones_like(x), create_graph=True, retain_graph=True, allow_unused=True\n",
    ")"
   ]
  },
  {
   "cell_type": "markdown",
   "id": "3761548d",
   "metadata": {},
   "source": [
    "Usamos novamente autograd.grad para computar a divergência do tensor de tensões, que representa o resíduo de equilíbrio (força interna resultante em cada ponto da malha).\n",
    "\n",
    "O vetor f representa o desbalanceamento interno:\n",
    "\n",
    "- **f[0]:** direção x\n",
    "- **f[1]:** direção y\n"
   ]
  },
  {
   "cell_type": "code",
   "execution_count": 13,
   "id": "3785c723",
   "metadata": {},
   "outputs": [],
   "source": [
    "dsig11_dx = grad(\n",
    "    sig[0, 0], x, torch.ones_like(x), create_graph=True, retain_graph=True, allow_unused=True\n",
    ")[0]\n",
    "dsig12_dy = grad(\n",
    "    sig[0, 1], y, torch.ones_like(y), create_graph=True, retain_graph=True, allow_unused=True\n",
    ")[0]\n",
    "dsig21_dx = grad(\n",
    "    sig[1, 0], x, torch.ones_like(x), create_graph=True, retain_graph=True, allow_unused=True\n",
    ")[0]\n",
    "dsig22_dy = grad(\n",
    "    sig[1, 1], y, torch.ones_like(y), create_graph=True, retain_graph=True, allow_unused=True\n",
    ")[0]\n",
    "\n",
    "f = torch.zeros((2, nx, ny))\n",
    "f[0] = -dsig11_dx - dsig12_dy  # out of balance force in x1\n",
    "f[1] = -dsig21_dx - dsig22_dy  # out of balance force in x2"
   ]
  },
  {
   "cell_type": "markdown",
   "id": "857cc489",
   "metadata": {},
   "source": [
    "## Density computation\n",
    "\n",
    "print resultados do tensor"
   ]
  },
  {
   "cell_type": "code",
   "execution_count": 14,
   "id": "06aef226",
   "metadata": {},
   "outputs": [
    {
     "data": {
      "text/plain": [
       "(tensor([[0., 0., 0., 0., 0.],\n",
       "         [0., 0., 0., 0., 0.],\n",
       "         [0., 0., 0., 0., 0.],\n",
       "         [0., 0., 0., 0., 0.],\n",
       "         [0., 0., 0., 0., 0.]], grad_fn=<AddBackward0>),)"
      ]
     },
     "execution_count": 14,
     "metadata": {},
     "output_type": "execute_result"
    }
   ],
   "source": [
    "grad(sig[1, 0], x, torch.ones_like(x), create_graph=True, retain_graph=True, allow_unused=True)"
   ]
  },
  {
   "cell_type": "markdown",
   "id": "d135c22e",
   "metadata": {},
   "source": [
    "Aqui estimamos a densidade ρ do corpo assumindo que a força de desequilíbrio f[1] (em y) corresponde ao peso (ρg):\n",
    "Essa densidade é então plotada para análise espacial."
   ]
  },
  {
   "cell_type": "code",
   "execution_count": 15,
   "id": "858cc0c8",
   "metadata": {},
   "outputs": [
    {
     "name": "stdout",
     "output_type": "stream",
     "text": [
      "tensor([[8.0000e-06, 8.0000e-06, 8.0000e-06, 8.0000e-06, 8.0000e-06],\n",
      "        [8.0000e-06, 8.0000e-06, 8.0000e-06, 8.0000e-06, 8.0000e-06],\n",
      "        [8.0000e-06, 8.0000e-06, 8.0000e-06, 8.0000e-06, 8.0000e-06],\n",
      "        [8.0000e-06, 8.0000e-06, 8.0000e-06, 8.0000e-06, 8.0000e-06],\n",
      "        [8.0000e-06, 8.0000e-06, 8.0000e-06, 8.0000e-06, 8.0000e-06]],\n",
      "       grad_fn=<DivBackward0>)\n"
     ]
    }
   ],
   "source": [
    "g = 9810\n",
    "rho = f[1] / g\n",
    "print(rho)"
   ]
  },
  {
   "cell_type": "markdown",
   "id": "e50de872",
   "metadata": {},
   "source": [
    "## Result visualization: density\n",
    "- **Note:** although there is only one color, the contourplot represent the density evaluated across multiple points\n",
    "\n",
    "o cp = ax.contourf(x.detach(), y.detach(), rho.detach(), levels=12, cmap=plt.cm.jet):\n",
    "\n",
    "Utilizamos um gráfico de contorno para visualizar a distribuição espacial da densidade ρ estimada. Isso ajuda a entender como a tensão interna varia na estrutura devido à deformação imposta."
   ]
  },
  {
   "cell_type": "code",
   "execution_count": null,
   "id": "d9476078",
   "metadata": {},
   "outputs": [
    {
     "data": {
      "image/png": "[encoded data removed]",
      "text/plain": [
       "<Figure size 640x480 with 2 Axes>"
      ]
     },
     "metadata": {},
     "output_type": "display_data"
    }
   ],
   "source": [
    "fig, ax = plt.subplots()\n",
    "cp = ax.contourf(x.detach(), y.detach(), rho.detach(), levels=12, cmap=plt.cm.jet)\n",
    "fig.colorbar(cp, format=\"%.2e\")\n",
    "ax.set_aspect(\"equal\")\n",
    "fig.tight_layout()\n",
    "plt.show()"
   ]
  }
 ],
 "metadata": {
  "kernelspec": {
   "display_name": "julia_exercicios",
   "language": "python",
   "name": "python3"
  },
  "language_info": {
   "codemirror_mode": {
    "name": "ipython",
    "version": 3
   },
   "file_extension": ".py",
   "mimetype": "text/x-python",
   "name": "python",
   "nbconvert_exporter": "python",
   "pygments_lexer": "ipython3",
   "version": "3.13.5"
  }
 },
 "nbformat": 4,
 "nbformat_minor": 5
}
