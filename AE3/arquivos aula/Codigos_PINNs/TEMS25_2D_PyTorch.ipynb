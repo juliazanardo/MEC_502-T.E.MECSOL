{
 "cells": [
  {
   "cell_type": "markdown",
   "id": "13ba11a8-9964-4b7e-b262-8b631b887188",
   "metadata": {
    "id": "13ba11a8-9964-4b7e-b262-8b631b887188"
   },
   "source": [
    "# Placa Estática 2D\n",
    "\n",
    "> Notebook adaptado da resolução do exercício 17 em [Kollmannsberger 2ed](https://github.com/cmpmech/deep-learning-in-computational-mechanics/tree/main)  \n",
    "**Notebook por:** Paulo de Souza Silva  \n",
    "**Data:** Maio/Junho de 2025\n"
   ]
  },
  {
   "cell_type": "markdown",
   "id": "pATy8nPUz310",
   "metadata": {
    "id": "pATy8nPUz310"
   },
   "source": [
    "**IGNORE ESTE CÓDIGO INICIAL**\n",
    "\n",
    "* Se a figura da viga não aparecer, basta rodá-lo."
   ]
  },
  {
   "cell_type": "code",
   "execution_count": null,
   "id": "f0mnSQHwz5_R",
   "metadata": {
    "colab": {
     "base_uri": "https://localhost:8080/",
     "height": 317
    },
    "executionInfo": {
     "elapsed": 3426,
     "status": "ok",
     "timestamp": 1749499538573,
     "user": {
      "displayName": "Paulo Souza",
      "userId": "12141976188582041693"
     },
     "user_tz": 180
    },
    "id": "f0mnSQHwz5_R",
    "outputId": "127fbe5c-b5ad-4394-e966-f0d618237671"
   },
   "outputs": [
    {
     "data": {
      "image/png": "[encoded data removed]",
      "text/plain": [
       "<PIL.Image.Image image mode=RGBA size=400x300>"
      ]
     },
     "metadata": {},
     "output_type": "display_data"
    }
   ],
   "source": [
    "import requests\n",
    "from PIL import Image\n",
    "from io import BytesIO\n",
    "\n",
    "file_id = '1OzBxRbJeqIFQCTIMIJcG7fX7izi65ZX0'\n",
    "url = f'https://drive.google.com/uc?export=view&id={file_id}'\n",
    "\n",
    "response = requests.get(url)\n",
    "img = Image.open(BytesIO(response.content))\n",
    "\n",
    "new_size = (400, 300)  # (largura, altura) em pixels\n",
    "img_resized = img.resize(new_size)\n",
    "\n",
    "display(img_resized)"
   ]
  },
  {
   "cell_type": "markdown",
   "id": "04fc65ef-fdb0-409a-8b58-6ee22a3a38db",
   "metadata": {
    "id": "04fc65ef-fdb0-409a-8b58-6ee22a3a38db"
   },
   "source": [
    "**bibliotecas importantes**"
   ]
  },
  {
   "cell_type": "code",
   "execution_count": null,
   "id": "4dfeb949-ac58-4b07-9687-c41064b91f0c",
   "metadata": {
    "ExecuteTime": {
     "end_time": "2024-01-29T14:46:25.186469816Z",
     "start_time": "2024-01-29T14:46:25.124381916Z"
    },
    "id": "4dfeb949-ac58-4b07-9687-c41064b91f0c"
   },
   "outputs": [],
   "source": [
    "import numpy as np\n",
    "import torch\n",
    "from torch.autograd import grad\n",
    "import time\n",
    "import matplotlib.pyplot as plt"
   ]
  },
  {
   "cell_type": "markdown",
   "id": "a287a8dc-3ef0-490c-a549-a4c06474f8b9",
   "metadata": {
    "id": "a287a8dc-3ef0-490c-a549-a4c06474f8b9"
   },
   "source": [
    "## Definições Iniciais"
   ]
  },
  {
   "cell_type": "markdown",
   "id": "3837a3c0-c7e6-4750-94d6-07b83721493f",
   "metadata": {
    "id": "3837a3c0-c7e6-4750-94d6-07b83721493f"
   },
   "source": [
    "**cálculo de gradientes com diferenciação automática**"
   ]
  },
  {
   "cell_type": "code",
   "execution_count": null,
   "id": "9d9ff7cc-b51d-4a65-b314-06d55506104a",
   "metadata": {
    "ExecuteTime": {
     "end_time": "2024-01-29T14:46:25.190570964Z",
     "start_time": "2024-01-29T14:46:25.176630300Z"
    },
    "id": "9d9ff7cc-b51d-4a65-b314-06d55506104a"
   },
   "outputs": [],
   "source": [
    "def getDerivative(y, x, n):\n",
    "    if n == 0:\n",
    "        return y\n",
    "    else:\n",
    "        dy_dx = grad(y, x, torch.ones(x.shape), create_graph=True, retain_graph=True)[0]\n",
    "        return getDerivative(dy_dx, x, n - 1)"
   ]
  },
  {
   "cell_type": "markdown",
   "id": "3351b4bd-8953-4816-87ac-fd5abb029b75",
   "metadata": {
    "id": "3351b4bd-8953-4816-87ac-fd5abb029b75"
   },
   "source": [
    "**rede neural**  \n",
    "Aqui é utilizado um formato ainda mais geral do que no caso do problema unidimensional, mas segue a mesma lógica:\n",
    "\n",
    "* Definir a função construtora `__init__`\n",
    "* Gerar a construção automática da rede de acordo com a quantidade de camadas ocultas e número de neurônios\n",
    "* A função de ativação **Tangente Hiperbólica** é definida como padrão\n",
    "* Os demais comandos como `nn.Linear` e `nn.Sequential`foram explicados no outro notebook"
   ]
  },
  {
   "cell_type": "code",
   "execution_count": null,
   "id": "01fa82fc-8100-4a35-9709-9f3ff1272515",
   "metadata": {
    "ExecuteTime": {
     "end_time": "2024-01-29T14:46:25.204080923Z",
     "start_time": "2024-01-29T14:46:25.194337461Z"
    },
    "id": "01fa82fc-8100-4a35-9709-9f3ff1272515"
   },
   "outputs": [],
   "source": [
    "class NN(torch.nn.Module):\n",
    "    def __init__(\n",
    "        self,\n",
    "        inputDimension,\n",
    "        hiddenDimensions,\n",
    "        outputDimension,\n",
    "        activationFunction=torch.nn.Tanh(),\n",
    "    ):\n",
    "        super().__init__()\n",
    "\n",
    "        modules = []\n",
    "        modules.append(torch.nn.Linear(inputDimension, hiddenDimensions[0]))\n",
    "        modules.append(activationFunction)\n",
    "        for i in range(len(hiddenDimensions) - 1):\n",
    "            modules.append(\n",
    "                torch.nn.Linear(hiddenDimensions[i], hiddenDimensions[i + 1])\n",
    "            )\n",
    "            modules.append(activationFunction)\n",
    "        modules.append(torch.nn.Linear(hiddenDimensions[-1], outputDimension))\n",
    "\n",
    "        self.model = torch.nn.Sequential(*modules)\n",
    "\n",
    "    def forward(self, x):\n",
    "        u = self.model(x)\n",
    "        return u"
   ]
  },
  {
   "cell_type": "markdown",
   "id": "21022e9800868b18",
   "metadata": {
    "id": "21022e9800868b18"
   },
   "source": [
    "**Criação de um grid**\n",
    "\n",
    "Como nosso problema é bidimensional, precisamos criar um grid de pontos, nas direções x e y.  \n",
    "Assim é definida uma função **`getGrid`** que recebe as dimensões de cada lado do quadrado $(L_x, L_y)$ e número de pontos na direção x e y $(N_x, N_y)$\n",
    "\n",
    "**Tome nota** `torch.cat((x.reshape(-1, 1), y.reshape(-1, 1)), 1)` concatena as matrizes x e y achatadas (flattened) em uma única matriz de tamanho $(N_x \\times N_y, 2)$ onde cada linha é um par $(x_i, y_i)$\n",
    "\n"
   ]
  },
  {
   "cell_type": "code",
   "execution_count": null,
   "id": "e86ed635f1d54280",
   "metadata": {
    "ExecuteTime": {
     "end_time": "2024-01-29T14:46:25.240158460Z",
     "start_time": "2024-01-29T14:46:25.237545051Z"
    },
    "id": "e86ed635f1d54280"
   },
   "outputs": [],
   "source": [
    "def getGrid(Lx, Ly, Nx, Ny):\n",
    "    x = torch.linspace(0, Lx, Nx)\n",
    "    y = torch.linspace(0, Ly, Ny)\n",
    "    x, y = torch.meshgrid(x, y, indexing=\"ij\")\n",
    "    x.requires_grad = True\n",
    "    y.requires_grad = True\n",
    "    input = torch.cat((x.reshape(-1, 1), y.reshape(-1, 1)), 1)\n",
    "    return x, y, input"
   ]
  },
  {
   "cell_type": "markdown",
   "id": "4D2-Ucek0V-x",
   "metadata": {
    "id": "4D2-Ucek0V-x"
   },
   "source": [
    "**condição de contorno de Dirichlet na forma forte**\n",
    "\n",
    "Para forçar que não haja deslocamento nas direções $u_y(x,0)$ e $u_x(0,y)$ é possível adotar a estratégia de definir o contorno de maneira **FORTE**, isto é, impondo no deslocamento funções que dependendam das coordenadas."
   ]
  },
  {
   "cell_type": "code",
   "execution_count": null,
   "id": "rrpomPYDzDPq",
   "metadata": {
    "id": "rrpomPYDzDPq"
   },
   "outputs": [],
   "source": [
    "    # Dirichlet boundary conditions through strong enforcement\n",
    "    strongEnforcementx = lambda u_x, x, y: x * u_x\n",
    "    strongEnforcementy = lambda u_y, x, y: y * u_y"
   ]
  },
  {
   "cell_type": "markdown",
   "id": "2957569f-3de2-43dd-9b11-3221bf3d04b9",
   "metadata": {
    "id": "2957569f-3de2-43dd-9b11-3221bf3d04b9"
   },
   "source": [
    "**Parametros Físicos**\n",
    "\n",
    "Da Lei de Hooke em 2D, temos que a matriz de coeficientes materiais é expressa por:\n",
    "\n",
    "$$C = \\frac{E}{1-\\nu^2} \\begin{bmatrix}\n",
    "1 & \\nu & 0 \\\\\n",
    "\\nu & 1 & 0 \\\\\n",
    "0 & 0 & 1 - \\nu\n",
    "\\end{bmatrix}\n",
    "$$\n"
   ]
  },
  {
   "cell_type": "code",
   "execution_count": null,
   "id": "f7459465-221f-43d6-8c9f-0d7ff6938496",
   "metadata": {
    "ExecuteTime": {
     "end_time": "2024-01-29T14:46:25.268383812Z",
     "start_time": "2024-01-29T14:46:25.241594269Z"
    },
    "id": "f7459465-221f-43d6-8c9f-0d7ff6938496"
   },
   "outputs": [],
   "source": [
    "# Dados do Problema\n",
    "Lx = 1      # Comprimento em x\n",
    "Ly = 1      # Comprimento em y\n",
    "E = 1.0     # Modulo de Elasticidade\n",
    "nu = 0.3    # Coeficiente de Poisson\n",
    "\n",
    "C = torch.zeros((3, 3))\n",
    "C[0, 0] = 1\n",
    "C[0, 1] = nu\n",
    "C[1, 0] = nu\n",
    "C[1, 1] = 1\n",
    "C[2, 2] = 1 - nu\n",
    "C *= E / (1 - nu**2)\n"
   ]
  },
  {
   "cell_type": "markdown",
   "id": "ac280a6c-0742-4bf8-b6f2-0995b3680079",
   "metadata": {
    "id": "ac280a6c-0742-4bf8-b6f2-0995b3680079"
   },
   "source": [
    "## Funções para criar a PINN"
   ]
  },
  {
   "cell_type": "markdown",
   "id": "f551c1ad-ef82-4af5-bc7c-658fb6d16913",
   "metadata": {
    "id": "f551c1ad-ef82-4af5-bc7c-658fb6d16913"
   },
   "source": [
    "**calculo do deslocamento**\n",
    "$$\\hat{\\boldsymbol{u}}=(\\hat{u},\\hat{v})^\\intercal=F_{NN}(x)$$\n",
    "\n",
    "os deslocamentos que queremos calcular são resultados da rede.\n",
    "\n",
    "O método **`.unsqueeze(1)`** no PyTorch (ou em bibliotecas baseadas nele, como o SciANN) adiciona uma dimensão extra ao tensor na posição especificada (**no caso, 1,** que é a segunda dimensão).\n",
    "\n",
    "Isso é útil para garantir que o tensor tenha a forma (shape) correta para operações subsequentes."
   ]
  },
  {
   "cell_type": "code",
   "execution_count": null,
   "id": "21eda658-51ba-47bc-a7ff-ed2bb47c4c42",
   "metadata": {
    "ExecuteTime": {
     "end_time": "2024-01-29T14:46:25.240690754Z",
     "start_time": "2024-01-29T14:46:25.237667412Z"
    },
    "id": "21eda658-51ba-47bc-a7ff-ed2bb47c4c42"
   },
   "outputs": [],
   "source": [
    "def getDisplacements(model, input, strongEnforcementx, strongEnforcementy):\n",
    "    u = model(input)\n",
    "    ux = strongEnforcementx(u[:, 0], input[:, 0], input[:, 1]).unsqueeze(1)\n",
    "    uy = strongEnforcementy(u[:, 1], input[:, 0], input[:, 1]).unsqueeze(1)\n",
    "    u = torch.cat((ux, uy), 1)\n",
    "    return u  # model(x)"
   ]
  },
  {
   "cell_type": "markdown",
   "id": "1a05d0fe9ea322d1",
   "metadata": {
    "id": "1a05d0fe9ea322d1"
   },
   "source": [
    "**cálculo das deformações**\n",
    "\n",
    "Da teoria da elasticidade linear, podemos calcular as deformações $\\varepsilon_x, \\varepsilon_y$ e $\\varepsilon_{xy}$ seguindo o equacionamento a seguir\n",
    "\n",
    "$$\\boldsymbol{\\varepsilon}=\\begin{pmatrix}\n",
    "\\frac{\\partial u}{\\partial x}\\\\\n",
    "\\frac{\\partial v}{\\partial y}\\\\\n",
    "\\frac{1}{2}(\\frac{\\partial u}{\\partial y} + \\frac{\\partial v}{\\partial x})\n",
    "\\end{pmatrix}\n",
    "$$\n",
    "\n",
    "vamos definir uma função **`getStrains`** que deve receber: $u, x, y, N_x, N_y$ e retornar as três deformações"
   ]
  },
  {
   "cell_type": "code",
   "execution_count": null,
   "id": "c0300ee04811642e",
   "metadata": {
    "ExecuteTime": {
     "end_time": "2024-01-29T14:46:25.253124539Z",
     "start_time": "2024-01-29T14:46:25.237717218Z"
    },
    "id": "c0300ee04811642e"
   },
   "outputs": [],
   "source": [
    "def getStrains(u, x, y, Nx, Ny):\n",
    "    strain = torch.zeros((3, Nx, Ny))\n",
    "    strain[0] = getDerivative(u[:, 0].reshape(Nx, Ny), x, 1)\n",
    "    strain[1] = getDerivative(u[:, 1].reshape(Nx, Ny), y, 1)\n",
    "    strain[2] = 0.5 * (\n",
    "        getDerivative(u[:, 0].reshape(Nx, Ny), y, 1)\n",
    "        + getDerivative(u[:, 1].reshape(Nx, Ny), x, 1)\n",
    "    )\n",
    "    return strain"
   ]
  },
  {
   "cell_type": "markdown",
   "id": "b9999f25-b7e7-42fa-a1bd-4824a0a32fa3",
   "metadata": {
    "id": "b9999f25-b7e7-42fa-a1bd-4824a0a32fa3"
   },
   "source": [
    "**calculo das funcões de perda**\n",
    "\n",
    "**tensão** $$\\boldsymbol{\\sigma}=\\boldsymbol{C}\\boldsymbol{\\varepsilon}$$\n",
    "\n",
    "**residuo** $$\\boldsymbol{r}=\\nabla \\cdot \\boldsymbol{\\sigma} + \\boldsymbol{p}$$\n",
    "\n",
    "como no caso $\\boldsymbol{p} = 0$ a equação anterior pode ser expressa como:\n",
    "\n",
    "$$\\boldsymbol{r}= \\begin{bmatrix}\n",
    "\\frac{\\partial \\sigma_{11}}{\\partial x_1} + \\frac{\\partial \\sigma_{12}}{\\partial x_{2}} \\\\\n",
    "\\frac{\\partial \\sigma_{21}}{\\partial x_1} + \\frac{\\partial \\sigma_{22}}{\\partial x_{2}}\n",
    "\\end{bmatrix}$$\n",
    "\n",
    "**perda residual** $$\\mathcal{L}_R = \\frac{1}{N}\\sum_i^N \\sum_j^2 (\\hat{\\boldsymbol{r}}_j)^2$$\n",
    "\n",
    "perda do contorno (necessária apenas para a condição de contorno de Neumann quando a forma forte é usada na condição de Dirichlet)\n",
    "\n",
    "$$\\mathcal{L}_B=\\frac{1}{N_{11}}\\sum_i^{N_{11}} (\\hat{\\sigma}_{11}-\\tilde{\\sigma}_{11})^2 + \\frac{1}{N_{22}}\\sum_i^{N_{22}} (\\hat{\\sigma}_{22}-\\tilde{\\sigma}_{22})^2 + \\frac{1}{N_{12}}\\sum_i^{N_{12}} (\\hat{\\sigma}_{12}-\\tilde{\\sigma}_{12})^2$$\n",
    "\n",
    "Pelo cenário definido, tem-se:\n",
    "$$\n",
    "\\begin{aligned}\n",
    "\\sigma_{22}(x_1,L) &= 0 \\hspace{1cm} \\sigma_{11}(L,x_2) = t \\\\\n",
    "\\sigma_{12}(x_1,0) &= 0 \\hspace{1cm} \\sigma_{12}(0,x_2) = 0 \\hspace{1cm} \\sigma_{12}(x_1,L) = 0 \\hspace{1cm} \\sigma_{12}(L,x_2) = 0   \n",
    "\\end{aligned}\n",
    "$$\n"
   ]
  },
  {
   "cell_type": "code",
   "execution_count": null,
   "id": "1b1e36d4-ee7e-4450-8c50-a4ba4fd101e5",
   "metadata": {
    "ExecuteTime": {
     "end_time": "2024-01-29T14:46:25.253818073Z",
     "start_time": "2024-01-29T14:46:25.237762249Z"
    },
    "id": "1b1e36d4-ee7e-4450-8c50-a4ba4fd101e5"
   },
   "outputs": [],
   "source": [
    "def getLossTerms(x, y, u, Nx, Ny, C):\n",
    "    strain = getStrains(u, x, y, Nx, Ny)         # Deformacao\n",
    "    stress = torch.tensordot(C, strain, dims=1)  # Tensoes sig = C * eps\n",
    "\n",
    "    # Derivadas das tensoes\n",
    "    dsig11_dx = getDerivative(stress[0], x, 1)\n",
    "    dsig12_dy = getDerivative(stress[2], y, 1)\n",
    "    dsig21_dx = getDerivative(stress[2], x, 1)\n",
    "    dsig22_dy = getDerivative(stress[1], y, 1)\n",
    "\n",
    "    # equilibrio\n",
    "    EDP_Loss = 0\n",
    "    EDP_Loss += torch.sum((dsig11_dx + dsig12_dy) ** 2) / (Nx * Ny)\n",
    "    EDP_Loss += torch.sum((dsig21_dx + dsig22_dy) ** 2) / (Nx * Ny)\n",
    "\n",
    "    # inicializacao das condicoes de contorno\n",
    "    BC_Loss = 0\n",
    "\n",
    "    # Neumann boundary condition on right edge\n",
    "    traction = 1\n",
    "\n",
    "    ################ inhomogeneous Neumann boundary conditions #################\n",
    "    # homogeneous Neumann boundary conditions still have to be enforced\n",
    "    BC_Loss += torch.sum((stress[0][-1, :] - traction) ** 2) / Nx\n",
    "\n",
    "    # tensao de normal na parte superior\n",
    "    BC_Loss += (torch.sum((stress[1][:, -1] - 0) ** 2) / Nx)\n",
    "\n",
    "    # tensao de cisalhamento na parte superior\n",
    "    BC_Loss += (torch.sum((stress[2][:, -1] - 0) ** 2) / Nx)\n",
    "\n",
    "    # tensao de cisalhamento na parte inferior\n",
    "    BC_Loss += (torch.sum((stress[2][:, 0] - 0) ** 2) / Nx)\n",
    "\n",
    "    # tensao de cisalhamento na lateral esquerda\n",
    "    BC_Loss += (torch.sum((stress[2][0, :] - 0) ** 2) / Ny)\n",
    "\n",
    "    # tensao de cisalhamento na lateral direita\n",
    "    BC_Loss += (torch.sum((stress[2][-1, :] - 0) ** 2) / Ny)\n",
    "\n",
    "    return EDP_Loss, BC_Loss"
   ]
  },
  {
   "cell_type": "markdown",
   "id": "9d4e7265-83d4-4be6-b5d2-018649c32b21",
   "metadata": {
    "id": "9d4e7265-83d4-4be6-b5d2-018649c32b21"
   },
   "source": [
    "## Estrutura do Problema"
   ]
  },
  {
   "cell_type": "markdown",
   "id": "75f533b6-272e-460a-8355-0850025d400f",
   "metadata": {
    "id": "75f533b6-272e-460a-8355-0850025d400f"
   },
   "source": [
    "**hiperparametros**\n",
    "\n",
    "* Haverá 100 pontos de colocação (10 x 10)\n",
    "* A rede terá **3 camadas escondidas** com **20 neurônios**\n",
    "* A função de ativação será a **Tangente Hiperbólica (ou SiLU)**\n",
    "* Será utilizado o **otimizador Adam**.\n",
    "* Serão 501 épocas, com taxa de aprendizagem de 0.01\n",
    "\n",
    "**Tome nota:** **`weightLrFactor`** Esse parâmetro controla um fator de multiplicação aplicado à taxa de aprendizado (learning rate) para os pesos da rede neural (não confundir com a taxa de aprendizado global).\n",
    "\n"
   ]
  },
  {
   "cell_type": "code",
   "execution_count": null,
   "id": "15917078-13cb-4725-9164-cf409ada9530",
   "metadata": {
    "ExecuteTime": {
     "end_time": "2024-01-29T14:46:25.268957210Z",
     "start_time": "2024-01-29T14:46:25.256710423Z"
    },
    "id": "15917078-13cb-4725-9164-cf409ada9530"
   },
   "outputs": [],
   "source": [
    "Nx = 10  # number of collocation points in x\n",
    "Ny = 10  # number of collocation points in y\n",
    "hiddenDimensions = [20, 20, 20]\n",
    "activationFunction = torch.nn.SiLU()\n",
    "\n",
    "epochs = 501  # number of epochs\n",
    "lr = 1e-2  # learning rate\n",
    "weightLrFactor = 1e1\n",
    "selectOptimizer = \"Adam\""
   ]
  },
  {
   "cell_type": "markdown",
   "id": "b309db2e-aa72-4e72-bbd5-0d1df04fa0bf",
   "metadata": {
    "id": "b309db2e-aa72-4e72-bbd5-0d1df04fa0bf"
   },
   "source": [
    "**rede e otimizador**"
   ]
  },
  {
   "cell_type": "code",
   "execution_count": null,
   "id": "7e66f248-a5c1-4ca7-8552-41ffbe2e7828",
   "metadata": {
    "ExecuteTime": {
     "end_time": "2024-01-29T14:46:25.318770859Z",
     "start_time": "2024-01-29T14:46:25.268729472Z"
    },
    "id": "7e66f248-a5c1-4ca7-8552-41ffbe2e7828"
   },
   "outputs": [],
   "source": [
    "model = NN(2, hiddenDimensions, 2, activationFunction)\n",
    "optimizer = torch.optim.Adam(model.parameters(), lr)\n",
    "\n",
    "weights = torch.ones(2)\n",
    "weights.requires_grad = True\n",
    "optimizer.add_param_group({\"params\": weights})\n",
    "optimizer.param_groups[-1][\"lr\"] = lr * weightLrFactor"
   ]
  },
  {
   "cell_type": "markdown",
   "id": "7c2fddfc-395b-4339-bebe-6558fde75679",
   "metadata": {
    "id": "7c2fddfc-395b-4339-bebe-6558fde75679"
   },
   "source": [
    "**pontos do treinamento**"
   ]
  },
  {
   "cell_type": "code",
   "execution_count": null,
   "id": "e8609cae-76eb-450e-9b84-75a69068c7a0",
   "metadata": {
    "ExecuteTime": {
     "end_time": "2024-01-29T14:46:25.320071007Z",
     "start_time": "2024-01-29T14:46:25.311468062Z"
    },
    "id": "e8609cae-76eb-450e-9b84-75a69068c7a0"
   },
   "outputs": [],
   "source": [
    "x, y, input = getGrid(Lx, Ly, Nx, Ny)"
   ]
  },
  {
   "cell_type": "markdown",
   "id": "cc5f755e-e923-49d3-954c-bf09cd8ee74d",
   "metadata": {
    "id": "cc5f755e-e923-49d3-954c-bf09cd8ee74d"
   },
   "source": [
    "## Treinamento"
   ]
  },
  {
   "cell_type": "markdown",
   "id": "c199461d",
   "metadata": {
    "id": "c199461d"
   },
   "source": [
    "**funcao custo / perda total**\n",
    "\n",
    "A função custo é a soma da loss da PDE e das BCs\n",
    "$$C=\\kappa_R\\mathcal{L}_R + \\kappa_B\\mathcal{L}_B$$"
   ]
  },
  {
   "cell_type": "code",
   "execution_count": null,
   "id": "77a11a8d5e28c258",
   "metadata": {
    "ExecuteTime": {
     "end_time": "2024-01-29T14:46:47.560815877Z",
     "start_time": "2024-01-29T14:46:37.045718994Z"
    },
    "colab": {
     "base_uri": "https://localhost:8080/"
    },
    "executionInfo": {
     "elapsed": 22960,
     "status": "ok",
     "timestamp": 1749500895713,
     "user": {
      "displayName": "Paulo Souza",
      "userId": "12141976188582041693"
     },
     "user_tz": 180
    },
    "id": "77a11a8d5e28c258",
    "outputId": "209aa76a-2784-4cb2-c95a-4add9d630d93"
   },
   "outputs": [
    {
     "name": "stdout",
     "output_type": "stream",
     "text": [
      "Epoch: 0/501\t\tDE cost = 9.53e-04\t\tBC cost = 8.13e-01\t\tTotal cost = 8.14e-01\t\tElapsed time = 0.001286\n",
      "Epoch: 50/501\t\tDE cost = 2.69e-05\t\tBC cost = 5.14e-05\t\tTotal cost = 7.83e-05\t\tElapsed time = 0.054951\n",
      "Epoch: 100/501\t\tDE cost = 3.00e-06\t\tBC cost = 1.03e-06\t\tTotal cost = 4.03e-06\t\tElapsed time = 0.042769\n",
      "Epoch: 150/501\t\tDE cost = 1.77e-06\t\tBC cost = 4.11e-07\t\tTotal cost = 2.18e-06\t\tElapsed time = 0.042659\n",
      "Epoch: 200/501\t\tDE cost = 1.51e-06\t\tBC cost = 3.51e-07\t\tTotal cost = 1.87e-06\t\tElapsed time = 0.043300\n",
      "Epoch: 250/501\t\tDE cost = 1.32e-06\t\tBC cost = 3.07e-07\t\tTotal cost = 1.63e-06\t\tElapsed time = 0.042717\n",
      "Epoch: 300/501\t\tDE cost = 1.15e-06\t\tBC cost = 2.75e-07\t\tTotal cost = 1.43e-06\t\tElapsed time = 0.057050\n",
      "Epoch: 350/501\t\tDE cost = 9.99e-07\t\tBC cost = 2.53e-07\t\tTotal cost = 1.25e-06\t\tElapsed time = 0.045472\n",
      "Epoch: 400/501\t\tDE cost = 8.66e-07\t\tBC cost = 2.38e-07\t\tTotal cost = 1.10e-06\t\tElapsed time = 0.042552\n",
      "Epoch: 450/501\t\tDE cost = 7.52e-07\t\tBC cost = 2.27e-07\t\tTotal cost = 9.79e-07\t\tElapsed time = 0.042692\n",
      "Epoch: 500/501\t\tDE cost = 6.54e-07\t\tBC cost = 2.17e-07\t\tTotal cost = 8.71e-07\t\tElapsed time = 0.043711\n",
      "Total elapsed time: 22.960232\n",
      "Average elapsed time per epoch: 0.045829\n"
     ]
    }
   ],
   "source": [
    "##################################################\n",
    "# Inicializacoes\n",
    "EDP_LossHistory = np.zeros(epochs)  # historico da edp\n",
    "BC_LossHistory = np.zeros(epochs)   # historico das BCs\n",
    "costHistory = np.zeros(epochs)      # historico do custo\n",
    "start = time.perf_counter()         # contador de tempo\n",
    "start0 = start                      # tempo inicial\n",
    "#################################################\n",
    "# Inicio da otimizacao\n",
    "for epoch in range(epochs):\n",
    "    optimizer.zero_grad()   #zerando os gradientes\n",
    "    uPred = getDisplacements(model, input, strongEnforcementx, strongEnforcementy) #gerando o deslocamento via rede\n",
    "    lossTerms = getLossTerms(x, y, uPred, Nx, Ny, C)  # gerando as funcoes de perda da EDP e das BCs\n",
    "    cost = weights[0] * lossTerms[0] + weights[1] * lossTerms[1]  # funcao custo\n",
    "    cost.backward()               # aplicacao do backpropagation da funcao custo\n",
    "    weights.grad *= -1            # inversao de sinais dos gradientes\n",
    "    optimizer.step()              # passo da otimizacao\n",
    "\n",
    "    # Historico das funçoes de perda e custo\n",
    "    EDP_LossHistory[epoch] = lossTerms[0].detach()\n",
    "    BC_LossHistory[epoch] = lossTerms[1].detach()\n",
    "    costHistory[epoch] = lossTerms[0].detach() + lossTerms[1].detach()\n",
    "\n",
    "    # Print formatado dos resultados\n",
    "    if epoch % 50 == 0:\n",
    "        elapsedTime = (time.perf_counter() - start) / 50\n",
    "        string = \"Epoch: {}/{}\\t\\tDE cost = {:.2e}\\t\\tBC cost = {:.2e}\\t\\tTotal cost = {:.2e}\\t\\tElapsed time = {:2f}\"\n",
    "        print(\n",
    "            string.format(\n",
    "                epoch,\n",
    "                epochs,\n",
    "                EDP_LossHistory[epoch],\n",
    "                BC_LossHistory[epoch],\n",
    "                costHistory[epoch],\n",
    "                elapsedTime,\n",
    "            )\n",
    "        )\n",
    "        start = time.perf_counter()\n",
    "elapsedTime = time.perf_counter() - start0\n",
    "string = \"Total elapsed time: {:2f}\\nAverage elapsed time per epoch: {:2f}\"\n",
    "print(string.format(elapsedTime, elapsedTime / epochs))"
   ]
  },
  {
   "cell_type": "markdown",
   "id": "42e63a9d-ea31-4930-90bb-b429637ca35c",
   "metadata": {
    "id": "42e63a9d-ea31-4930-90bb-b429637ca35c"
   },
   "source": [
    "## Pos-processamento"
   ]
  },
  {
   "cell_type": "markdown",
   "id": "954f6de0-2ef2-4c1d-bad3-714c954ac14f",
   "metadata": {
    "id": "954f6de0-2ef2-4c1d-bad3-714c954ac14f"
   },
   "source": [
    "**predicao dos deslocamentos**"
   ]
  },
  {
   "cell_type": "code",
   "execution_count": null,
   "id": "5cd55fa0-2d9e-4e79-be43-3f4164db12ae",
   "metadata": {
    "ExecuteTime": {
     "end_time": "2024-01-29T14:46:48.476606887Z",
     "start_time": "2024-01-29T14:46:48.121624160Z"
    },
    "colab": {
     "base_uri": "https://localhost:8080/",
     "height": 884
    },
    "executionInfo": {
     "elapsed": 542,
     "status": "ok",
     "timestamp": 1749501999047,
     "user": {
      "displayName": "Paulo Souza",
      "userId": "12141976188582041693"
     },
     "user_tz": 180
    },
    "id": "5cd55fa0-2d9e-4e79-be43-3f4164db12ae",
    "outputId": "9b45480d-f23b-414f-bf23-541c08120c2e"
   },
   "outputs": [
    {
     "data": {
      "image/png": "[encoded data removed]",
      "text/plain": [
       "<Figure size 640x480 with 2 Axes>"
      ]
     },
     "metadata": {},
     "output_type": "display_data"
    },
    {
     "data": {
      "image/png": "[encoded data removed]",
      "text/plain": [
       "<Figure size 640x480 with 2 Axes>"
      ]
     },
     "metadata": {},
     "output_type": "display_data"
    }
   ],
   "source": [
    "Nx_ = 100\n",
    "Ny_ = 100\n",
    "x_, y_, input_ = getGrid(Lx, Ly, Nx_, Ny_)\n",
    "upred = getDisplacements(model, input_, strongEnforcementx, strongEnforcementy)\n",
    "strain = getStrains(upred, x_, y_, Nx_, Ny_)\n",
    "\n",
    "#### Ajustando as dimensoes\n",
    "xx = x_.detach()\n",
    "yy = y_.detach()\n",
    "u_x = upred[:, 0].reshape(Nx_, Ny_).detach()\n",
    "u_y = upred[:, 1].reshape(Nx_, Ny_).detach()\n",
    "\n",
    "##############################################\n",
    "##           Fazendo os graficos            ##\n",
    "##############################################\n",
    "##      DESLOCAMENTO NA DIRECAO DE X        ##\n",
    "fig, ax = plt.subplots()\n",
    "cp = ax.pcolormesh(xx, yy, u_x, cmap=plt.cm.jet, shading='auto')\n",
    "fig.colorbar(cp)\n",
    "ax.plot(x.detach(), y.detach(), \"k.\")\n",
    "plt.gca().set_aspect(\"equal\", adjustable=\"box\")\n",
    "ax.set_title(\"$u_x$\")\n",
    "plt.show()\n",
    "\n",
    "##############################################\n",
    "##      DESLOCAMENTO NA DIRECAO DE Y        ##\n",
    "fig, ax = plt.subplots()\n",
    "cp = ax.pcolormesh(xx, yy, u_y, cmap=plt.cm.jet, shading='auto')\n",
    "fig.colorbar(cp)\n",
    "ax.plot(x.detach(), y.detach(), \"k.\")\n",
    "plt.gca().set_aspect(\"equal\", adjustable=\"box\")\n",
    "ax.set_title(\"$u_y$\")\n",
    "plt.show()"
   ]
  },
  {
   "cell_type": "markdown",
   "id": "44b677c7-9d31-4451-8562-8aa347e04726",
   "metadata": {
    "id": "44b677c7-9d31-4451-8562-8aa347e04726"
   },
   "source": [
    "**histórico de treinamento**"
   ]
  },
  {
   "cell_type": "code",
   "execution_count": null,
   "id": "77a6c235-0210-40aa-a4d4-b93afc51989f",
   "metadata": {
    "ExecuteTime": {
     "end_time": "2024-01-29T14:46:48.116622673Z",
     "start_time": "2024-01-29T14:46:47.564363806Z"
    },
    "colab": {
     "base_uri": "https://localhost:8080/",
     "height": 430
    },
    "executionInfo": {
     "elapsed": 378,
     "status": "ok",
     "timestamp": 1749502044668,
     "user": {
      "displayName": "Paulo Souza",
      "userId": "12141976188582041693"
     },
     "user_tz": 180
    },
    "id": "77a6c235-0210-40aa-a4d4-b93afc51989f",
    "outputId": "af10d4ff-447e-4d31-c497-7996edb2e929"
   },
   "outputs": [
    {
     "data": {
      "image/png": "[encoded data removed]",
      "text/plain": [
       "<Figure size 640x480 with 1 Axes>"
      ]
     },
     "metadata": {},
     "output_type": "display_data"
    }
   ],
   "source": [
    "fig, ax = plt.subplots()\n",
    "ax.plot(costHistory, \"k\", label=\"Total\")\n",
    "ax.plot(EDP_LossHistory, \"r:\", label=\"DE loss\")\n",
    "ax.plot(BC_LossHistory, \"b:\", label=\"BC loss\")\n",
    "ax.set_yscale(\"log\")\n",
    "ax.grid()\n",
    "ax.legend()\n",
    "plt.show()"
   ]
  }
 ],
 "metadata": {
  "colab": {
   "provenance": []
  },
  "kernelspec": {
   "display_name": "Python 3",
   "name": "python3"
  },
  "language_info": {
   "name": "python"
  }
 },
 "nbformat": 4,
 "nbformat_minor": 5
}
