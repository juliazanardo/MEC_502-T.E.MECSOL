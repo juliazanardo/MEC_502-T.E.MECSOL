{
 "cells": [
  {
   "cell_type": "markdown",
   "metadata": {
    "id": "37_lIK8dk0py"
   },
   "source": [
    "# Viga de Euler-Bernoulli\n",
    "\n",
    "Exemplo baseado na documentação e em livros de Mecânica do Sólidos  \n",
    "**Notebook por:** Paulo de Souza Silva  \n",
    "**Data:** Maio/Junho de 2025\n"
   ]
  },
  {
   "cell_type": "markdown",
   "metadata": {
    "id": "im18bSN9k6FC"
   },
   "source": [
    "**IGNORE ESTE CÓDIGO INICIAL**\n",
    "\n",
    "* Se a figura da viga não aparecer, basta rodá-lo.\n"
   ]
  },
  {
   "cell_type": "code",
   "execution_count": null,
   "metadata": {
    "colab": {
     "base_uri": "https://localhost:8080/",
     "height": 317
    },
    "executionInfo": {
     "elapsed": 1896,
     "status": "ok",
     "timestamp": 1750884027525,
     "user": {
      "displayName": "Paulo Souza",
      "userId": "12141976188582041693"
     },
     "user_tz": 180
    },
    "id": "k26KsA5VsQ8O",
    "outputId": "5ee1413e-adbd-4475-e98b-acbe912f2b93"
   },
   "outputs": [
    {
     "data": {
      "image/png": "[encoded data removed]",
      "text/plain": [
       "<PIL.Image.Image image mode=P size=400x300>"
      ]
     },
     "metadata": {},
     "output_type": "display_data"
    }
   ],
   "source": [
    "import requests\n",
    "from PIL import Image\n",
    "from io import BytesIO\n",
    "\n",
    "file_id = '1QIS7MK41m-Dd-d6rZ8mM0iP96omcy17w'\n",
    "url = f'https://drive.google.com/uc?export=view&id={file_id}'\n",
    "\n",
    "response = requests.get(url)\n",
    "img = Image.open(BytesIO(response.content))\n",
    "\n",
    "new_size = (400, 300)  # (largura, altura) em pixels\n",
    "img_resized = img.resize(new_size)\n",
    "\n",
    "display(img_resized)"
   ]
  },
  {
   "cell_type": "markdown",
   "metadata": {
    "id": "mZE6PuxKum9m"
   },
   "source": [
    "## Obtenção da Solução Analítica\n",
    "\n",
    "A viga engastada com carga distribuída é um problema comum da formulação de Euler-Bernoulli, cujo o formalismo matemático (Gere,2003; Beer, 2017) pode ser expresso por:\n",
    "\n",
    "$$EI\\frac{d^4y}{dx^4} = - w(x)$$\n",
    "\n",
    "considerando o carregamento para baixo **positivo**.\n",
    "\n",
    "Por ser uma equação diferencial de quarta ordem a mesma exige quatro condições para ser resolvida.\n",
    "\n",
    "Das considerações de **força cortante** e **momento fletor**, temos que **nessa configuração da Figura**:\n",
    "$$V(x) = w(L-x) \\hspace{2cm} M(x) = -w \\frac{(L-x)^2}{2}$$\n",
    "\n",
    "Para o formalismo adotado, temos que:\n",
    "$$EI\\frac{d^3y}{dx^3} = V(x) \\hspace{2cm} EI\\frac{d^2y}{dx^2} = M(x)$$\n",
    "\n",
    "Com isso em mente, podemos resolver a EDO de quarta ordem, basta aplicarmos uma integral quatro vezes e depois considerar as condições.\n",
    "\n"
   ]
  },
  {
   "cell_type": "markdown",
   "metadata": {
    "id": "TlntlBkO6lf6"
   },
   "source": [
    "### Integrações\n",
    "Como sabemos que w é constante ele não depende de x e logo temos:\n",
    "\n",
    "### 1ª Integração\n",
    "$$EIy''' = -wx + C_1 = V(x)$$\n",
    "\n",
    "### 2ª Integração\n",
    "$$EIy'' = -w\\frac{x^2}{2} + C_1x + C_2= M(x)$$\n",
    "\n",
    "### 3ª Integração\n",
    "$$EIy' = -w\\frac{x^3}{6} + C_1\\frac{x^2}{2} + C_2x + C_3$$\n",
    "\n",
    "### 4ª Integração\n",
    "$$EIy = -w\\frac{x^4}{24} + C_1\\frac{x^3}{6} + C_2\\frac{x^2}{2} + C_3x + C_4$$\n",
    "\n",
    "Agora vamos analisar, as condições de contorno e as definições de momento fletor e força cortante para encontrar as constantes.\n",
    "\n",
    "No engaste ($x=0$), nós não teremos deslocamentos e nem rotações, o que leva a:\n",
    "$$y(x=0) = 0 \\hspace{2cm} y'(x=0) = 0$$\n",
    "\n",
    "o que implica das integrações 3 e 4 que\n",
    "$$\\fbox{$C_3 = C_4 = 0$}$$\n",
    "\n",
    "Ainda no engaste, fletor e cortante valem:\n",
    "$$V(0) = wL \\hspace{2cm} M(0) = -wL^2/2$$\n",
    "\n",
    "da 1ª integração:\n",
    "$$V(0) = -w\\cdot0 + C_1 = wL \\Rightarrow \\fbox{$C_1 = wL$}$$\n",
    "desse resultado, do momento fletor e da segunda integração\n",
    "$$M(0) = -w\\cdot0^2/2 + C_1\\cdot 0 + C_2 = -wL^2/2 \\Rightarrow \\fbox{$C_2 = -wL^2/2$}$$\n",
    "\n",
    "Assim, podemos então substituir na quarta integral e passar a relação EI dividindo e encontramos a equação do deslocamento dessa viga\n",
    "\n",
    "$$y = \\frac{-w}{EI}\\left(\\frac{x^4}{24} - \\frac{Lx^3}{6}+\\frac{L^2x^2}{4}\\right)$$\n",
    "\n",
    "\\\\\n",
    "**NOTA** Seria possível usar as condições de $V(L) = 0$ e $M(L) = 0$ e chegar no mesmo resultado."
   ]
  },
  {
   "cell_type": "markdown",
   "metadata": {
    "id": "_WFtSHDa3obO"
   },
   "source": [
    "> **Obs:** É preciso ter muito cuidado com relação aos sinais (que devem ser adotados de maneira coerente), em algumas literaturas  é possível encontrar:\n",
    "$$EI\\frac{d^4y}{dx^4} = w(x)$$\n",
    "nesse caso, assume-se que o carregamento para baixo é **negativo**"
   ]
  },
  {
   "cell_type": "markdown",
   "metadata": {
    "id": "pBOEIM7R2PvT"
   },
   "source": [
    "**referências**  \n",
    "Beer, F., E. Johnston, J. DeWolf and D. Mazurek. Mechanics of Materials, 7e in SI Units. Stress 1.11 (2017): 1-12.  \n",
    "Gere, J. M. Mecânica dos Materiais, Editora Thomson Learning. 2003."
   ]
  },
  {
   "cell_type": "markdown",
   "metadata": {
    "id": "6uCtUwDf5n2J"
   },
   "source": [
    "## Resolução da Viga com DeepXDE"
   ]
  },
  {
   "cell_type": "markdown",
   "metadata": {
    "id": "0zra6PvpYmqV"
   },
   "source": [
    "**instalar o DeepXDE no Colab**\n",
    "\n",
    "[Installation DeepXDE](https://deepxde.readthedocs.io/en/latest/user/installation.html)\n",
    "\n",
    "* Para instalar no Colab, usamos antes do `pip` o símbolo `!`\n",
    "* Para a célula ficar limpa ao fim da instalação adicionamos o `-q` entre o `install` e o nome da biblioteca"
   ]
  },
  {
   "cell_type": "code",
   "execution_count": 1,
   "metadata": {
    "colab": {
     "base_uri": "https://localhost:8080/"
    },
    "executionInfo": {
     "elapsed": 14005,
     "status": "ok",
     "timestamp": 1751312850161,
     "user": {
      "displayName": "Paulo Souza",
      "userId": "12141976188582041693"
     },
     "user_tz": 180
    },
    "id": "eJ3OQD4eXorE",
    "outputId": "4b278588-cbef-4f11-fa00-f9febaf45fab"
   },
   "outputs": [
    {
     "name": "stdout",
     "output_type": "stream",
     "text": [
      "\u001b[?25l   \u001b[90m━━━━━━━━━━━━━━━━━━━━━━━━━━━━━━━━━━━━━━━━\u001b[0m \u001b[32m0.0/194.2 kB\u001b[0m \u001b[31m?\u001b[0m eta \u001b[36m-:--:--\u001b[0m\r\u001b[2K   \u001b[90m━━━━━━━━━━━━━━━━━━━━━━━━━━━━━━━━━━━━━━━━\u001b[0m \u001b[32m194.2/194.2 kB\u001b[0m \u001b[31m9.9 MB/s\u001b[0m eta \u001b[36m0:00:00\u001b[0m\n",
      "\u001b[?25h\u001b[?25l   \u001b[90m━━━━━━━━━━━━━━━━━━━━━━━━━━━━━━━━━━━━━━━━\u001b[0m \u001b[32m0.0/107.8 kB\u001b[0m \u001b[31m?\u001b[0m eta \u001b[36m-:--:--\u001b[0m\r\u001b[2K   \u001b[90m━━━━━━━━━━━━━━━━━━━━━━━━━━━━━━━━━━━━━━━━\u001b[0m \u001b[32m107.8/107.8 kB\u001b[0m \u001b[31m9.4 MB/s\u001b[0m eta \u001b[36m0:00:00\u001b[0m\n",
      "\u001b[?25h"
     ]
    }
   ],
   "source": [
    "! pip install -q deepxde"
   ]
  },
  {
   "cell_type": "markdown",
   "metadata": {
    "id": "H-IVa6e5YtEI"
   },
   "source": [
    "**bibliotecas principais**\n",
    "\n",
    "* Aqui chamamos as bibliotecas principais que são padrões como `numpy` e o `matplotlib`\n",
    "* Além delas, é claro, vamos chamar o `deepxde`; como ele tem como backends o `tensorflow, pytorch, jax` e o `paddle` uma dessas também tem que ser chamada, escolheremos o pytorch.\n",
    "* Devemos dizer ao DeepXDE que o pytorch será nosso backend e usamos o comando `backend.backend_name`"
   ]
  },
  {
   "cell_type": "code",
   "execution_count": 2,
   "metadata": {
    "colab": {
     "base_uri": "https://localhost:8080/"
    },
    "collapsed": true,
    "executionInfo": {
     "elapsed": 10904,
     "status": "ok",
     "timestamp": 1751312889523,
     "user": {
      "displayName": "Paulo Souza",
      "userId": "12141976188582041693"
     },
     "user_tz": 180
    },
    "id": "40fRT4m6YfgT",
    "outputId": "b73952e3-1812-4eb9-f4a6-ec050c209627"
   },
   "outputs": [
    {
     "name": "stdout",
     "output_type": "stream",
     "text": [
      "No backend selected.\n",
      "Finding available backend...\n"
     ]
    },
    {
     "name": "stderr",
     "output_type": "stream",
     "text": [
      "Using backend: tensorflow.compat.v1\n",
      "Other supported backends: tensorflow, pytorch, jax, paddle.\n",
      "paddle supports more examples now and is recommended.\n",
      "WARNING:tensorflow:From /usr/local/lib/python3.11/dist-packages/tensorflow/python/compat/v2_compat.py:98: disable_resource_variables (from tensorflow.python.ops.resource_variables_toggle) is deprecated and will be removed in a future version.\n",
      "Instructions for updating:\n",
      "non-resource variables are not supported in the long term\n"
     ]
    },
    {
     "name": "stdout",
     "output_type": "stream",
     "text": [
      "Found tensorflow.compat.v1\n",
      "Setting the default backend to \"tensorflow.compat.v1\". You can change it in the ~/.deepxde/config.json file or export the DDE_BACKEND environment variable. Valid options are: tensorflow.compat.v1, tensorflow, pytorch, jax, paddle (all lowercase)\n"
     ]
    }
   ],
   "source": [
    "import numpy as np\n",
    "import matplotlib.pyplot as plt\n",
    "import deepxde as dde\n",
    "import torch\n",
    "dde.backend.backend_name = \"pytorch\""
   ]
  },
  {
   "cell_type": "markdown",
   "metadata": {
    "id": "Eryt5binADvw"
   },
   "source": [
    "**parâmetros do problema**"
   ]
  },
  {
   "cell_type": "code",
   "execution_count": 3,
   "metadata": {
    "executionInfo": {
     "elapsed": 8,
     "status": "ok",
     "timestamp": 1751313040807,
     "user": {
      "displayName": "Paulo Souza",
      "userId": "12141976188582041693"
     },
     "user_tz": 180
    },
    "id": "jz4ihuGiQU7o"
   },
   "outputs": [],
   "source": [
    "L = 1\n",
    "w = 1\n",
    "EI = 1"
   ]
  },
  {
   "cell_type": "markdown",
   "metadata": {
    "id": "uplLwm7nj8E_"
   },
   "source": [
    "**solucao analitica**"
   ]
  },
  {
   "cell_type": "code",
   "execution_count": 4,
   "metadata": {
    "executionInfo": {
     "elapsed": 39,
     "status": "ok",
     "timestamp": 1751313044569,
     "user": {
      "displayName": "Paulo Souza",
      "userId": "12141976188582041693"
     },
     "user_tz": 180
    },
    "id": "AvP_NzrQZWsW"
   },
   "outputs": [],
   "source": [
    "def func(x):\n",
    "    return (-w/EI)*((x**4)/24 - ((L*x**3)/6) + (L**2 * x**2 / 4))"
   ]
  },
  {
   "cell_type": "markdown",
   "metadata": {
    "id": "WnR7KvDdOHX7"
   },
   "source": [
    "**Definindo o Intervalo**\n",
    "\n",
    "Como temos um problema 1D, podemos definir o intervalo com auxílio da **classe** `geometry`\n",
    "* `geometry.geometry_1d.Interval(l,r)`\n",
    "\n",
    "em que l é o valor a esquerda e r o valor a direita (no nosso caso a origem até o comprimento da viga)"
   ]
  },
  {
   "cell_type": "code",
   "execution_count": 5,
   "metadata": {
    "executionInfo": {
     "elapsed": 11,
     "status": "ok",
     "timestamp": 1751313807219,
     "user": {
      "displayName": "Paulo Souza",
      "userId": "12141976188582041693"
     },
     "user_tz": 180
    },
    "id": "Y5SXmTweY7O1"
   },
   "outputs": [],
   "source": [
    "geom = dde.geometry.geometry_1d.Interval(0, L)"
   ]
  },
  {
   "cell_type": "markdown",
   "metadata": {
    "id": "K9ersD6Cjdee"
   },
   "source": [
    "### Derivadas Uteis e Definicao da EDO do problema\n",
    "\n",
    "Como estamos usando o Pytorch, podemos fazer as derivadas considerando o uso da classe `grad` (remete a gradiente e as funções autograd, internas as bibliotecas como o próprio Pytorch, TensorFlow etc)\n",
    "\n",
    "A estratégia é, calcular a derivada segunda e a derivada terceira em um primeiro momento, para serem usadas nas condições de contorno.\n",
    "\n",
    "Para isso usamos as opções `grad.hessian` e `grad.jacobian`\n",
    "\n",
    "> **1. JACOBIANO**\n",
    "* Para um função escalar $f(x)$, o Jacobiano é simplemente a **primeira derivada** com respeito a variável  \n",
    "$$\\frac{df}{dx}$$\n",
    "* Para um função multivariável $f(x,y)$ em 2D, o Jacobiano é um vetor de derivadas parciais com relação a cada variável.  \n",
    "$$J = \\begin{bmatrix}\n",
    "\\frac{\\partial f}{\\partial x} \\\\\n",
    "\\frac{\\partial f}{\\partial y}\n",
    "\\end{bmatrix}$$\n",
    "\n",
    "> **2. HESSIANO**\n",
    "* O Hessiano é uma matriz de derivadas parciais de segunda ordem;\n",
    "* Para um função escalar $f(x)$ em 1D, é apenas a **segunda derivada** com respeito a $x$.\n",
    "$$\\frac{d^2f}{dx^2}$$\n",
    "* Para um função multivariável $f(x,y)$ em 2D, é uma matriz que inclui todos derivaradas de segunda ordem possível.\n",
    "$$H = \\begin{bmatrix}\n",
    "\\frac{\\partial^2f}{\\partial x^2} & \\frac{\\partial ^2f}{\\partial x \\partial y} \\\\\n",
    "\\frac{\\partial^2f}{\\partial y \\partial x} & \\frac{\\partial^2f}{\\partial y^2}\n",
    "\\end{bmatrix}$$\n",
    "\n",
    "**Ver vídeo:** [DeepXDE Tutorial 2](https://youtu.be/Nsf5bmI54oc?si=gkTdPnNFhr7ZWYDi)\n",
    "\n",
    "Uma estratégia similar decorre para a EDO do nosso problema, que tem derivada de 4 ordem."
   ]
  },
  {
   "cell_type": "code",
   "execution_count": 7,
   "metadata": {
    "executionInfo": {
     "elapsed": 12,
     "status": "ok",
     "timestamp": 1751314654918,
     "user": {
      "displayName": "Paulo Souza",
      "userId": "12141976188582041693"
     },
     "user_tz": 180
    },
    "id": "f4s4yt35ZOaC"
   },
   "outputs": [],
   "source": [
    "# Derivadas de Ordem 2\n",
    "def ddy(x, y):\n",
    "    return dde.grad.hessian(y, x)\n",
    "\n",
    "# Derivada de Ordem 1 da Derivada de Ordem 2 (3 Derivada)\n",
    "def dddy(x, y):\n",
    "    return dde.grad.jacobian(ddy(x, y), x)"
   ]
  },
  {
   "cell_type": "code",
   "execution_count": null,
   "metadata": {
    "executionInfo": {
     "elapsed": 42,
     "status": "ok",
     "timestamp": 1751314653208,
     "user": {
      "displayName": "Paulo Souza",
      "userId": "12141976188582041693"
     },
     "user_tz": 180
    },
    "id": "DwGK-u0gZQdY"
   },
   "outputs": [],
   "source": [
    "# Definicao da EDO do problema\n",
    "def pde(x, y):\n",
    "    # Chamando a funcao da derivada segunda\n",
    "    dy_xx = ddy(x, y)\n",
    "    # Usando o Hessiano para derivar duas vezes (4 ordem)\n",
    "    dy_xxxx = dde.grad.hessian(dy_xx, x)\n",
    "    return EI*dy_xxxx + w"
   ]
  },
  {
   "cell_type": "markdown",
   "metadata": {
    "id": "ch-RRh2RjMQW"
   },
   "source": [
    "### Condições de Contorno\n",
    "\n",
    "Como estamos trabalhando em um problema 1D, os pontos de teste que usamos são sempre conferidos somente **um de cada vez** tornando-se **um ponto** do domínio, logo:\n",
    "* Se estamos olhando **na esquerda do domínio** `x[0]`$\\approx$ `0`\n",
    "* Se estamos olhando **na direita do domínio** `x[0]`$\\approx$ `L`\n",
    "\n",
    "Se o dominio fosse bi-dimensional, **cada ponto** teria **duas coordendas** `x[0]` e `x[1]`\n",
    "\n",
    "Dessa forma e pra evitar erros numéricos, podemos definir que:\n",
    "* o contorno a esquerda (`boundary_l`) e\n",
    "* a direita (`boundary_r`)\n",
    "\n",
    "podem ser definidos como segue, em que retornam um valor verdadeiro para:\n",
    "* `x[0]` próximo a zero e\n",
    "* `x[0]` próximo a L.\n",
    "\n",
    "Já o `on_boundary` é um **booleano** que o próprio DeepXDE vai definir para que a avaliação seja de fato feita **somente na fronteira**."
   ]
  },
  {
   "cell_type": "code",
   "execution_count": 8,
   "metadata": {
    "executionInfo": {
     "elapsed": 38,
     "status": "ok",
     "timestamp": 1751314679842,
     "user": {
      "displayName": "Paulo Souza",
      "userId": "12141976188582041693"
     },
     "user_tz": 180
    },
    "id": "WhHRRjEPZSYB"
   },
   "outputs": [],
   "source": [
    "def boundary_l(x, on_boundary):\n",
    "    return on_boundary and dde.utils.isclose(x[0], 0)\n",
    "\n",
    "def boundary_r(x, on_boundary):\n",
    "    return on_boundary and dde.utils.isclose(x[0], L)"
   ]
  },
  {
   "cell_type": "markdown",
   "metadata": {
    "id": "Jmlwahyya0xe"
   },
   "source": [
    "Seguindo com relação as condições de contorno, como definidos de fato quais pontos são nas fronteiras, podemos declarar as quatro condições:\n",
    "* bc1 - $y$ em x = 0 deve ser nula (**condição de Dirichlet**)\n",
    "* bc2 - $dy/dx$ em x = 0 deve ser nula (**condição de Neumann**)\n",
    "* bc3 - $d^2y/dx^2$ em $x = L$ deve ser nulo (**Momento Fletor**)  \n",
    "* bc4 - $d^3y/dx^3$ em $x = L$ deve ser nulo (**Força Cortante**)\n",
    "\n",
    "* Para bc1 e bc2 existem duas classes específicas **`icbc.DirichletBC`** e **`icbc.NeumannBC`**.\n",
    "\n",
    "* Como bc3 e bc4 exigem expressões além das condições tradicionais, devemos usar uma terceira classe que é a **`icbc.OperatorBC`** (funciona como uma função resíduo).\n",
    "\n",
    "Dentro de cada uma delas, precisamos definir:\n",
    "* geometria,\n",
    "* uma função (ou valor via função), e\n",
    "* qual posição do contorno"
   ]
  },
  {
   "cell_type": "code",
   "execution_count": 9,
   "metadata": {
    "executionInfo": {
     "elapsed": 43,
     "status": "ok",
     "timestamp": 1751314950638,
     "user": {
      "displayName": "Paulo Souza",
      "userId": "12141976188582041693"
     },
     "user_tz": 180
    },
    "id": "6j9ZSNhrZabe"
   },
   "outputs": [],
   "source": [
    "bc1 = dde.icbc.DirichletBC(geom, lambda x: 0, boundary_l)\n",
    "bc2 = dde.icbc.NeumannBC(geom, lambda x: 0, boundary_l)\n",
    "bc3 = dde.icbc.OperatorBC(geom, lambda x, y, _: ddy(x, y), boundary_r)\n",
    "bc4 = dde.icbc.OperatorBC(geom, lambda x, y, _: dddy(x, y), boundary_r)"
   ]
  },
  {
   "cell_type": "markdown",
   "metadata": {
    "id": "aU8wSPNqeBnL"
   },
   "source": [
    "**Obs:** `_` aqui é um *placeholder* para input_gradients, se precisar (não usado aqui)."
   ]
  },
  {
   "cell_type": "markdown",
   "metadata": {
    "id": "WPIka9ZhkUm0"
   },
   "source": [
    "### Dados para o DeepXDE\n",
    "[Modulo data.pde](https://deepxde.readthedocs.io/en/latest/modules/deepxde.data.html#module-deepxde.data.pde)\n",
    "\n",
    "Agora que temos a nossa equação diferencial e as condições de contorno, definimos o conjunto de **\"dados\"** para nossa rede, na ocasião devemos usar o módulo `data.PDE` dentro dele chamamos e definimos:\n",
    "* `geometry` - geometria\n",
    "* `pde` - equação diferencial\n",
    "* `bcs` - as condições de contorno\n",
    "* `num_domain` número inteiro de pontos dentro do domínio para o **treinamento**\n",
    "* `num_boundary` número inteiro de pontos de **treino** na fronteira\n",
    "* `num_test` número inteiro de pontos de **teste**\n",
    "\n",
    "Outras coisas podem ser definidas, como: **tipo de distribuição** para os dados de treinamento, dados de uma **solução de referência** etc"
   ]
  },
  {
   "cell_type": "code",
   "execution_count": 11,
   "metadata": {
    "executionInfo": {
     "elapsed": 38,
     "status": "ok",
     "timestamp": 1751315019888,
     "user": {
      "displayName": "Paulo Souza",
      "userId": "12141976188582041693"
     },
     "user_tz": 180
    },
    "id": "pyHz01ReZcbk"
   },
   "outputs": [],
   "source": [
    "data = dde.data.PDE(\n",
    "    geom,\n",
    "    pde,\n",
    "    [bc1, bc2, bc3, bc4],\n",
    "    num_domain=10,\n",
    "    num_boundary=2,\n",
    ")"
   ]
  },
  {
   "cell_type": "code",
   "execution_count": null,
   "metadata": {
    "id": "IM5UP9EjmSL1"
   },
   "outputs": [],
   "source": [
    "# data = dde.data.PDE(\n",
    "#     geom,\n",
    "#     pde,\n",
    "#     [bc1, bc2, bc3, bc4],\n",
    "#     num_domain=10,\n",
    "#     num_boundary=2,\n",
    "#     solution=func,\n",
    "#     num_test=100,\n",
    "# )"
   ]
  },
  {
   "cell_type": "markdown",
   "metadata": {
    "id": "-2FGMvdDkcbd"
   },
   "source": [
    "### Criação da Rede\n",
    "[PytorchFNN](https://deepxde.readthedocs.io/en/latest/modules/deepxde.nn.pytorch.html#module-deepxde.nn.pytorch.fnn)\n",
    "\n",
    "Agora, precisamos definir o **formato** da nossa rede, sua **função de ativação**, o **tipo de inicializador** dos pesos e vieses etc:\n",
    "\n",
    "* Vamos adotar **1 entrada**, **1 saída** e **3 camadas ocultas** com **20 neurônios**\n",
    "* rede Fully-Connected (FNN)\n",
    "* Nossa função de ativação será a **tangente hiperbólica `tanh`**\n",
    "* A função de inicialização de pesos será a **`Glorot uniform`**"
   ]
  },
  {
   "cell_type": "code",
   "execution_count": 12,
   "metadata": {
    "executionInfo": {
     "elapsed": 3,
     "status": "ok",
     "timestamp": 1751315022142,
     "user": {
      "displayName": "Paulo Souza",
      "userId": "12141976188582041693"
     },
     "user_tz": 180
    },
    "id": "4H3DxPXBZeoF"
   },
   "outputs": [],
   "source": [
    "layer_size = [1] + [20] * 3 + [1]\n",
    "activation = \"tanh\"\n",
    "initializer = \"Glorot uniform\"\n",
    "net = dde.nn.FNN(layer_size, activation, initializer)"
   ]
  },
  {
   "cell_type": "markdown",
   "metadata": {
    "id": "YPXtlJiWkfBq"
   },
   "source": [
    "### Modelo e Otimização\n",
    "Com os **dados** e o **formato da rede definidos**, montamos nosso **modelo** e colocamos ele para **otimizar/treinar**.\n",
    "\n",
    "* Para definir o modelo usamos o **classe** `Model(data,net)`\n",
    "* A esse modelo definimos configurações para o treino como:\n",
    "  * **Otimizador:** (Adam, BFGS)\n",
    "  * **Taxa de aprendizado** (*lr*)\n",
    "  * **metricas:** são métricas desejadas para serem calculadas durante o treino, pode ser usada quando existem dados iniciais\n",
    "\n",
    "Com esses parâmetros definidos, podemos treinar o modelo, sendo possível definir:\n",
    "* `iterations`: número de iterações (épocas)\n",
    "* `batch_size`:\n",
    "* `display_every`: a cada quantas épocas deve ser printado o avanço (padrão é 1000)  \n",
    "\n",
    "Como retorno tem *losshistory* e *train_state*"
   ]
  },
  {
   "cell_type": "code",
   "execution_count": null,
   "metadata": {
    "colab": {
     "base_uri": "https://localhost:8080/"
    },
    "executionInfo": {
     "elapsed": 14690,
     "status": "ok",
     "timestamp": 1751315038707,
     "user": {
      "displayName": "Paulo Souza",
      "userId": "12141976188582041693"
     },
     "user_tz": 180
    },
    "id": "nvH0Rdq4Zg3H",
    "outputId": "86683908-951a-48b3-a4ff-93d391de175d"
   },
   "outputs": [
    {
     "name": "stdout",
     "output_type": "stream",
     "text": [
      "Compiling model...\n",
      "Building feed-forward neural network...\n",
      "'build' took 0.075971 s\n",
      "\n",
      "'compile' took 2.152839 s\n",
      "\n",
      "Training model...\n",
      "\n",
      "Step      Train loss                                            Test loss                                             Test metric\n",
      "0         [7.03e-01, 0.00e+00, 4.13e-01, 1.62e-01, 1.06e-01]    [7.03e-01, 0.00e+00, 4.13e-01, 1.62e-01, 1.06e-01]    []  \n",
      "50        [1.67e-01, 6.56e-04, 3.86e-03, 2.54e-02, 5.53e-02]    [1.67e-01, 6.56e-04, 3.86e-03, 2.54e-02, 5.53e-02]    []  \n",
      "100       [1.31e-01, 1.25e-04, 1.26e-03, 3.38e-02, 4.33e-02]    [1.31e-01, 1.25e-04, 1.26e-03, 3.38e-02, 4.33e-02]    []  \n",
      "150       [5.04e-02, 4.09e-04, 1.94e-05, 4.57e-02, 1.39e-02]    [5.04e-02, 4.09e-04, 1.94e-05, 4.57e-02, 1.39e-02]    []  \n",
      "200       [1.23e-02, 4.90e-05, 2.10e-03, 3.77e-02, 1.33e-03]    [1.23e-02, 4.90e-05, 2.10e-03, 3.77e-02, 1.33e-03]    []  \n",
      "250       [1.17e-02, 2.82e-05, 1.40e-03, 1.99e-02, 8.42e-05]    [1.17e-02, 2.82e-05, 1.40e-03, 1.99e-02, 8.42e-05]    []  \n",
      "300       [1.19e-02, 5.92e-06, 8.53e-04, 1.12e-02, 4.16e-04]    [1.19e-02, 5.92e-06, 8.53e-04, 1.12e-02, 4.16e-04]    []  \n",
      "350       [1.20e-02, 2.08e-06, 5.43e-04, 7.65e-03, 9.93e-04]    [1.20e-02, 2.08e-06, 5.43e-04, 7.65e-03, 9.93e-04]    []  \n",
      "400       [1.16e-02, 1.42e-06, 4.07e-04, 5.93e-03, 1.01e-03]    [1.16e-02, 1.42e-06, 4.07e-04, 5.93e-03, 1.01e-03]    []  \n",
      "450       [1.10e-02, 1.18e-06, 3.14e-04, 4.64e-03, 8.34e-04]    [1.10e-02, 1.18e-06, 3.14e-04, 4.64e-03, 8.34e-04]    []  \n",
      "500       [1.04e-02, 1.04e-06, 2.32e-04, 3.46e-03, 6.48e-04]    [1.04e-02, 1.04e-06, 2.32e-04, 3.46e-03, 6.48e-04]    []  \n",
      "550       [9.65e-03, 9.14e-07, 1.61e-04, 2.46e-03, 4.88e-04]    [9.65e-03, 9.14e-07, 1.61e-04, 2.46e-03, 4.88e-04]    []  \n",
      "600       [8.86e-03, 7.68e-07, 1.07e-04, 1.67e-03, 3.63e-04]    [8.86e-03, 7.68e-07, 1.07e-04, 1.67e-03, 3.63e-04]    []  \n",
      "650       [7.99e-03, 6.05e-07, 6.94e-05, 1.10e-03, 2.73e-04]    [7.99e-03, 6.05e-07, 6.94e-05, 1.10e-03, 2.73e-04]    []  \n",
      "700       [7.10e-03, 4.48e-07, 4.52e-05, 7.17e-04, 2.09e-04]    [7.10e-03, 4.48e-07, 4.52e-05, 7.17e-04, 2.09e-04]    []  \n",
      "750       [6.22e-03, 3.19e-07, 3.00e-05, 4.69e-04, 1.64e-04]    [6.22e-03, 3.19e-07, 3.00e-05, 4.69e-04, 1.64e-04]    []  \n",
      "800       [5.38e-03, 2.23e-07, 2.04e-05, 3.08e-04, 1.30e-04]    [5.38e-03, 2.23e-07, 2.04e-05, 3.08e-04, 1.30e-04]    []  \n",
      "850       [4.61e-03, 1.57e-07, 1.41e-05, 2.03e-04, 1.04e-04]    [4.61e-03, 1.57e-07, 1.41e-05, 2.03e-04, 1.04e-04]    []  \n",
      "900       [3.91e-03, 1.12e-07, 9.82e-06, 1.35e-04, 8.39e-05]    [3.91e-03, 1.12e-07, 9.82e-06, 1.35e-04, 8.39e-05]    []  \n",
      "950       [3.30e-03, 8.12e-08, 6.90e-06, 8.92e-05, 6.76e-05]    [3.30e-03, 8.12e-08, 6.90e-06, 8.92e-05, 6.76e-05]    []  \n",
      "1000      [2.76e-03, 5.87e-08, 4.87e-06, 5.92e-05, 5.46e-05]    [2.76e-03, 5.87e-08, 4.87e-06, 5.92e-05, 5.46e-05]    []  \n",
      "1050      [2.30e-03, 4.14e-08, 3.48e-06, 3.92e-05, 4.43e-05]    [2.30e-03, 4.14e-08, 3.48e-06, 3.92e-05, 4.43e-05]    []  \n",
      "1100      [1.89e-03, 2.84e-08, 2.52e-06, 2.58e-05, 3.61e-05]    [1.89e-03, 2.84e-08, 2.52e-06, 2.58e-05, 3.61e-05]    []  \n",
      "1150      [1.53e-03, 1.85e-08, 1.85e-06, 1.70e-05, 2.92e-05]    [1.53e-03, 1.85e-08, 1.85e-06, 1.70e-05, 2.92e-05]    []  \n",
      "1200      [1.23e-03, 1.19e-08, 1.38e-06, 1.11e-05, 2.33e-05]    [1.23e-03, 1.19e-08, 1.38e-06, 1.11e-05, 2.33e-05]    []  \n",
      "1250      [9.83e-04, 1.06e-08, 1.07e-06, 7.50e-06, 1.85e-05]    [9.83e-04, 1.06e-08, 1.07e-06, 7.50e-06, 1.85e-05]    []  \n",
      "1300      [7.97e-04, 1.12e-08, 8.12e-07, 5.02e-06, 1.50e-05]    [7.97e-04, 1.12e-08, 8.12e-07, 5.02e-06, 1.50e-05]    []  \n",
      "1350      [7.36e-04, 5.39e-08, 4.84e-07, 2.42e-06, 4.62e-06]    [7.36e-04, 5.39e-08, 4.84e-07, 2.42e-06, 4.62e-06]    []  \n",
      "1400      [5.55e-04, 5.57e-09, 4.58e-07, 2.56e-06, 7.88e-06]    [5.55e-04, 5.57e-09, 4.58e-07, 2.56e-06, 7.88e-06]    []  \n",
      "1450      [6.86e-04, 2.84e-07, 4.66e-07, 3.45e-06, 1.77e-05]    [6.86e-04, 2.84e-07, 4.66e-07, 3.45e-06, 1.77e-05]    []  \n",
      "1500      [4.30e-04, 5.66e-10, 2.71e-07, 1.42e-06, 3.38e-06]    [4.30e-04, 5.66e-10, 2.71e-07, 1.42e-06, 3.38e-06]    []  \n",
      "1550      [5.98e-04, 3.01e-07, 9.42e-08, 4.42e-07, 1.65e-07]    [5.98e-04, 3.01e-07, 9.42e-08, 4.42e-07, 1.65e-07]    []  \n",
      "1600      [3.53e-04, 1.28e-10, 1.88e-07, 1.01e-06, 2.37e-06]    [3.53e-04, 1.28e-10, 1.88e-07, 1.01e-06, 2.37e-06]    []  \n",
      "1650      [3.25e-04, 2.57e-09, 1.59e-07, 8.40e-07, 2.21e-06]    [3.25e-04, 2.57e-09, 1.59e-07, 8.40e-07, 2.21e-06]    []  \n",
      "1700      [3.09e-04, 2.24e-08, 9.08e-08, 5.87e-07, 6.71e-07]    [3.09e-04, 2.24e-08, 9.08e-08, 5.87e-07, 6.71e-07]    []  \n",
      "1750      [2.78e-04, 3.13e-10, 1.13e-07, 5.49e-07, 1.39e-06]    [2.78e-04, 3.13e-10, 1.13e-07, 5.49e-07, 1.39e-06]    []  \n",
      "1800      [2.56e-04, 6.36e-10, 1.01e-07, 4.55e-07, 1.29e-06]    [2.56e-04, 6.36e-10, 1.01e-07, 4.55e-07, 1.29e-06]    []  \n",
      "1850      [2.59e-04, 3.78e-08, 2.13e-07, 4.43e-07, 3.29e-06]    [2.59e-04, 3.78e-08, 2.13e-07, 4.43e-07, 3.29e-06]    []  \n",
      "1900      [2.21e-04, 2.93e-11, 6.90e-08, 3.04e-07, 8.61e-07]    [2.21e-04, 2.93e-11, 6.90e-08, 3.04e-07, 8.61e-07]    []  \n",
      "1950      [2.04e-04, 1.29e-10, 6.79e-08, 2.53e-07, 8.74e-07]    [2.04e-04, 1.29e-10, 6.79e-08, 2.53e-07, 8.74e-07]    []  \n",
      "2000      [1.88e-04, 3.21e-11, 5.72e-08, 2.10e-07, 7.61e-07]    [1.88e-04, 3.21e-11, 5.72e-08, 2.10e-07, 7.61e-07]    []  \n",
      "2050      [2.25e-04, 6.56e-08, 1.12e-13, 1.86e-07, 6.20e-08]    [2.25e-04, 6.56e-08, 1.12e-13, 1.86e-07, 6.20e-08]    []  \n",
      "2100      [1.61e-04, 5.55e-11, 5.05e-08, 1.54e-07, 7.06e-07]    [1.61e-04, 5.55e-11, 5.05e-08, 1.54e-07, 7.06e-07]    []  \n",
      "2150      [1.48e-04, 1.37e-10, 4.25e-08, 1.28e-07, 6.06e-07]    [1.48e-04, 1.37e-10, 4.25e-08, 1.28e-07, 6.06e-07]    []  \n",
      "2200      [1.38e-04, 7.88e-10, 2.75e-08, 1.02e-07, 3.65e-07]    [1.38e-04, 7.88e-10, 2.75e-08, 1.02e-07, 3.65e-07]    []  \n",
      "2250      [1.27e-04, 8.35e-10, 4.33e-08, 9.54e-08, 5.16e-07]    [1.27e-04, 8.35e-10, 4.33e-08, 9.54e-08, 5.16e-07]    []  \n",
      "2300      [1.17e-04, 1.10e-09, 3.67e-08, 8.29e-08, 5.37e-07]    [1.17e-04, 1.10e-09, 3.67e-08, 8.29e-08, 5.37e-07]    []  \n",
      "2350      [1.08e-04, 1.39e-11, 2.30e-08, 6.80e-08, 3.43e-07]    [1.08e-04, 1.39e-11, 2.30e-08, 6.80e-08, 3.43e-07]    []  \n",
      "2400      [1.54e-04, 1.83e-07, 3.41e-07, 9.89e-08, 4.42e-06]    [1.54e-04, 1.83e-07, 3.41e-07, 9.89e-08, 4.42e-06]    []  \n",
      "2450      [9.32e-05, 1.25e-09, 2.60e-08, 5.60e-08, 3.86e-07]    [9.32e-05, 1.25e-09, 2.60e-08, 5.60e-08, 3.86e-07]    []  \n",
      "2500      [8.62e-05, 5.05e-11, 1.79e-08, 4.54e-08, 2.72e-07]    [8.62e-05, 5.05e-11, 1.79e-08, 4.54e-08, 2.72e-07]    []  \n",
      "2550      [8.09e-04, 3.39e-06, 1.65e-06, 2.08e-08, 2.47e-05]    [8.09e-04, 3.39e-06, 1.65e-06, 2.08e-08, 2.47e-05]    []  \n",
      "2600      [7.52e-05, 3.27e-09, 2.06e-08, 2.79e-08, 3.30e-07]    [7.52e-05, 3.27e-09, 2.06e-08, 2.79e-08, 3.30e-07]    []  \n",
      "2650      [6.96e-05, 2.12e-10, 1.49e-08, 3.36e-08, 2.11e-07]    [6.96e-05, 2.12e-10, 1.49e-08, 3.36e-08, 2.11e-07]    []  \n",
      "2700      [6.49e-05, 7.67e-10, 1.44e-08, 2.90e-08, 2.21e-07]    [6.49e-05, 7.67e-10, 1.44e-08, 2.90e-08, 2.21e-07]    []  \n",
      "2750      [7.07e-05, 6.97e-08, 7.27e-08, 2.19e-08, 9.66e-07]    [7.07e-05, 6.97e-08, 7.27e-08, 2.19e-08, 9.66e-07]    []  \n",
      "2800      [5.77e-05, 1.56e-09, 1.46e-08, 2.65e-08, 2.13e-07]    [5.77e-05, 1.56e-09, 1.46e-08, 2.65e-08, 2.13e-07]    []  \n",
      "2850      [5.41e-05, 4.42e-11, 7.99e-09, 2.20e-08, 1.14e-07]    [5.41e-05, 4.42e-11, 7.99e-09, 2.20e-08, 1.14e-07]    []  \n",
      "2900      [5.11e-05, 2.92e-10, 4.37e-09, 1.96e-08, 6.17e-08]    [5.11e-05, 2.92e-10, 4.37e-09, 1.96e-08, 6.17e-08]    []  \n",
      "2950      [6.57e-05, 1.11e-07, 1.21e-07, 2.13e-08, 1.26e-06]    [6.57e-05, 1.11e-07, 1.21e-07, 2.13e-08, 1.26e-06]    []  \n",
      "3000      [4.66e-05, 1.58e-09, 8.96e-09, 1.93e-08, 1.42e-07]    [4.66e-05, 1.58e-09, 8.96e-09, 1.93e-08, 1.42e-07]    []  \n",
      "3050      [4.42e-05, 1.62e-13, 4.00e-09, 1.67e-08, 5.87e-08]    [4.42e-05, 1.62e-13, 4.00e-09, 1.67e-08, 5.87e-08]    []  \n",
      "3100      [4.21e-05, 3.17e-11, 4.37e-09, 1.48e-08, 5.71e-08]    [4.21e-05, 3.17e-11, 4.37e-09, 1.48e-08, 5.71e-08]    []  \n",
      "3150      [2.48e-04, 1.28e-06, 5.52e-07, 4.89e-07, 1.05e-05]    [2.48e-04, 1.28e-06, 5.52e-07, 4.89e-07, 1.05e-05]    []  \n",
      "3200      [4.08e-05, 7.96e-09, 6.63e-10, 1.51e-08, 1.01e-09]    [4.08e-05, 7.96e-09, 6.63e-10, 1.51e-08, 1.01e-09]    []  \n",
      "3250      [3.79e-05, 5.89e-11, 1.85e-09, 1.27e-08, 2.59e-08]    [3.79e-05, 5.89e-11, 1.85e-09, 1.27e-08, 2.59e-08]    []  \n",
      "3300      [3.66e-05, 9.09e-13, 2.35e-09, 1.23e-08, 2.84e-08]    [3.66e-05, 9.09e-13, 2.35e-09, 1.23e-08, 2.84e-08]    []  \n",
      "3350      [4.75e-04, 2.84e-06, 2.33e-06, 4.46e-07, 1.98e-05]    [4.75e-04, 2.84e-06, 2.33e-06, 4.46e-07, 1.98e-05]    []  \n",
      "3400      [3.72e-05, 1.82e-08, 2.55e-08, 1.93e-08, 2.47e-07]    [3.72e-05, 1.82e-08, 2.55e-08, 1.93e-08, 2.47e-07]    []  \n",
      "3450      [3.39e-05, 4.22e-11, 2.08e-09, 1.13e-08, 2.41e-08]    [3.39e-05, 4.22e-11, 2.08e-09, 1.13e-08, 2.41e-08]    []  \n",
      "3500      [3.30e-05, 2.18e-12, 1.38e-09, 1.04e-08, 1.43e-08]    [3.30e-05, 2.18e-12, 1.38e-09, 1.04e-08, 1.43e-08]    []  \n",
      "3550      [4.25e-04, 2.74e-06, 2.14e-06, 3.77e-07, 1.82e-05]    [4.25e-04, 2.74e-06, 2.14e-06, 3.77e-07, 1.82e-05]    []  \n",
      "3600      [3.19e-05, 3.84e-10, 1.13e-09, 2.00e-08, 2.83e-09]    [3.19e-05, 3.84e-10, 1.13e-09, 2.00e-08, 2.83e-09]    []  \n",
      "3650      [3.12e-05, 7.60e-11, 6.40e-10, 1.04e-08, 6.17e-09]    [3.12e-05, 7.60e-11, 6.40e-10, 1.04e-08, 6.17e-09]    []  \n",
      "3700      [3.07e-05, 1.61e-11, 1.14e-09, 9.38e-09, 9.73e-09]    [3.07e-05, 1.61e-11, 1.14e-09, 9.38e-09, 9.73e-09]    []  \n",
      "3750      [4.49e-04, 3.11e-06, 1.67e-06, 3.35e-09, 2.10e-05]    [4.49e-04, 3.11e-06, 1.67e-06, 3.35e-09, 2.10e-05]    []  \n",
      "3800      [3.69e-05, 1.09e-07, 3.41e-08, 2.05e-10, 4.71e-07]    [3.69e-05, 1.09e-07, 3.41e-08, 2.05e-10, 4.71e-07]    []  \n",
      "3850      [2.95e-05, 3.87e-10, 2.38e-09, 8.34e-09, 2.27e-08]    [2.95e-05, 3.87e-10, 2.38e-09, 8.34e-09, 2.27e-08]    []  \n",
      "3900      [2.90e-05, 3.99e-12, 6.75e-10, 9.13e-09, 6.73e-09]    [2.90e-05, 3.99e-12, 6.75e-10, 9.13e-09, 6.73e-09]    []  \n",
      "3950      [2.86e-05, 6.19e-12, 9.15e-10, 8.37e-09, 6.01e-09]    [2.86e-05, 6.19e-12, 9.15e-10, 8.37e-09, 6.01e-09]    []  \n",
      "4000      [2.83e-05, 3.34e-11, 7.54e-10, 8.36e-09, 5.86e-09]    [2.83e-05, 3.34e-11, 7.54e-10, 8.36e-09, 5.86e-09]    []  \n",
      "4050      [2.80e-05, 3.18e-10, 9.46e-10, 8.63e-09, 1.08e-08]    [2.80e-05, 3.18e-10, 9.46e-10, 8.63e-09, 1.08e-08]    []  \n",
      "4100      [7.37e-05, 3.67e-07, 2.25e-07, 6.14e-09, 2.11e-06]    [7.37e-05, 3.67e-07, 2.25e-07, 6.14e-09, 2.11e-06]    []  \n",
      "4150      [2.78e-05, 4.25e-09, 4.93e-09, 7.00e-09, 5.25e-08]    [2.78e-05, 4.25e-09, 4.93e-09, 7.00e-09, 5.25e-08]    []  \n",
      "4200      [2.70e-05, 1.08e-10, 9.84e-10, 7.31e-09, 5.81e-09]    [2.70e-05, 1.08e-10, 9.84e-10, 7.31e-09, 5.81e-09]    []  \n",
      "4250      [2.68e-05, 5.55e-11, 5.80e-10, 7.87e-09, 4.26e-09]    [2.68e-05, 5.55e-11, 5.80e-10, 7.87e-09, 4.26e-09]    []  \n",
      "4300      [6.09e-05, 4.18e-07, 1.19e-07, 2.01e-07, 1.61e-06]    [6.09e-05, 4.18e-07, 1.19e-07, 2.01e-07, 1.61e-06]    []  \n",
      "4350      [2.71e-05, 8.13e-09, 7.20e-09, 1.12e-08, 6.78e-08]    [2.71e-05, 8.13e-09, 7.20e-09, 1.12e-08, 6.78e-08]    []  \n",
      "4400      [2.60e-05, 1.50e-11, 6.16e-10, 7.12e-09, 3.44e-09]    [2.60e-05, 1.50e-11, 6.16e-10, 7.12e-09, 3.44e-09]    []  \n",
      "4450      [2.57e-05, 7.60e-12, 4.35e-10, 7.05e-09, 2.08e-09]    [2.57e-05, 7.60e-12, 4.35e-10, 7.05e-09, 2.08e-09]    []  \n",
      "4500      [2.57e-05, 1.79e-09, 3.87e-10, 8.02e-09, 5.78e-09]    [2.57e-05, 1.79e-09, 3.87e-10, 8.02e-09, 5.78e-09]    []  \n",
      "4550      [3.37e-05, 7.22e-08, 1.73e-08, 8.00e-08, 3.94e-07]    [3.37e-05, 7.22e-08, 1.73e-08, 8.00e-08, 3.94e-07]    []  \n",
      "4600      [2.50e-05, 8.41e-10, 1.48e-09, 8.15e-09, 8.75e-09]    [2.50e-05, 8.41e-10, 1.48e-09, 8.15e-09, 8.75e-09]    []  \n",
      "4650      [2.47e-05, 5.47e-12, 3.40e-10, 6.96e-09, 1.61e-09]    [2.47e-05, 5.47e-12, 3.40e-10, 6.96e-09, 1.61e-09]    []  \n",
      "4700      [2.45e-05, 1.59e-11, 1.20e-10, 6.71e-09, 5.12e-10]    [2.45e-05, 1.59e-11, 1.20e-10, 6.71e-09, 5.12e-10]    []  \n",
      "4750      [1.73e-04, 1.26e-06, 8.93e-07, 2.49e-08, 8.31e-06]    [1.73e-04, 1.26e-06, 8.93e-07, 2.49e-08, 8.31e-06]    []  \n",
      "4800      [2.41e-05, 1.29e-09, 1.52e-09, 7.41e-09, 1.78e-08]    [2.41e-05, 1.29e-09, 1.52e-09, 7.41e-09, 1.78e-08]    []  \n",
      "4850      [2.38e-05, 2.55e-11, 4.63e-10, 6.23e-09, 2.30e-09]    [2.38e-05, 2.55e-11, 4.63e-10, 6.23e-09, 2.30e-09]    []  \n",
      "4900      [2.36e-05, 4.05e-12, 3.32e-10, 5.97e-09, 1.15e-09]    [2.36e-05, 4.05e-12, 3.32e-10, 5.97e-09, 1.15e-09]    []  \n",
      "4950      [2.34e-05, 1.35e-12, 2.39e-10, 6.06e-09, 5.42e-10]    [2.34e-05, 1.35e-12, 2.39e-10, 6.06e-09, 5.42e-10]    []  \n",
      "5000      [7.62e-05, 4.40e-07, 3.02e-07, 2.79e-08, 2.86e-06]    [7.62e-05, 4.40e-07, 3.02e-07, 2.79e-08, 2.86e-06]    []  \n",
      "\n",
      "Best model at step 4950:\n",
      "  train loss: 2.34e-05\n",
      "  test loss: 2.34e-05\n",
      "  test metric: []\n",
      "\n",
      "'train' took 12.516918 s\n",
      "\n"
     ]
    }
   ],
   "source": [
    "model = dde.Model(data, net)\n",
    "#model.compile(\"adam\", lr=0.001, metrics=[\"l2 relative error\"])\n",
    "model.compile(\"adam\", lr=0.001)\n",
    "N_iter = 5000\n",
    "step = 50\n",
    "losshistory, train_state = model.train(iterations=N_iter,display_every=step)"
   ]
  },
  {
   "cell_type": "markdown",
   "metadata": {
    "id": "UYFmGb2qaBq1"
   },
   "source": [
    "**graficos**\n",
    "\n",
    "Para avaliar os resultados finais, vamos definir:\n",
    "* Um vetor no eixo x para PINN\n",
    "* Um vetor no eixo x para solução exata\n",
    "* Calcular o valor predito pela PINN\n",
    "* Calcular o valor exato\n",
    "* Plotar os gráficos das soluções em conjunto"
   ]
  },
  {
   "cell_type": "code",
   "execution_count": 14,
   "metadata": {
    "colab": {
     "base_uri": "https://localhost:8080/",
     "height": 487
    },
    "executionInfo": {
     "elapsed": 456,
     "status": "ok",
     "timestamp": 1751315070406,
     "user": {
      "displayName": "Paulo Souza",
      "userId": "12141976188582041693"
     },
     "user_tz": 180
    },
    "id": "_qsP3PqEZjsF",
    "outputId": "465a71f2-5804-42ea-9bbd-5a5a58b61ff0"
   },
   "outputs": [
    {
     "data": {
      "image/png": "[encoded data removed]",
      "text/plain": [
       "<Figure size 800x500 with 1 Axes>"
      ]
     },
     "metadata": {},
     "output_type": "display_data"
    }
   ],
   "source": [
    "# Definindo X_PINN e Y_PINN\n",
    "x_pinn = np.linspace(0,1,100).reshape(-1,1)\n",
    "y_pinn = model.predict(x_pinn)\n",
    "\n",
    "# Calculo da solucao exata\n",
    "x_exato = np.linspace(0,1,20).reshape(-1,1)\n",
    "y_exato = func(x_exato)\n",
    "\n",
    "# Plotando a PINN vs a solucao exata\n",
    "plt.figure(figsize=(8,5))\n",
    "plt.scatter(x_exato, y_exato, label = 'Exata', color = 'blue', marker = \"o\", s = 50)\n",
    "plt.plot(x_pinn, y_pinn, label = 'PINN', color = \"red\", linestyle = \"--\")\n",
    "plt.xlabel(\"x\")\n",
    "plt.ylabel(\"y(x)\")\n",
    "plt.title(\"PINN vs Solucao Exata\")\n",
    "plt.legend()\n",
    "plt.grid()\n",
    "plt.show()"
   ]
  },
  {
   "cell_type": "code",
   "execution_count": 15,
   "metadata": {
    "colab": {
     "base_uri": "https://localhost:8080/"
    },
    "executionInfo": {
     "elapsed": 13,
     "status": "ok",
     "timestamp": 1751315080364,
     "user": {
      "displayName": "Paulo Souza",
      "userId": "12141976188582041693"
     },
     "user_tz": 180
    },
    "id": "9uWDCP65XxbW",
    "outputId": "fda4f6a9-7bc4-4a3b-a5b2-3765807deddc"
   },
   "outputs": [
    {
     "name": "stdout",
     "output_type": "stream",
     "text": [
      "(101, 5)\n",
      "(101,)\n"
     ]
    }
   ],
   "source": [
    "# Curva da funçoes de perda da PDE, ICBCs e Total\n",
    "losses = np.array(losshistory.loss_train)\n",
    "print(np.shape(losses))\n",
    "pde_loss_plot = losses[:,0]\n",
    "icbc_loss_plot = np.array(np.sum(losses[:,1:],1))\n",
    "print(np.shape(icbc_loss_plot))\n",
    "total_loss_plot = pde_loss_plot + icbc_loss_plot"
   ]
  },
  {
   "cell_type": "code",
   "execution_count": 16,
   "metadata": {
    "colab": {
     "base_uri": "https://localhost:8080/",
     "height": 410
    },
    "executionInfo": {
     "elapsed": 963,
     "status": "ok",
     "timestamp": 1751315082862,
     "user": {
      "displayName": "Paulo Souza",
      "userId": "12141976188582041693"
     },
     "user_tz": 180
    },
    "id": "mCu5hrO_KVj8",
    "outputId": "20c24a73-2eb3-4878-88a3-31629a5270f8"
   },
   "outputs": [
    {
     "data": {
      "image/png": "[encoded data removed]",
      "text/plain": [
       "<Figure size 600x400 with 1 Axes>"
      ]
     },
     "metadata": {},
     "output_type": "display_data"
    }
   ],
   "source": [
    "plt.figure(figsize=(6,4))\n",
    "epocas = np.linspace(0,N_iter,np.size(pde_loss_plot))\n",
    "plt.plot(epocas,total_loss_plot, 'k', linewidth=2, label=\"Total\")\n",
    "plt.plot(epocas,pde_loss_plot, color='silver', linestyle='--', linewidth=2, label=\"DE loss\")\n",
    "plt.plot(epocas,icbc_loss_plot, color='r', linestyle='-.', linewidth=2, label=\"BC loss\")\n",
    "\n",
    "plt.xlabel('Epocas')\n",
    "plt.ylabel('Função de Custo')\n",
    "plt.yscale('log')\n",
    "plt.title('Historico da Função de Custo')\n",
    "plt.legend()\n",
    "plt.grid(True)\n",
    "plt.show()"
   ]
  },
  {
   "cell_type": "code",
   "execution_count": null,
   "metadata": {
    "id": "fyzEOnzRKWpm"
   },
   "outputs": [],
   "source": []
  }
 ],
 "metadata": {
  "colab": {
   "authorship_tag": "ABX9TyN0JAADn4ucUw4uZwjmtkfG",
   "provenance": []
  },
  "kernelspec": {
   "display_name": "Python 3",
   "name": "python3"
  },
  "language_info": {
   "name": "python"
  }
 },
 "nbformat": 4,
 "nbformat_minor": 0
}
