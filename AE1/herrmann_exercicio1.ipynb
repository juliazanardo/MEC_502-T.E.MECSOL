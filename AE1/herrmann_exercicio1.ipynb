{
 "cells": [
  {
   "cell_type": "markdown",
   "id": "17d32885",
   "metadata": {},
   "source": [
    "Começamos fazendo as importações necessárias para o trabalho."
   ]
  },
  {
   "cell_type": "code",
   "execution_count": 12,
   "id": "bfd22e41",
   "metadata": {},
   "outputs": [],
   "source": [
    "import torch\n",
    "import numpy as np\n",
    "import matplotlib.pyplot as plt"
   ]
  },
  {
   "cell_type": "markdown",
   "id": "d4de85dd",
   "metadata": {},
   "source": [
    "Começamos criando diferentes tipos de tensores:\n",
    "\n",
    "- **a**: é uma matriz 2x3 com valores definidos manualmente.\n",
    "- **b**: é um tensor 3x3x3 preenchido com zeros.\n",
    "- **c**: é um vetor de 10 valores igualmente espaçados entre 0 e 1.\n",
    "- **d**: é uma matriz 1x3 preenchida com valores 1."
   ]
  },
  {
   "cell_type": "code",
   "execution_count": 13,
   "id": "efc89391",
   "metadata": {},
   "outputs": [],
   "source": [
    "a = torch.tensor([[0., 2., 4.], [3., 5., 7.]])  # shape (2, 3)\n",
    "b = torch.zeros(3, 3, 3)  # shape (3, 3, 3)\n",
    "c = torch.linspace(0, 1, 10)  # shape (x)\n",
    "d = torch.ones(1, 3)  # shape (1, 3)"
   ]
  },
  {
   "cell_type": "markdown",
   "id": "f575fc76",
   "metadata": {},
   "source": [
    "- **a.size()**: retorna o tamanho (shape) do tensor a, que é (2, 3).\n",
    "- **a[0, 0]**: acessa o primeiro elemento (linha 0, coluna 0).\n",
    "- **a[:, 0]**: retorna todos os valores da primeira coluna.\n",
    "- **a[-1, -1]**: acessa o último elemento da última linha.\n",
    "- **b[0, :, :]**: seleciona a primeira \"fatia\" do tensor tridimensional b.\n",
    "- **a[0, 1:3]**: retorna os elementos das colunas 1 e 2 da primeira linha."
   ]
  },
  {
   "cell_type": "code",
   "execution_count": 14,
   "id": "59448edd",
   "metadata": {},
   "outputs": [
    {
     "data": {
      "text/plain": [
       "tensor([2., 4.])"
      ]
     },
     "execution_count": 14,
     "metadata": {},
     "output_type": "execute_result"
    }
   ],
   "source": [
    "a.size()  # dimensions\n",
    "\n",
    "a[0, 0]  # 0th element\n",
    "a[:, 0]  # first order tensor along 0th dimension (returns all rows in 0th column)\n",
    "a[-1, -1]  # last element (7.)\n",
    "b[0, :, :]  # 0th second order tensor\n",
    "a[0, 1:3]  # last two elements of the 0th first order tensor (2., 4.)"
   ]
  },
  {
   "cell_type": "markdown",
   "id": "c6ba87fe",
   "metadata": {},
   "source": [
    "## Functional approach:\n",
    "Note that a, b, c, and d remain unchanged\n",
    "\n",
    "- **torch.cat**: concatena dois tensores na dimensão especificada (no caso, na linha).\n",
    "- **torch.transpose**: troca as dimensões 0 e 1, transformando linhas em colunas.\n",
    "- **torch.permute**: reordena as dimensões do tensor (ideal para tensores 3D ou maiores).\n",
    "- **torch.reshape**: altera a forma do tensor sem alterar os dados.\n",
    "- **torch.unsqueeze**: adiciona uma nova dimensão (útil para broadcast).\n",
    "- **torch.squeeze**: remove dimensões de tamanho 1.\n",
    "- **torch.flatten**: transforma o tensor em um vetor 1D.\n",
    "- **torch.ones_like**: cria um novo tensor com o mesmo shape de outro, mas com todos os valores 1.\n",
    "- **torch.cos aplica**: a função cosseno elemento a elemento."
   ]
  },
  {
   "cell_type": "code",
   "execution_count": 15,
   "id": "08bc9859",
   "metadata": {},
   "outputs": [
    {
     "data": {
      "text/plain": [
       "tensor([[ 1.0000, -0.4161, -0.6536],\n",
       "        [-0.9900,  0.2837,  0.7539]])"
      ]
     },
     "execution_count": 15,
     "metadata": {},
     "output_type": "execute_result"
    }
   ],
   "source": [
    "torch.cat((a, d), 0)  # return concatenation in dimension 0. (3, 3)\n",
    "torch.transpose(a, 0, 1)  # return a with dimensions 0 and 1 transposed (3, 2)\n",
    "torch.permute(b, (2, 1, 0))  # dimensions 0 and 2 are permuted\n",
    "torch.reshape(a, (1, 6))  # or c.view(1, 6) reshape to (1, 6)\n",
    "torch.unsqueeze(a, 0)  # creates an additional empty dimension (1, 2, 3)\n",
    "torch.squeeze(d, 0)  # removes first empty dimension (3)\n",
    "torch.flatten(b)  # flattens b (27)\n",
    "torch.ones_like(c)  # creates a tensor of ones with the shape of c\n",
    "torch.cos(a)  # applies cosine to each entry"
   ]
  },
  {
   "cell_type": "markdown",
   "id": "a5c8aa37",
   "metadata": {},
   "source": [
    "## Conversion to and from NumPy\n",
    "\n",
    "Mostramos como converter entre arrays do NumPy e tensores do PyTorch:\n",
    "\n",
    "- **torch.from_numpy**: converte um array NumPy para tensor.\n",
    "- **.numpy()**: faz o caminho inverso: converte um tensor para array.\n",
    "- Como o tensor e o array compartilham a mesma memória, alterações em um afetam o outro.\n",
    "- A comparação **a == c** retorna True, pois os dados são iguais."
   ]
  },
  {
   "cell_type": "code",
   "execution_count": 16,
   "id": "05c5b1aa",
   "metadata": {},
   "outputs": [
    {
     "data": {
      "text/plain": [
       "array([ True,  True])"
      ]
     },
     "execution_count": 16,
     "metadata": {},
     "output_type": "execute_result"
    }
   ],
   "source": [
    "a = np.array([2., 3.])\n",
    "b = torch.from_numpy(a)  # convert numpy array to torch tensor\n",
    "c = b.numpy()  # convert to torch tensor from numpy array\n",
    "\n",
    "a == c"
   ]
  },
  {
   "cell_type": "markdown",
   "id": "78593435",
   "metadata": {},
   "source": [
    "## Grid Creation\n",
    "\n",
    "Neste trecho criamos um grid 2D usando meshgrid:\n",
    "\n",
    "- **torch.meshgrid** é útil para construir coordenadas em grades regulares (por exemplo, em imagens ou superfícies).\n",
    "- O parâmetro **indexing='ij'** garante a ordem correta das dimensões."
   ]
  },
  {
   "cell_type": "code",
   "execution_count": 17,
   "id": "0fd5a641",
   "metadata": {},
   "outputs": [],
   "source": [
    "x = torch.linspace(0, 1, 10)  # shape (10)\n",
    "y = torch.linspace(0, 2, 5)  # shape (5)\n",
    "x, y = torch.meshgrid(x, y, indexing='ij')  # grid of shape (10, 5)"
   ]
  },
  {
   "cell_type": "markdown",
   "id": "40892373",
   "metadata": {},
   "source": [
    "## Gradient Computation\n",
    "\n",
    "- **requires_grad=True**: ativa o rastreamento de operações para permitir o cálculo automático de derivadas.\n",
    "- **.data**: acessa os dados reais do tensor.\n",
    "- **.grad**: armazena o gradiente após a chamada de .backward().\n",
    "- **.grad_fn**: aponta para a função que criou o tensor.\n",
    "- **.is_leaf**: indica se o tensor é uma folha no grafo computacional (não derivado de outras operações).\n",
    "\n"
   ]
  },
  {
   "cell_type": "code",
   "execution_count": 18,
   "id": "86cebecc",
   "metadata": {},
   "outputs": [
    {
     "data": {
      "text/plain": [
       "True"
      ]
     },
     "execution_count": 18,
     "metadata": {},
     "output_type": "execute_result"
    }
   ],
   "source": [
    "x.requires_grad = True  # after construction - allows backpropogation\n",
    "y = torch.tensor([0.], requires_grad=True)  # during construction\n",
    "\n",
    "## Member Variables\n",
    "x.data  # values stored in the tensor\n",
    "x.requires_grad  # boolean enabling computation graph\n",
    "x.grad  # value of the gradient\n",
    "x.grad_fn  # function handle storing previous operation\n",
    "x.is_leaf  # boolean stating if tensor is a leaf node (see Chapter 2)"
   ]
  },
  {
   "cell_type": "markdown",
   "id": "42804f93",
   "metadata": {},
   "source": [
    "## Example gradients for simple functions\n",
    "\n",
    "Nesse exemplo, criamos uma função e usamos autograd para calcular derivadas:\n",
    "\n",
    "- **y = 2x e z = y²**: define nossa função.\n",
    "- **retain_grad()**: é necessário para acessar o gradiente de y, pois PyTorch normalmente descarta gradientes intermediários.\n",
    "- **.backward()**: propaga os gradientes através do grafo computacional.\n",
    "- **dzdx e dzdy**: armazenam as derivadas de z em relação a x e y, respectivamente.\n",
    "- Imprimimos os resultados armazenados no.grad do tensor x"
   ]
  },
  {
   "cell_type": "code",
   "execution_count": 19,
   "id": "6d6ca766",
   "metadata": {},
   "outputs": [
    {
     "name": "stdout",
     "output_type": "stream",
     "text": [
      "tensor([0.0000, 0.4211, 0.8421, 1.2632, 1.6842, 2.1053, 2.5263, 2.9474, 3.3684,\n",
      "        3.7895, 4.2105, 4.6316, 5.0526, 5.4737, 5.8947, 6.3158, 6.7368, 7.1579,\n",
      "        7.5789, 8.0000])\n"
     ]
    }
   ],
   "source": [
    "x = torch.linspace(0., 1., 20, requires_grad=True)\n",
    "y = 2 * x\n",
    "z = y ** 2\n",
    "\n",
    "y.retain_grad()  # otherwise gradient with respect to y will be deleted\n",
    "\n",
    "z.backward(torch.ones_like(z))  # differentiate z with respect to all variables used to create it\n",
    "\n",
    "dzdx = x.grad  # gradient of z with respect to x: 8 * x\n",
    "dzdy = y.grad  # gradient of z with respect to y: 2 * y = 4 * x\n",
    "\n",
    "print(x.grad)"
   ]
  },
  {
   "cell_type": "markdown",
   "id": "37f06d1a",
   "metadata": {},
   "source": [
    "Usamos o Matplotlib para visualizar:\n",
    "\n",
    "- A **função z = (2x)²** que criamos.\n",
    "- O gradiente **dz/dx = 4x**.\n",
    "- O gradiente **dz/dy = 2y**.\n",
    "\n",
    "A função **detach()** é usada para extrair os dados do tensor sem manter o grafo computacional."
   ]
  },
  {
   "cell_type": "code",
   "execution_count": 20,
   "id": "e814a8d6",
   "metadata": {},
   "outputs": [
    {
     "data": {
      "image/png": "[encoded data removed]",
      "text/plain": [
       "<Figure size 640x480 with 1 Axes>"
      ]
     },
     "metadata": {},
     "output_type": "display_data"
    }
   ],
   "source": [
    "# Plot the function and gradients with respect to variables used in its graph\n",
    "# .detach() is used when the computation graph is no longer needed\n",
    "plt.plot(x.detach(), z.detach(), label='z')\n",
    "plt.plot(x.detach(), dzdx, '.', label='dz/dx')\n",
    "plt.plot(x.detach(), dzdy, '.', label='dz/dy')\n",
    "\n",
    "plt.legend()\n",
    "plt.grid(True)\n",
    "plt.show()"
   ]
  },
  {
   "cell_type": "markdown",
   "id": "e9a827ac",
   "metadata": {},
   "source": [
    "## Neural Networks\n",
    "\n",
    "Neste trecho instanciamos um modelo de rede neural com uma camada linear:\n",
    "\n",
    "- A camada recebe vetores de entrada com 2 valores e retorna saídas com 3 valores.\n",
    "- **model(x)** realiza a multiplicação peso * entrada + bias.\n",
    "- Podemos acessar os pesos e bias diretamente com **.weight.data** e **.bias.data**."
   ]
  },
  {
   "cell_type": "code",
   "execution_count": 21,
   "id": "e84290cb",
   "metadata": {},
   "outputs": [
    {
     "data": {
      "text/plain": [
       "tensor([ 0.5352, -0.6337, -0.3826])"
      ]
     },
     "execution_count": 21,
     "metadata": {},
     "output_type": "execute_result"
    }
   ],
   "source": [
    "model = torch.nn.Linear(2, 3)  # input size: 2 and output size: 3\n",
    "x = torch.tensor([[1., 2.]])  # input\n",
    "y = model(x)  # output\n",
    "\n",
    "# access weight parameters\n",
    "model.weight.data  # returns a tensor of shape (3, 2)\n",
    "model.bias.data  # returns a tensor of shape (3)"
   ]
  },
  {
   "cell_type": "markdown",
   "id": "bd0aa350",
   "metadata": {},
   "source": [
    "## GPU Acceleration\n",
    "\n",
    "Por fim, mostramos como utilizar a GPU se disponível:\n",
    "\n",
    "- **torch.device** escolhe entre CPU e CUDA automaticamente.\n",
    "- Tensores e modelos podem ser criados diretamente na GPU ou transferidos com **.to(device)**.\n",
    "- O método **.cpu()** traz os dados de volta para a CPU."
   ]
  },
  {
   "cell_type": "code",
   "execution_count": 22,
   "id": "6ac621c0",
   "metadata": {},
   "outputs": [
    {
     "data": {
      "text/plain": [
       "tensor([1., 1., 1., 1.])"
      ]
     },
     "execution_count": 22,
     "metadata": {},
     "output_type": "execute_result"
    }
   ],
   "source": [
    "device = torch.device('cuda' if torch.cuda.is_available() else 'cpu')\n",
    "\n",
    "a = torch.ones(4, device=device)  # cuda\n",
    "b = torch.ones(4)  # cpu\n",
    "\n",
    "# transfer to CUDA\n",
    "b = b.to(device)\n",
    "model = model.to(device)\n",
    "\n",
    "# transfer back to CPU\n",
    "a.cpu()"
   ]
  }
 ],
 "metadata": {
  "kernelspec": {
   "display_name": "julia_exercicios",
   "language": "python",
   "name": "python3"
  },
  "language_info": {
   "codemirror_mode": {
    "name": "ipython",
    "version": 3
   },
   "file_extension": ".py",
   "mimetype": "text/x-python",
   "name": "python",
   "nbconvert_exporter": "python",
   "pygments_lexer": "ipython3",
   "version": "3.13.5"
  }
 },
 "nbformat": 4,
 "nbformat_minor": 5
}
