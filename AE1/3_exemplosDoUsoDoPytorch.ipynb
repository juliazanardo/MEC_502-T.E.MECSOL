{
 "cells": [
  {
   "cell_type": "markdown",
   "id": "1f908d94",
   "metadata": {},
   "source": [
    "Para começar, é necessário importar a biblioteca de Machine Learning pytorch."
   ]
  },
  {
   "cell_type": "code",
   "execution_count": 100,
   "id": "692165ad",
   "metadata": {},
   "outputs": [],
   "source": [
    "import torch"
   ]
  },
  {
   "cell_type": "markdown",
   "id": "e5445170",
   "metadata": {},
   "source": [
    "## Derivadas Parciais"
   ]
  },
  {
   "cell_type": "markdown",
   "id": "b309bbc8",
   "metadata": {},
   "source": [
    "Para realizar as derivadas parciais, é necessário criar três tensores chamados de x,y,z, que podem ser como os vetores ou escalares para serem usados nos cálculos.\n",
    "- o argumento da função torch.tensor requires_grad=True, significa que vamos rastrear cada operação matemática que será efetuada nesses tensores para facilitar o pytorch derivá-las futuramente"
   ]
  },
  {
   "cell_type": "code",
   "execution_count": 101,
   "id": "098cdd5c",
   "metadata": {},
   "outputs": [],
   "source": [
    "# Ativação do tracking para derivadas\n",
    "x = torch.tensor(1.0, requires_grad=True)\n",
    "y = torch.tensor(2.0, requires_grad=True)\n",
    "z = torch.tensor(3.0, requires_grad=True)"
   ]
  },
  {
   "cell_type": "markdown",
   "id": "b805948c",
   "metadata": {},
   "source": [
    "aqui iremos criar uma função \"f\" onde ela irá manipular os 3 tensores e por conta do requires_grad=True, o pytorch criará um grafo, onde será utilizado para os calculos das derivadas parciais."
   ]
  },
  {
   "cell_type": "code",
   "execution_count": 102,
   "id": "38b02492",
   "metadata": {},
   "outputs": [],
   "source": [
    "# Função escalar com polinômios e trigonometria\n",
    "f = x**2 * torch.sin(y) + torch.exp(z)"
   ]
  },
  {
   "cell_type": "markdown",
   "id": "845416db",
   "metadata": {},
   "source": [
    "Nessa etapa, o método .backwards() irá percorrer esse grafo de trás para frente, assim ele consegue recriar as etapas de calculos, podendo calcular as derivadas parciais.\n",
    "- .backwards() é uma metodologia de backpropagation, onde se vai da ponta final do grafo / rede neural, em sentido do início"
   ]
  },
  {
   "cell_type": "code",
   "execution_count": 103,
   "id": "90e53ed9",
   "metadata": {},
   "outputs": [],
   "source": [
    "# Derivadas parciais\n",
    "f.backward()"
   ]
  },
  {
   "cell_type": "markdown",
   "id": "9e924979",
   "metadata": {},
   "source": [
    "Os resultados das derivadas parciais são armazenadas no .grad de cada tensor (x,y,z). Esses gradientes são a base para o treinamento de redes neurais, onde esses valores são usados como pesos para otimizar o algoritmo da rede neural."
   ]
  },
  {
   "cell_type": "code",
   "execution_count": 104,
   "id": "1398aac4",
   "metadata": {},
   "outputs": [
    {
     "name": "stdout",
     "output_type": "stream",
     "text": [
      "df/dx: 1.8185948133468628\n",
      "df/dy: -0.416146844625473\n",
      "df/dz: 20.08553695678711\n"
     ]
    }
   ],
   "source": [
    "print(f\"df/dx: {x.grad}\")\n",
    "print(f\"df/dy: {y.grad}\")\n",
    "print(f\"df/dz: {z.grad}\")"
   ]
  },
  {
   "cell_type": "markdown",
   "id": "b8a02a22",
   "metadata": {},
   "source": [
    "_________________________"
   ]
  },
  {
   "cell_type": "markdown",
   "id": "2e0a23f9",
   "metadata": {},
   "source": [
    "## Álgebra Linear Vetorial e Matricial"
   ]
  },
  {
   "cell_type": "markdown",
   "id": "4f0a1acd",
   "metadata": {},
   "source": [
    "Primeiro, definimos os tensores que usaremos em nossos cálculos.\n",
    "\n",
    "a e b são tensores de 1 dimensão, representando vetores.\n",
    "\n",
    "M é um tensor de 2 dimensões, representando uma matriz."
   ]
  },
  {
   "cell_type": "code",
   "execution_count": 105,
   "id": "e872a7e9",
   "metadata": {},
   "outputs": [],
   "source": [
    "a = torch.tensor([1.0, 2.0, 3.0])\n",
    "b = torch.tensor([4.0, 5.0, 6.0])\n",
    "M = torch.tensor([[1.0, 2.0, 3.0], [4.0, 5.0, 6.0]])\n"
   ]
  },
  {
   "cell_type": "markdown",
   "id": "031a94e8",
   "metadata": {},
   "source": [
    "Operação escalar e vetorial dos tensores.\n",
    "- para o escalar iremos usar o método .dot(tensor_1, tensor_2)\n",
    "- para o vetorial iremos usar o método .cross(tensor_1, tensor_2)\n",
    "- para a multiplicar a matriz por um vetor iremos usar o método .mv(matriz, tensor)\n",
    "- para multiplicar matrizes iremos usar o método .mm(matriz_1, matriz_2)\n",
    "- para transpor a matriz iremos usar o método .T\n"
   ]
  },
  {
   "cell_type": "code",
   "execution_count": 106,
   "id": "c0eedae2",
   "metadata": {},
   "outputs": [],
   "source": [
    "# Produto escalar\n",
    "escalar = torch.dot(a, b)\n",
    "\n",
    "# Produto vetorial\n",
    "vetorial = torch.linalg.cross(a, b)\n",
    "\n",
    "# Produto matriz-vetor\n",
    "matriz_vetor = torch.mv(M, a)\n",
    "\n",
    "# Produto matriz-matriz\n",
    "matriz_matriz = torch.mm(M, M.T)\n",
    "\n",
    "# Transposição\n",
    "matriz_transposta = M.T"
   ]
  },
  {
   "cell_type": "markdown",
   "id": "9ea6b799",
   "metadata": {},
   "source": [
    "Os resultados serão:"
   ]
  },
  {
   "cell_type": "code",
   "execution_count": 107,
   "id": "fb352571",
   "metadata": {},
   "outputs": [
    {
     "name": "stdout",
     "output_type": "stream",
     "text": [
      "escalar (dot): tensor(32.)\n",
      "vetorial (cross): tensor([-3.,  6., -3.])\n",
      "matriz_vetor (mv): tensor([14., 32.])\n",
      "matriz_matriz (mm): tensor([[14., 32.],\n",
      "        [32., 77.]])\n",
      "matriz_transposta(T): tensor([[1., 4.],\n",
      "        [2., 5.],\n",
      "        [3., 6.]])\n"
     ]
    }
   ],
   "source": [
    "print(\"escalar (dot):\", escalar)\n",
    "print(\"vetorial (cross):\", vetorial)\n",
    "print(\"matriz_vetor (mv):\", matriz_vetor)\n",
    "print(\"matriz_matriz (mm):\", matriz_matriz)\n",
    "print(\"matriz_transposta(T):\", matriz_transposta)"
   ]
  },
  {
   "cell_type": "markdown",
   "id": "1ec718fe",
   "metadata": {},
   "source": [
    "_____________"
   ]
  },
  {
   "cell_type": "markdown",
   "id": "efb78220",
   "metadata": {},
   "source": [
    "## Gradiente, Jacobiano, Hessiana, Rotacional"
   ]
  },
  {
   "cell_type": "markdown",
   "id": "671c1cf8",
   "metadata": {},
   "source": [
    "Primeiro é necessário importar do módulo torch.autograd.functional as funções jacobian e hessian"
   ]
  },
  {
   "cell_type": "code",
   "execution_count": 108,
   "id": "5df75f52",
   "metadata": {},
   "outputs": [],
   "source": [
    "from torch.autograd.functional import jacobian, hessian"
   ]
  },
  {
   "cell_type": "markdown",
   "id": "c31b0b28",
   "metadata": {},
   "source": [
    "Definimos uma função simples (scalar_field) que recebe um tensor de entrada p (que representa um ponto no espaço, como [x, y]) e retorna um valor escalar.\n",
    "a função scalar_field calcula x^2 + y^3"
   ]
  },
  {
   "cell_type": "code",
   "execution_count": 109,
   "id": "26b17bfb",
   "metadata": {},
   "outputs": [],
   "source": [
    "# Função escalar de duas variáveis\n",
    "def scalar_field(p):\n",
    "    x, y = p[0], p[1]\n",
    "    return x**2 + y**3"
   ]
  },
  {
   "cell_type": "markdown",
   "id": "4e5a1e25",
   "metadata": {},
   "source": [
    "Criamos um tensor que representa o ponto onde queremos calcular o gradiente e a Hessiana. O argumento requires_grad=True é fundamental, como explicado antes, pois informa ao PyTorch para rastrear todas as operações para que as derivadas possam ser calculadas."
   ]
  },
  {
   "cell_type": "code",
   "execution_count": 110,
   "id": "9efdc8f5",
   "metadata": {},
   "outputs": [],
   "source": [
    "# Tensor com requires_grad ativado\n",
    "point = torch.tensor([1.0, 2.0], requires_grad=True)\n",
    "\n",
    "# Gradiente usando autograd\n",
    "f = scalar_field(point)\n",
    "f.backward()\n",
    "grad = point.grad"
   ]
  },
  {
   "cell_type": "markdown",
   "id": "7ed3504b",
   "metadata": {},
   "source": [
    "A matriz Hessiana é uma matriz quadrada de derivadas parciais de segunda ordem. Ela descreve a curvatura de uma função multivariável."
   ]
  },
  {
   "cell_type": "code",
   "execution_count": 111,
   "id": "0591ac97",
   "metadata": {},
   "outputs": [],
   "source": [
    "# Hessiana usando autograd.functional\n",
    "H = hessian(scalar_field, point)"
   ]
  },
  {
   "cell_type": "markdown",
   "id": "84928e97",
   "metadata": {},
   "source": [
    "Os resultados serão:"
   ]
  },
  {
   "cell_type": "code",
   "execution_count": 112,
   "id": "ba188362",
   "metadata": {},
   "outputs": [
    {
     "name": "stdout",
     "output_type": "stream",
     "text": [
      "Gradiente: tensor([ 2., 12.])\n",
      "Hessiana:\n",
      " tensor([[ 2.,  0.],\n",
      "        [ 0., 12.]])\n"
     ]
    }
   ],
   "source": [
    "print(\"Gradiente:\", grad)\n",
    "print(\"Hessiana:\\n\", H)"
   ]
  },
  {
   "cell_type": "markdown",
   "id": "8df9d3c4",
   "metadata": {},
   "source": [
    "____"
   ]
  },
  {
   "cell_type": "markdown",
   "id": "5c9e79fc",
   "metadata": {},
   "source": [
    "## Jacobiano de Campo Vetorial"
   ]
  },
  {
   "cell_type": "markdown",
   "id": "7e3c6f18",
   "metadata": {},
   "source": [
    "Definimos uma função (vector_field) que, ao contrário das funções anteriores que retornavam um escalar, agora retorna um vetor de saídas. O tensor de entrada p representa um ponto [x, y].\n",
    "- torch.stack é usado para empilhar os resultados em um único tensor de saída."
   ]
  },
  {
   "cell_type": "code",
   "execution_count": 113,
   "id": "b214c0f3",
   "metadata": {},
   "outputs": [],
   "source": [
    "# Campo vetorial: retorna vetor [f1(x, y), f2(x, y)]\n",
    "def vector_field(p):\n",
    "    x, y = p\n",
    "    return torch.stack([\n",
    "        x**2 + y,\n",
    "        torch.sin(x) * y\n",
    "    ])"
   ]
  },
  {
   "cell_type": "markdown",
   "id": "3405d1ed",
   "metadata": {},
   "source": [
    "Criamos o tensor de entrada para o nosso campo vetorial. Novamente, requires_grad=True é essencial para que o PyTorch possa rastrear as operações."
   ]
  },
  {
   "cell_type": "code",
   "execution_count": 114,
   "id": "3390e14a",
   "metadata": {},
   "outputs": [],
   "source": [
    "point = torch.tensor([1.0, 2.0], requires_grad=True)"
   ]
  },
  {
   "cell_type": "markdown",
   "id": "e15969e7",
   "metadata": {},
   "source": [
    "O Jacobiano é uma matriz onde cada linha corresponde a uma função de saída (f_1,f_2,...) e cada coluna corresponde a uma variável de entrada (x,y,...)."
   ]
  },
  {
   "cell_type": "code",
   "execution_count": 115,
   "id": "5968b20c",
   "metadata": {},
   "outputs": [],
   "source": [
    "# Jacobiano: derivadas de cada componente do vetor\n",
    "J = jacobian(vector_field, point)"
   ]
  },
  {
   "cell_type": "markdown",
   "id": "35753600",
   "metadata": {},
   "source": [
    "Os resultados serão:"
   ]
  },
  {
   "cell_type": "code",
   "execution_count": 116,
   "id": "3032042d",
   "metadata": {},
   "outputs": [
    {
     "name": "stdout",
     "output_type": "stream",
     "text": [
      "Jacobiano:\n",
      " tensor([[2.0000, 1.0000],\n",
      "        [1.0806, 0.8415]])\n"
     ]
    }
   ],
   "source": [
    "print(\"Jacobiano:\\n\", J)"
   ]
  },
  {
   "cell_type": "markdown",
   "id": "f9d0923a",
   "metadata": {},
   "source": [
    "_____"
   ]
  },
  {
   "cell_type": "markdown",
   "id": "0121f347",
   "metadata": {},
   "source": [
    "## Rotacional (Curl) em 3D"
   ]
  },
  {
   "cell_type": "markdown",
   "id": "af7afc42",
   "metadata": {},
   "source": [
    "Este código demonstra como calcular o Rotacional (ou Curl) de um campo vetorial 3D utilizando a matriz Jacobiana calculada pelo PyTorch. O Rotacional mede a \"rotação\" de um campo vetorial em um determinado ponto.\n",
    "\n",
    "Definimos uma função (vector_field_3d) que recebe um vetor de entrada 3D (p = [x, y, z]) e retorna um vetor de saída 3D."
   ]
  },
  {
   "cell_type": "code",
   "execution_count": 117,
   "id": "ee845c81",
   "metadata": {},
   "outputs": [],
   "source": [
    "def vector_field_3d(p):\n",
    "    x, y, z = p\n",
    "    return torch.stack([\n",
    "        y * z,\n",
    "        x * z,\n",
    "        x * y\n",
    "    ])"
   ]
  },
  {
   "cell_type": "markdown",
   "id": "e30925a9",
   "metadata": {},
   "source": [
    "Criamos o tensor de entrada para o nosso campo vetorial e o Jacobiano de um campo vetorial 3D é uma matriz 3x3. Cada elemento da matriz J_ij é a derivada parcial da i-ésima componente de saída em relação à j-ésima variável de entrada."
   ]
  },
  {
   "cell_type": "code",
   "execution_count": 118,
   "id": "14d7b474",
   "metadata": {},
   "outputs": [],
   "source": [
    "p3d = torch.tensor([1.0, 2.0, 3.0], requires_grad=True)\n",
    "J3d = jacobian(vector_field_3d, p3d)\n"
   ]
  },
  {
   "cell_type": "markdown",
   "id": "17d297e0",
   "metadata": {},
   "source": [
    "O código usa os elementos da matriz Jacobiana para calcular cada componente do Rotacional. O acesso aos elementos da matriz é feito usando a notação [linha, coluna]."
   ]
  },
  {
   "cell_type": "code",
   "execution_count": 119,
   "id": "90e2f40d",
   "metadata": {},
   "outputs": [],
   "source": [
    "# Rotacional = linha cruzada da matriz jacobiana\n",
    "curl = torch.tensor([\n",
    "    J3d[2,1] - J3d[1,2],  # dFz/dy - dFy/dz\n",
    "    J3d[0,2] - J3d[2,0],  # dFx/dz - dFz/dx\n",
    "    J3d[1,0] - J3d[0,1]   # dFy/dx - dFx/dy\n",
    "])"
   ]
  },
  {
   "cell_type": "markdown",
   "id": "b5bf7946",
   "metadata": {},
   "source": [
    "Os resultados serão:"
   ]
  },
  {
   "cell_type": "code",
   "execution_count": 120,
   "id": "afe34b1a",
   "metadata": {},
   "outputs": [
    {
     "name": "stdout",
     "output_type": "stream",
     "text": [
      "Rotacional (Curl): tensor([0., 0., 0.])\n"
     ]
    }
   ],
   "source": [
    "print(\"Rotacional (Curl):\", curl)"
   ]
  },
  {
   "cell_type": "markdown",
   "id": "4070b046",
   "metadata": {},
   "source": [
    "_____"
   ]
  },
  {
   "cell_type": "markdown",
   "id": "865fb4b7",
   "metadata": {},
   "source": [
    "## Visualização com Matplotlib"
   ]
  },
  {
   "cell_type": "markdown",
   "id": "5d0a8eb8",
   "metadata": {},
   "source": [
    "Este código utiliza a biblioteca Matplotlib para criar um gráfico de \"campo de setas\" (quiver plot), que visualiza um campo vetorial 2D. Este tipo de gráfico é fundamental para entender o comportamento de vetores em cada ponto de um plano.\n",
    "- Primeiro, importamos as bibliotecas necessárias: matplotlib.pyplot para a plotagem e numpy para operações numéricas, como a criação de grades de pontos."
   ]
  },
  {
   "cell_type": "code",
   "execution_count": 121,
   "id": "8cb3f8c5",
   "metadata": {},
   "outputs": [],
   "source": [
    "import matplotlib.pyplot as plt\n",
    "import numpy as np"
   ]
  },
  {
   "cell_type": "markdown",
   "id": "e35963ba",
   "metadata": {},
   "source": [
    "Para plotar o campo vetorial, precisamos de uma grade de pontos no plano. Usamos np.meshgrid para criar duas matrizes, X e Y, que representam as coordenadas x e y de cada ponto na grade.\n",
    "\n",
    "Em seguida, definimos as componentes U e V do campo vetorial. Cada ponto (x, y) na nossa grade terá uma seta que aponta na direção (U, V)."
   ]
  },
  {
   "cell_type": "code",
   "execution_count": 122,
   "id": "86c40117",
   "metadata": {},
   "outputs": [],
   "source": [
    "X, Y = np.meshgrid(np.linspace(-2, 2, 20), np.linspace(-2, 2, 20))\n",
    "U = -Y\n",
    "V = X"
   ]
  },
  {
   "cell_type": "markdown",
   "id": "f2e8e7ba",
   "metadata": {},
   "source": [
    "- A função plt.quiver é a ferramenta principal para a visualização. Ela plota setas em cada ponto da grade.\n",
    "- As linhas restantes ajustam a aparência do gráfico para torná-lo mais informativo.\n",
    "\n",
    "O uso de plt.axis('equal') é importante para garantir que o círculo de rotação não seja distorcido. O resultado final é um gráfico claro que visualmente representa a rotação do campo vetorial."
   ]
  },
  {
   "cell_type": "code",
   "execution_count": 123,
   "id": "d468d50e",
   "metadata": {},
   "outputs": [
    {
     "data": {
      "image/png": "[encoded data removed]",
      "text/plain": [
       "<Figure size 640x480 with 1 Axes>"
      ]
     },
     "metadata": {},
     "output_type": "display_data"
    }
   ],
   "source": [
    "# Campo vetorial 2D (rotação)\n",
    "plt.figure()\n",
    "plt.quiver(X, Y, U, V)\n",
    "plt.title(\"Campo Vetorial 2D - Rotacional\")\n",
    "plt.xlabel('X')\n",
    "plt.ylabel('Y')\n",
    "plt.axis('equal')\n",
    "plt.grid(True)\n",
    "plt.show()"
   ]
  },
  {
   "cell_type": "markdown",
   "id": "6570ac7c",
   "metadata": {},
   "source": [
    "_____"
   ]
  },
  {
   "cell_type": "markdown",
   "id": "9ef7ec8b",
   "metadata": {},
   "source": [
    "## Mecânica do Contínuo: Campo de Deslocamento, Deformação e Tensão"
   ]
  },
  {
   "cell_type": "markdown",
   "id": "1ef0da13",
   "metadata": {},
   "source": [
    "Definimos um campo de deslocamento vetorial u = [u1, u2] que descreve como cada ponto (x, y) em um corpo se move."
   ]
  },
  {
   "cell_type": "code",
   "execution_count": 124,
   "id": "2ce50169",
   "metadata": {},
   "outputs": [],
   "source": [
    "# Deslocamento u = [u1(x, y), u2(x, y)] com deformações lineares\n",
    "def deslocamento(p):\n",
    "    x, y = p\n",
    "    return torch.stack([\n",
    "        0.01 * x * y,        # u1\n",
    "        0.01 * (x**2 - y**2) # u2\n",
    "    ])"
   ]
  },
  {
   "cell_type": "markdown",
   "id": "054990fa",
   "metadata": {},
   "source": [
    "O gradiente do campo de deslocamento é a matriz Jacobiana, que contém todas as derivadas parciais de primeira ordem do campo de deslocamento."
   ]
  },
  {
   "cell_type": "code",
   "execution_count": 125,
   "id": "e92a029e",
   "metadata": {},
   "outputs": [],
   "source": [
    "# Gradiente de deslocamento (Jacobiano = tensor de deformação infinitesimal)\n",
    "point = torch.tensor([1.0, 1.0], requires_grad=True)\n",
    "J = jacobian(deslocamento, point)"
   ]
  },
  {
   "cell_type": "markdown",
   "id": "f877bbb1",
   "metadata": {},
   "source": [
    "O Tensor de Deformação Infinitesimal (\n",
    "epsilon) representa a parte simétrica da deformação. Ele descreve a mudança de forma e volume do material, excluindo a rotação do corpo."
   ]
  },
  {
   "cell_type": "code",
   "execution_count": 126,
   "id": "524abcb3",
   "metadata": {},
   "outputs": [],
   "source": [
    "# Tensor de deformação infinitesimal ε = 1/2 (grad(u) + grad(u)^T)\n",
    "eps = 0.5 * (J + J.T)"
   ]
  },
  {
   "cell_type": "markdown",
   "id": "5cc9d282",
   "metadata": {},
   "source": [
    "Os resultados serão:"
   ]
  },
  {
   "cell_type": "code",
   "execution_count": 127,
   "id": "0550fd84",
   "metadata": {},
   "outputs": [
    {
     "name": "stdout",
     "output_type": "stream",
     "text": [
      "Gradiente de deslocamento:\n",
      " tensor([[ 0.0100,  0.0100],\n",
      "        [ 0.0200, -0.0200]])\n",
      "Tensor de deformação ε:\n",
      " tensor([[ 0.0100,  0.0150],\n",
      "        [ 0.0150, -0.0200]])\n"
     ]
    }
   ],
   "source": [
    "print(\"Gradiente de deslocamento:\\n\", J)\n",
    "print(\"Tensor de deformação ε:\\n\", eps)"
   ]
  }
 ],
 "metadata": {
  "kernelspec": {
   "display_name": "julia_exercicios",
   "language": "python",
   "name": "python3"
  },
  "language_info": {
   "codemirror_mode": {
    "name": "ipython",
    "version": 3
   },
   "file_extension": ".py",
   "mimetype": "text/x-python",
   "name": "python",
   "nbconvert_exporter": "python",
   "pygments_lexer": "ipython3",
   "version": "3.13.5"
  }
 },
 "nbformat": 4,
 "nbformat_minor": 5
}
