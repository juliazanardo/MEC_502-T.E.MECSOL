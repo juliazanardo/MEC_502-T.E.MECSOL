{
 "cells": [
  {
   "cell_type": "markdown",
   "metadata": {},
   "source": [
    "# Exercise 10 - Neural Network Representational Capacity\n",
    "## Tasks\n",
    "- Change the number of neurons in the hidden layers and the number of layers. Observe how the output changes and how the number of parameters changes (checked with summary from the torchsummary package).\n",
    "-  Derive a formula for the number of trainable parameters assuming two input neurons, one output neuron, $N_d$ hidden layers with $N_w$ neurons each. What is the number of biases $N_b$ and\n",
    "the number of weights $N_w$ ? Verify your result with the output from summary.\n",
    "\n",
    "## Learning Goals\n",
    "- Visualize and compare the potential neural network capacity of different architectures\n",
    "\n",
    "\n",
    "## Attribution \n",
    "This task is inspired by https://github.com/FlorianMarquardt/machine-learning-for-physicists/blob/master/02_tutorial_completed_NetworkTrainingVisualization.ipynb."
   ]
  },
  {
   "cell_type": "code",
   "execution_count": 11,
   "metadata": {
    "ExecuteTime": {
     "end_time": "2023-12-22T14:04:56.049607091Z",
     "start_time": "2023-12-22T14:04:56.003863283Z"
    }
   },
   "outputs": [],
   "source": [
    "import torch\n",
    "from torchinfo import summary       # torchinfo replaces torchsummary, uses same syntax"
   ]
  },
  {
   "cell_type": "markdown",
   "metadata": {},
   "source": [
    "## Helper function"
   ]
  },
  {
   "cell_type": "markdown",
   "metadata": {},
   "source": [
    "**weight initialization**"
   ]
  },
  {
   "cell_type": "code",
   "execution_count": null,
   "metadata": {
    "ExecuteTime": {
     "end_time": "2023-12-22T14:04:56.239814645Z",
     "start_time": "2023-12-22T14:04:56.237847389Z"
    }
   },
   "outputs": [],
   "source": [
    "def initWeights(m):\n",
    "    \"\"\"Initialize weights of neural network with xavier initialization.\"\"\"\n",
    "    if (\n",
    "            type(m) == torch.nn.Linear\n",
    "            or type(m) == torch.nn.Conv2d\n",
    "            or type(m) == torch.nn.Conv3d\n",
    "    ):\n",
    "        torch.nn.init.uniform_(m.weight, a=-10, b=10)\n",
    "        torch.nn.init.uniform_(m.bias, a=-1, b=1)"
   ]
  },
  {
   "cell_type": "markdown",
   "metadata": {},
   "source": [
    "**neural network definition**"
   ]
  },
  {
   "cell_type": "code",
   "execution_count": null,
   "metadata": {
    "ExecuteTime": {
     "end_time": "2023-12-22T14:04:56.491647850Z",
     "start_time": "2023-12-22T14:04:56.487035598Z"
    }
   },
   "outputs": [],
   "source": [
    "class NN(torch.nn.Module):\n",
    "    def __init__(\n",
    "            self,\n",
    "            inputDimension,\n",
    "            hiddenDimensions,\n",
    "            outputDimension,\n",
    "            activationFunction=torch.nn.Tanh(),\n",
    "    ):\n",
    "        super().__init__()\n",
    "\n",
    "        modules = []\n",
    "\n",
    "        modules.append(torch.nn.Linear(inputDimension, hiddenDimensions[0]))\n",
    "        modules.append(activationFunction)\n",
    "        for i in range(len(hiddenDimensions) - 1):\n",
    "            modules.append(\n",
    "                torch.nn.Linear(hiddenDimensions[i], hiddenDimensions[i + 1])\n",
    "            )\n",
    "            modules.append(activationFunction)\n",
    "        modules.append(torch.nn.Linear(hiddenDimensions[-1], outputDimension))\n",
    "\n",
    "        self.model = torch.nn.Sequential(*modules)\n",
    "\n",
    "    def forward(self, x):\n",
    "        u = self.model(x)\n",
    "        return u"
   ]
  },
  {
   "cell_type": "markdown",
   "metadata": {},
   "source": [
    "## Neural network definition & sampling"
   ]
  },
  {
   "cell_type": "markdown",
   "metadata": {},
   "source": [
    "**model definition**"
   ]
  },
  {
   "cell_type": "code",
   "execution_count": null,
   "metadata": {
    "ExecuteTime": {
     "end_time": "2023-12-22T14:04:56.757856610Z",
     "start_time": "2023-12-22T14:04:56.747576101Z"
    }
   },
   "outputs": [],
   "source": [
    "torch.manual_seed(5)\n",
    "\n",
    "numberOfHiddenNeurons = 100\n",
    "numberOfLayers = 10\n",
    "\n",
    "hiddenDimensions = [numberOfHiddenNeurons] * numberOfLayers\n",
    "activationFunction = torch.nn.Sigmoid()\n",
    "model = NN(2, hiddenDimensions, 1, activationFunction)\n",
    "model.apply(initWeights)\n",
    "\n",
    "# summarize the neural network and show number of trainable parameters\n",
    "# the tuple is the input shape\n",
    "summary(model, (1, 2))"
   ]
  },
  {
   "cell_type": "markdown",
   "metadata": {},
   "source": [
    "**grid definition**"
   ]
  },
  {
   "cell_type": "code",
   "execution_count": null,
   "metadata": {
    "ExecuteTime": {
     "end_time": "2023-12-22T14:04:57.953177842Z",
     "start_time": "2023-12-22T14:04:56.981122858Z"
    }
   },
   "outputs": [],
   "source": [
    "Nx = 1000\n",
    "Ny = 500\n",
    "\n",
    "x = torch.linspace(-1, 1, Nx)\n",
    "y = torch.linspace(-0.5, 0.5, Ny)\n",
    "x, y = torch.meshgrid(x, y, indexing=\"ij\")\n",
    "input = torch.cat((x.reshape(-1, 1), y.reshape(-1, 1)), 1)\n",
    "with torch.no_grad():\n",
    "    output = model(input).detach().reshape((Nx, Ny))"
   ]
  },
  {
   "cell_type": "markdown",
   "metadata": {},
   "source": [
    "## Output Visualization"
   ]
  },
  {
   "cell_type": "markdown",
   "metadata": {},
   "source": [
    "**Optional: zoomable, automatically updating output visualization:**\n",
    "\n",
    "Setting `INTERACTIVE_PLOT = True` should open an interactive window allowing zooming in to explore the complexity of the network output. Zoom by dragging and releasing cursor (as if dragging a zoom tool, but with just the cursor)\n",
    "Interactive zoom refresh thanks to: https://stackoverflow.com/questions/29821177/python-matplotlib-replot-on-zoom\n",
    "\n",
    "This requires setting the output as an interactive window rather than normal notebook inline behavior. Note that this generally needs to be done before `matplotlib.pyplot` is imported. "
   ]
  },
  {
   "cell_type": "code",
   "execution_count": null,
   "metadata": {},
   "outputs": [],
   "source": [
    "INTERACTIVE_PLOT = False\n",
    "\n",
    "if not INTERACTIVE_PLOT:\n",
    "    import matplotlib.pyplot as plt\n",
    "    fig, ax = plt.subplots(figsize=(12, 6))\n",
    "    cp = ax.pcolormesh(\n",
    "        x, y, output, cmap=plt.cm.inferno, shading='auto'\n",
    "    )  # colormap inferno or plasma look great\n",
    "    plt.title('Network output visualization')\n",
    "    plt.show()\n",
    "\n",
    "else:               # interactive\n",
    "    # These lines (and likely a kernel restart) should make an interactive plot. \n",
    "    # Depends on platform/install details\n",
    "    import matplotlib\n",
    "    matplotlib.use('qtagg')  \n",
    "    # %matplotlib widget \n",
    "    import matplotlib.pyplot as plt\n",
    "\n",
    "    class ZoomPlot():\n",
    "\n",
    "        def __init__(self):\n",
    "            self.fig = plt.figure()\n",
    "            self.ax = self.fig.add_subplot(111)\n",
    "            self.xmin = -2.\n",
    "            self.xmax = 2.\n",
    "            self.ymin = -2.\n",
    "            self.ymax = 2.\n",
    "            self.xpress = self.xmin\n",
    "            self.xrelease = self.xmax\n",
    "            self.ypress = self.ymin\n",
    "            self.yrelease = self.ymax\n",
    "            self.resolution = 400\n",
    "            self.maxiters = 30\n",
    "\n",
    "            self.fig.canvas.mpl_connect('button_press_event', self.onpress)\n",
    "            self.fig.canvas.mpl_connect('button_release_event', self.onrelease)\n",
    "            self.plot_fixed_resolution(self.xmin, self.xmax,\n",
    "                                    self.ymin, self.ymax)\n",
    "\n",
    "        def plot_fixed_resolution(self, x1, x2, y1, y2):\n",
    "            x = torch.linspace(x1, x2, self.resolution)\n",
    "            y = torch.linspace(y1, y2, self.resolution)\n",
    "\n",
    "            x, y = torch.meshgrid(x, y, indexing=\"ij\")\n",
    "            input = torch.cat((x.reshape(-1, 1), y.reshape(-1, 1)), 1)\n",
    "            with torch.no_grad():\n",
    "                output = model(input).detach().reshape((self.resolution, self.resolution))\n",
    "\n",
    "            self.ax.clear()\n",
    "            self.ax.set_xlim(x1, x2)\n",
    "            self.ax.set_ylim(y1, y2)\n",
    "            self.ax.pcolormesh(\n",
    "                x, y, output, cmap=plt.cm.inferno, shading='auto')  # colormap inferno or plasma look great\n",
    "            plt.title('Interactive plot, click and drag cursor')\n",
    "            plt.show()\n",
    "            self.fig.canvas.draw()\n",
    "\n",
    "        def onpress(self, event):\n",
    "            if event.button != 1: return\n",
    "            self.xpress = event.xdata\n",
    "            self.ypress = event.ydata\n",
    "\n",
    "        def onrelease(self, event):\n",
    "            if event.button != 1: return\n",
    "            self.xrelease = event.xdata\n",
    "            self.yrelease = event.ydata\n",
    "            self.xmin = min(self.xpress, self.xrelease)\n",
    "            self.xmax = max(self.xpress, self.xrelease)\n",
    "            self.ymin = min(self.ypress, self.yrelease)\n",
    "            self.ymax = max(self.ypress, self.yrelease)\n",
    "            self.plot_fixed_resolution(self.xmin, self.xmax,\n",
    "                                    self.ymin, self.ymax)\n",
    "\n",
    "\n",
    "    plot = ZoomPlot()"
   ]
  }
 ],
 "metadata": {
  "kernelspec": {
   "display_name": "Python . (XPython)",
   "language": "python",
   "name": "xpython"
  },
  "language_info": {
   "file_extension": ".py",
   "mimetype": "text/x-python",
   "name": "python",
   "version": "3.12.9"
  }
 },
 "nbformat": 4,
 "nbformat_minor": 2
}
