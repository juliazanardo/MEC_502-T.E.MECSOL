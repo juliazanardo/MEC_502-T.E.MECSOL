{
 "cells": [
  {
   "cell_type": "markdown",
   "metadata": {},
   "source": [
    "# Exercise 11 - Convolutional Neural Network\n",
    "\n",
    "## Tasks\n",
    "- Familiarize yourself with PyTorch CNN syntax\n",
    "\n",
    "## Learning Goals\n",
    "- Observe the impact of different convolutional filters on an input image\n",
    "- Familarize yourself with PyTorch's syntax for convolutional neural networks\n",
    "\n",
    "Note: within Convolutional Neural Networks, the filters are learnable. Here they are specified."
   ]
  },
  {
   "cell_type": "code",
   "execution_count": null,
   "metadata": {
    "ExecuteTime": {
     "end_time": "2023-12-22T17:09:58.603501773Z",
     "start_time": "2023-12-22T17:09:58.572694972Z"
    }
   },
   "outputs": [],
   "source": [
    "import torch\n",
    "from PIL import Image\n",
    "import matplotlib.pyplot as plt\n",
    "import numpy as np"
   ]
  },
  {
   "cell_type": "markdown",
   "metadata": {},
   "source": [
    "**data preparation**"
   ]
  },
  {
   "cell_type": "code",
   "execution_count": null,
   "metadata": {
    "ExecuteTime": {
     "end_time": "2023-12-22T17:09:58.786685614Z",
     "start_time": "2023-12-22T17:09:58.771205335Z"
    }
   },
   "outputs": [],
   "source": [
    "image = Image.open(\"Lucy.jpg\")\n",
    "data = np.asarray(image)\n",
    "print(\"shape of data:\", data.shape)\n",
    "\n",
    "rgbWeights = [0.2989, 0.5870, 0.1140]\n",
    "data = np.dot(data[..., :3], rgbWeights)  # convert to gray scale\n",
    "print(\"shape of data:\", data.shape)\n",
    "\n",
    "data = torch.from_numpy(data).unsqueeze(0).unsqueeze(0).to(torch.float32)\n",
    "print(\"shape of data:\", data.shape)"
   ]
  },
  {
   "cell_type": "markdown",
   "metadata": {},
   "source": [
    "**helper function, which converts torch tensors to filters** (models consisting of a single convolutional filter)"
   ]
  },
  {
   "cell_type": "code",
   "execution_count": null,
   "metadata": {
    "ExecuteTime": {
     "end_time": "2023-12-22T17:09:59.010271574Z",
     "start_time": "2023-12-22T17:09:59.007397983Z"
    }
   },
   "outputs": [],
   "source": [
    "def makeFilter(input):\n",
    "    filter = torch.nn.Conv2d(\n",
    "        1, 1, kernel_size=input.shape[-1], stride=1, padding=0, bias=False\n",
    "    )  # assumes a square filter\n",
    "    filter.weight.data = input\n",
    "    return filter"
   ]
  },
  {
   "cell_type": "markdown",
   "metadata": {},
   "source": [
    "**original image**"
   ]
  },
  {
   "cell_type": "code",
   "execution_count": null,
   "metadata": {
    "ExecuteTime": {
     "end_time": "2023-12-22T17:09:59.402327Z",
     "start_time": "2023-12-22T17:09:59.310154620Z"
    }
   },
   "outputs": [],
   "source": [
    "plt.figure(figsize=(12, 6))\n",
    "plt.imshow(data.squeeze(), cmap=\"gray\")\n",
    "plt.axis(\"off\")\n",
    "plt.show()"
   ]
  },
  {
   "cell_type": "markdown",
   "metadata": {},
   "source": [
    "**apply a** $3\\times 3$ ***Gaussian* filter**\n",
    "$$\n",
    "    \\text{filter} = \\frac{1}{16}\\left[\n",
    "        \\begin{array}{ccc}\n",
    "            1 & 2 & 1 \\\\\n",
    "            2 & 4 & 2 \\\\\n",
    "            1 & 2 & 1\n",
    "        \\end{array}\n",
    "    \\right]\n",
    "$$\n",
    "**to the image**"
   ]
  },
  {
   "cell_type": "code",
   "execution_count": null,
   "metadata": {
    "ExecuteTime": {
     "end_time": "2023-12-22T17:09:59.681987216Z",
     "start_time": "2023-12-22T17:09:59.588363797Z"
    }
   },
   "outputs": [],
   "source": [
    "gaussianFilter3By3 = makeFilter(\n",
    "    torch.tensor([[[[1.0, 2.0, 1.0], [2.0, 4.0, 2.0], [1.0, 2.0, 1.0]]]]) / 16.0\n",
    ")\n",
    "\n",
    "output = gaussianFilter3By3(data).detach()\n",
    "\n",
    "plt.figure(figsize=(12, 6))\n",
    "plt.imshow(output.squeeze(), cmap=\"gray\")\n",
    "plt.axis(\"off\")\n",
    "plt.show()"
   ]
  },
  {
   "cell_type": "markdown",
   "metadata": {},
   "source": [
    "**apply a** $5\\times 5$ ***Gaussian* filter**\n",
    "$$\n",
    "    \\text{filter} = \\frac{1}{159}\\left[\n",
    "        \\begin{array}{ccccc}\n",
    "            2 & 4 & 5 & 2 & 2 \\\\\n",
    "            4 & 9 & 12 & 9 & 4 \\\\\n",
    "            5 & 12 & 15 & 12 & 5 \\\\\n",
    "            4 & 9 & 12 & 9 & 4 \\\\\n",
    "            2 & 4 & 5 & 2 & 2\n",
    "        \\end{array}\n",
    "    \\right]\n",
    "$$\n",
    "**to the image**"
   ]
  },
  {
   "cell_type": "code",
   "execution_count": null,
   "metadata": {
    "ExecuteTime": {
     "end_time": "2023-12-22T17:10:00.826728205Z",
     "start_time": "2023-12-22T17:10:00.736207347Z"
    }
   },
   "outputs": [],
   "source": [
    "gaussianFilter5By5 = makeFilter(\n",
    "    torch.tensor(\n",
    "        [\n",
    "            [\n",
    "                [\n",
    "                    [2.0, 4.0, 5.0, 4.0, 2.0],\n",
    "                    [4.0, 9.0, 12.0, 9.0, 4.0],\n",
    "                    [5.0, 12.0, 15.0, 12.0, 5.0],\n",
    "                    [4.0, 9.0, 12.0, 9.0, 4.0],\n",
    "                    [2.0, 4.0, 5.0, 4.0, 2.0],\n",
    "                ]\n",
    "            ]\n",
    "        ]\n",
    "    )\n",
    "    / 159.0\n",
    ")\n",
    "\n",
    "output = gaussianFilter5By5(data).detach()\n",
    "\n",
    "plt.figure(figsize=(12, 6))\n",
    "plt.imshow(output.squeeze(), cmap=\"gray\")\n",
    "plt.axis(\"off\")\n",
    "plt.show()"
   ]
  },
  {
   "cell_type": "markdown",
   "metadata": {},
   "source": [
    "**apply a *Sobel* filter in the** $x$-**direction to obtain that discreet derivative** \n",
    "$$\n",
    "    \\text{filter} = \\left[\n",
    "        \\begin{array}{ccc}\n",
    "            -1 & 0 & 1 \\\\\n",
    "            -2 & 0 & 2 \\\\\n",
    "            -1 & 0 & 1\n",
    "        \\end{array}\n",
    "    \\right]\n",
    "$$\n",
    "**to the image**"
   ]
  },
  {
   "cell_type": "code",
   "execution_count": null,
   "metadata": {
    "ExecuteTime": {
     "end_time": "2023-12-22T17:10:02.086867605Z",
     "start_time": "2023-12-22T17:10:01.982611465Z"
    }
   },
   "outputs": [],
   "source": [
    "sobelxFilter = makeFilter(\n",
    "    torch.tensor([[[[-1.0, 0.0, 1.0], [-2.0, 0.0, 2.0], [-1.0, 0.0, 1.0]]]])\n",
    ")\n",
    "\n",
    "outputx = sobelxFilter(data).detach()\n",
    "\n",
    "plt.figure(figsize=(12, 6))\n",
    "plt.imshow(outputx.squeeze(), cmap=\"gray\")\n",
    "plt.axis(\"off\")\n",
    "plt.show()"
   ]
  },
  {
   "cell_type": "markdown",
   "metadata": {},
   "source": [
    "**apply a *Sobel* filter in the** $y$-**direction to obtain that discreet derivative**\n",
    "$$\n",
    "    \\text{filter} = \\left[\n",
    "        \\begin{array}{ccc}\n",
    "            -1 & -2 & -1 \\\\\n",
    "            0 & 0 & 0 \\\\\n",
    "            1 & 2 & 1\n",
    "        \\end{array}\n",
    "    \\right]\n",
    "$$\n",
    "**to the image**"
   ]
  },
  {
   "cell_type": "code",
   "execution_count": null,
   "metadata": {
    "ExecuteTime": {
     "end_time": "2023-12-22T17:10:03.309551970Z",
     "start_time": "2023-12-22T17:10:03.198305613Z"
    }
   },
   "outputs": [],
   "source": [
    "sobelyFilter = makeFilter(\n",
    "    torch.tensor([[[[-1.0, -2.0, -1.0], [0.0, 0.0, 0.0], [1.0, 2.0, 1.0]]]])\n",
    ")\n",
    "\n",
    "outputy = sobelyFilter(data).detach()\n",
    "\n",
    "plt.figure(figsize=(12, 6))\n",
    "plt.imshow(outputy.squeeze(), cmap=\"gray\")\n",
    "plt.axis(\"off\")\n",
    "plt.show()"
   ]
  },
  {
   "cell_type": "markdown",
   "metadata": {},
   "source": [
    "**get the gradient magnitude from the image**"
   ]
  },
  {
   "cell_type": "code",
   "execution_count": null,
   "metadata": {
    "ExecuteTime": {
     "end_time": "2023-12-22T17:10:11.127824861Z",
     "start_time": "2023-12-22T17:10:11.009093938Z"
    }
   },
   "outputs": [],
   "source": [
    "gradientMagnitude = torch.sqrt(outputx ** 2 + outputy ** 2)\n",
    "\n",
    "plt.figure(figsize=(12, 6))\n",
    "plt.imshow(gradientMagnitude.squeeze(), cmap=\"gray\")\n",
    "plt.axis(\"off\")\n",
    "plt.show()"
   ]
  }
 ],
 "metadata": {
  "kernelspec": {
   "display_name": "Python . (XPython)",
   "language": "python",
   "name": "xpython"
  },
  "language_info": {
   "file_extension": ".py",
   "mimetype": "text/x-python",
   "name": "python",
   "version": "3.12.9"
  }
 },
 "nbformat": 4,
 "nbformat_minor": 2
}
