{
 "cells": [
  {
   "cell_type": "markdown",
   "metadata": {},
   "source": [
    "# Exercise 12 - Learning Strain Distributions\n",
    "### Task\n",
    "Tune an advanced neural network to learn strain distributions\n",
    "- Perform a training with the tensorBoard options (`writeGraph`, `writeHistogram`, `writeLearningHistory`, `writePredictions`) enabled\n",
    "- Invoke TensorBoard from  the terminal with `tensorboard --logdir=logs`  (while being in the same directory as this notebook).  \n",
    "If necessary, run `conda activate aicome` first.  \n",
    "Open TensorBoard at: http://localhost:6006\n",
    "- Compare the performance of the three neural network architectures by changing `selectNN` and using TensorBoard (in the `scalars` menu, make sure to toggle the y-axis log scale)\n",
    "- Tune the hyperparameters (turn off the `writeHistogram` and `writePredictions`)\n",
    "- Increase the number of training samples with `numberOfTrainingSamples` and readjust the hyperparameters if necessary\n",
    "- Add L2 regularization with `weightDecay`\n",
    "\n",
    "### Learning goals\n",
    "- Understand the process of hyperparameter tuning\n",
    "- Familiarize yourself with professional deep learning training workflows with tools, such as DataSet, DataLoader, summary, and TensorBoard\n"
   ]
  },
  {
   "cell_type": "code",
   "execution_count": 15,
   "metadata": {},
   "outputs": [],
   "source": [
    "import torch\n",
    "from torch.utils.data import DataLoader\n",
    "from torchinfo import summary           # torchinfo replaces torchsummary, uses same syntax\n",
    "import numpy as np\n",
    "import time\n",
    "import matplotlib.pyplot as plt\n",
    "from torch.utils.tensorboard import SummaryWriter\n",
    "import NeuralNetwork                    # CNN for strain distribution defined in NeuralNetwork.py\n",
    "import datetime\n",
    "import copy\n",
    "import torchvision"
   ]
  },
  {
   "cell_type": "markdown",
   "metadata": {},
   "source": [
    "## User settings"
   ]
  },
  {
   "cell_type": "markdown",
   "metadata": {},
   "source": [
    "**tensorBoard options**"
   ]
  },
  {
   "cell_type": "code",
   "execution_count": 16,
   "metadata": {},
   "outputs": [],
   "source": [
    "writeGraph = False\n",
    "writeHistogram = False\n",
    "writeLearningHistory = False\n",
    "writePredictions = False"
   ]
  },
  {
   "cell_type": "markdown",
   "metadata": {},
   "source": [
    "**driver setup**"
   ]
  },
  {
   "cell_type": "code",
   "execution_count": 17,
   "metadata": {
    "jupyter": {
     "outputs_hidden": false
    }
   },
   "outputs": [],
   "source": [
    "seed = 2\n",
    "torch.manual_seed(seed)\n",
    "device = torch.device('cuda' if torch.cuda.is_available() else 'cpu')\n",
    "writer = SummaryWriter(log_dir=\"./logs/fit\" + datetime.datetime.now().strftime(\"%Y%m%d-%H%M%S\"))"
   ]
  },
  {
   "cell_type": "markdown",
   "metadata": {},
   "source": [
    "**neural network architecture selection**"
   ]
  },
  {
   "cell_type": "code",
   "execution_count": 18,
   "metadata": {},
   "outputs": [],
   "source": [
    "selectNN = 2  # 0 for UNet, 1 for sequential CNN, 2 for UNet with subsequent feedforward CNN"
   ]
  },
  {
   "cell_type": "markdown",
   "metadata": {},
   "source": [
    "**model parameters**"
   ]
  },
  {
   "cell_type": "code",
   "execution_count": 19,
   "metadata": {},
   "outputs": [],
   "source": [
    "kernelSize = 3\n",
    "\n",
    "if selectNN == 0:\n",
    "    channels = [1, 32, 64]\n",
    "    channelsOut = 3\n",
    "    numberOfConvolutionsPerBlock = 1\n",
    "    model = NeuralNetwork.UNet(channels, channelsOut, numberOfConvolutionsPerBlock, kernelSize)\n",
    "elif selectNN == 1:\n",
    "    channels = [1, 32, 64, 32]\n",
    "    channelsOut = 3\n",
    "    model = NeuralNetwork.FeedforwardCNN(channels, channelsOut, kernelSize)\n",
    "elif selectNN == 2:\n",
    "    channelsUNet = [1, 32, 64]\n",
    "    numberOfConvolutionsPerBlockUNet = 1\n",
    "    channelsFeedforwardCNN = [64, 32, 16]\n",
    "    channelsOut = 3\n",
    "    model = NeuralNetwork.UNetWithSubsequentFeedforwardCNN(channelsUNet, numberOfConvolutionsPerBlockUNet,\n",
    "                                                           channelsFeedforwardCNN, channelsOut, kernelSize)\n",
    "model.to(device)\n",
    "summary(model, (1, 1, 32, 32))\n",
    "if writeGraph == True:\n",
    "    writer.add_graph(model, torch.randn((1, 1, 32, 32), device=device))"
   ]
  },
  {
   "cell_type": "markdown",
   "metadata": {},
   "source": [
    "**hyperparameters**"
   ]
  },
  {
   "cell_type": "code",
   "execution_count": 20,
   "metadata": {},
   "outputs": [],
   "source": [
    "batchSize = 128\n",
    "alpha = -0.2\n",
    "beta = 0.2\n",
    "weightDecay = 0\n",
    "lr = 2e-3\n",
    "epochs = 1000\n",
    "earlyStopping = True"
   ]
  },
  {
   "cell_type": "markdown",
   "metadata": {},
   "source": [
    "## Pre-processing"
   ]
  },
  {
   "cell_type": "markdown",
   "metadata": {},
   "source": [
    "**prepare dataset**"
   ]
  },
  {
   "cell_type": "code",
   "execution_count": 21,
   "metadata": {},
   "outputs": [],
   "source": [
    "numberOfTrainingSamples = 1\n",
    "numberOfSamples = numberOfTrainingSamples + 32\n",
    "dataset = NeuralNetwork.elasticityDataset(device, numberOfSamples)\n",
    "# normalization\n",
    "dataset.E = (dataset.E - np.mean([3000, 85000])) / np.std([3000, 85000])\n",
    "datasetTraining, datasetValidation = torch.utils.data.random_split(dataset, [numberOfTrainingSamples,\n",
    "                                                                             len(dataset) - numberOfTrainingSamples],\n",
    "                                                                   generator=torch.Generator().manual_seed(2))\n",
    "\n",
    "dataloaderTraining = DataLoader(datasetTraining, batch_size=batchSize)\n",
    "dataloaderValidation = DataLoader(datasetValidation, batch_size=len(dataset))\n",
    "\n",
    "if writePredictions == True:\n",
    "    sample = next(iter(dataloaderValidation))\n",
    "    validationLabelImages = torchvision.utils.make_grid(sample[1][:16], normalize=True, value_range=(-1, 1))\n",
    "    for i in range(3):\n",
    "        writer.add_image(f'validation label {i + 1}', validationLabelImages[i], dataformats='HW')\n"
   ]
  },
  {
   "cell_type": "markdown",
   "metadata": {},
   "source": [
    "## Training"
   ]
  },
  {
   "cell_type": "markdown",
   "metadata": {},
   "source": [
    "**optimizer and scheduler instantiation**"
   ]
  },
  {
   "cell_type": "code",
   "execution_count": 22,
   "metadata": {},
   "outputs": [],
   "source": [
    "optimizer = torch.optim.Adam(model.parameters(), lr=lr, weight_decay=weightDecay)\n",
    "lr_lambda = lambda epoch: (beta * epoch + 1) ** alpha\n",
    "scheduler = torch.optim.lr_scheduler.LambdaLR(optimizer, lr_lambda)"
   ]
  },
  {
   "cell_type": "markdown",
   "metadata": {},
   "source": [
    "**history variables**"
   ]
  },
  {
   "cell_type": "code",
   "execution_count": 23,
   "metadata": {},
   "outputs": [],
   "source": [
    "trainingCostHistory = np.zeros(epochs)\n",
    "validationCostHistory = np.zeros(epochs)"
   ]
  },
  {
   "cell_type": "markdown",
   "metadata": {},
   "source": [
    "**training loop**"
   ]
  },
  {
   "cell_type": "code",
   "execution_count": 24,
   "metadata": {},
   "outputs": [
    {
     "name": "stdout",
     "output_type": "stream",
     "text": [
      "Epoch: 1/1000\t\tTraining cost: 2.97e-01\t\tValidation cost: 5.58e-03\n",
      "Elapsed time for last epoch: 0.01 s\n",
      "Epoch: 11/1000\t\tTraining cost: 1.16e-02\t\tValidation cost: 5.66e-03\n",
      "Elapsed time for last epoch: 0.01 s\n",
      "Epoch: 21/1000\t\tTraining cost: 5.07e-03\t\tValidation cost: 5.73e-03\n",
      "Elapsed time for last epoch: 0.00 s\n",
      "Epoch: 31/1000\t\tTraining cost: 3.12e-03\t\tValidation cost: 5.37e-03\n",
      "Elapsed time for last epoch: 0.00 s\n",
      "Epoch: 41/1000\t\tTraining cost: 2.26e-03\t\tValidation cost: 4.78e-03\n",
      "Elapsed time for last epoch: 0.01 s\n",
      "Epoch: 51/1000\t\tTraining cost: 1.80e-03\t\tValidation cost: 4.43e-03\n",
      "Elapsed time for last epoch: 0.01 s\n",
      "Epoch: 61/1000\t\tTraining cost: 1.51e-03\t\tValidation cost: 4.16e-03\n",
      "Elapsed time for last epoch: 0.01 s\n",
      "Epoch: 71/1000\t\tTraining cost: 1.30e-03\t\tValidation cost: 3.98e-03\n",
      "Elapsed time for last epoch: 0.01 s\n",
      "Epoch: 81/1000\t\tTraining cost: 1.15e-03\t\tValidation cost: 3.84e-03\n",
      "Elapsed time for last epoch: 0.01 s\n",
      "Epoch: 91/1000\t\tTraining cost: 1.03e-03\t\tValidation cost: 3.74e-03\n",
      "Elapsed time for last epoch: 0.01 s\n",
      "Epoch: 101/1000\t\tTraining cost: 9.34e-04\t\tValidation cost: 3.68e-03\n",
      "Elapsed time for last epoch: 0.01 s\n",
      "Epoch: 111/1000\t\tTraining cost: 8.51e-04\t\tValidation cost: 3.63e-03\n",
      "Elapsed time for last epoch: 0.01 s\n",
      "Epoch: 121/1000\t\tTraining cost: 7.80e-04\t\tValidation cost: 3.59e-03\n",
      "Elapsed time for last epoch: 0.01 s\n",
      "Epoch: 131/1000\t\tTraining cost: 7.18e-04\t\tValidation cost: 3.55e-03\n",
      "Elapsed time for last epoch: 0.01 s\n",
      "Epoch: 141/1000\t\tTraining cost: 6.63e-04\t\tValidation cost: 3.52e-03\n",
      "Elapsed time for last epoch: 0.01 s\n",
      "Epoch: 151/1000\t\tTraining cost: 6.14e-04\t\tValidation cost: 3.49e-03\n",
      "Elapsed time for last epoch: 0.01 s\n",
      "Epoch: 161/1000\t\tTraining cost: 5.70e-04\t\tValidation cost: 3.47e-03\n",
      "Elapsed time for last epoch: 0.01 s\n",
      "Epoch: 171/1000\t\tTraining cost: 5.31e-04\t\tValidation cost: 3.45e-03\n",
      "Elapsed time for last epoch: 0.01 s\n",
      "Epoch: 181/1000\t\tTraining cost: 4.95e-04\t\tValidation cost: 3.44e-03\n",
      "Elapsed time for last epoch: 0.01 s\n",
      "Epoch: 191/1000\t\tTraining cost: 4.64e-04\t\tValidation cost: 3.42e-03\n",
      "Elapsed time for last epoch: 0.01 s\n",
      "Epoch: 201/1000\t\tTraining cost: 4.35e-04\t\tValidation cost: 3.41e-03\n",
      "Elapsed time for last epoch: 0.01 s\n",
      "Epoch: 211/1000\t\tTraining cost: 4.08e-04\t\tValidation cost: 3.40e-03\n",
      "Elapsed time for last epoch: 0.01 s\n",
      "Epoch: 221/1000\t\tTraining cost: 3.84e-04\t\tValidation cost: 3.40e-03\n",
      "Elapsed time for last epoch: 0.01 s\n",
      "Epoch: 231/1000\t\tTraining cost: 3.61e-04\t\tValidation cost: 3.39e-03\n",
      "Elapsed time for last epoch: 0.01 s\n",
      "Epoch: 241/1000\t\tTraining cost: 3.40e-04\t\tValidation cost: 3.39e-03\n",
      "Elapsed time for last epoch: 0.01 s\n",
      "Epoch: 251/1000\t\tTraining cost: 3.21e-04\t\tValidation cost: 3.39e-03\n",
      "Elapsed time for last epoch: 0.01 s\n",
      "Epoch: 261/1000\t\tTraining cost: 3.03e-04\t\tValidation cost: 3.39e-03\n",
      "Elapsed time for last epoch: 0.01 s\n",
      "Epoch: 271/1000\t\tTraining cost: 2.86e-04\t\tValidation cost: 3.38e-03\n",
      "Elapsed time for last epoch: 0.01 s\n",
      "Epoch: 281/1000\t\tTraining cost: 2.70e-04\t\tValidation cost: 3.39e-03\n",
      "Elapsed time for last epoch: 0.00 s\n",
      "Epoch: 291/1000\t\tTraining cost: 2.56e-04\t\tValidation cost: 3.39e-03\n",
      "Elapsed time for last epoch: 0.00 s\n",
      "Epoch: 301/1000\t\tTraining cost: 2.42e-04\t\tValidation cost: 3.39e-03\n",
      "Elapsed time for last epoch: 0.00 s\n",
      "Epoch: 311/1000\t\tTraining cost: 2.30e-04\t\tValidation cost: 3.39e-03\n",
      "Elapsed time for last epoch: 0.00 s\n",
      "Epoch: 321/1000\t\tTraining cost: 2.18e-04\t\tValidation cost: 3.39e-03\n",
      "Elapsed time for last epoch: 0.00 s\n",
      "Epoch: 331/1000\t\tTraining cost: 2.07e-04\t\tValidation cost: 3.39e-03\n",
      "Elapsed time for last epoch: 0.00 s\n",
      "Epoch: 341/1000\t\tTraining cost: 1.97e-04\t\tValidation cost: 3.40e-03\n",
      "Elapsed time for last epoch: 0.00 s\n",
      "Epoch: 351/1000\t\tTraining cost: 1.87e-04\t\tValidation cost: 3.40e-03\n",
      "Elapsed time for last epoch: 0.00 s\n",
      "Epoch: 361/1000\t\tTraining cost: 1.78e-04\t\tValidation cost: 3.41e-03\n",
      "Elapsed time for last epoch: 0.00 s\n",
      "Epoch: 371/1000\t\tTraining cost: 1.69e-04\t\tValidation cost: 3.41e-03\n",
      "Elapsed time for last epoch: 0.00 s\n",
      "Epoch: 381/1000\t\tTraining cost: 1.62e-04\t\tValidation cost: 3.42e-03\n",
      "Elapsed time for last epoch: 0.01 s\n",
      "Epoch: 391/1000\t\tTraining cost: 1.54e-04\t\tValidation cost: 3.42e-03\n",
      "Elapsed time for last epoch: 0.01 s\n",
      "Epoch: 401/1000\t\tTraining cost: 1.47e-04\t\tValidation cost: 3.43e-03\n",
      "Elapsed time for last epoch: 0.01 s\n",
      "Epoch: 411/1000\t\tTraining cost: 1.40e-04\t\tValidation cost: 3.44e-03\n",
      "Elapsed time for last epoch: 0.01 s\n",
      "Epoch: 421/1000\t\tTraining cost: 1.34e-04\t\tValidation cost: 3.44e-03\n",
      "Elapsed time for last epoch: 0.01 s\n",
      "Epoch: 431/1000\t\tTraining cost: 1.28e-04\t\tValidation cost: 3.45e-03\n",
      "Elapsed time for last epoch: 0.01 s\n",
      "Epoch: 441/1000\t\tTraining cost: 1.23e-04\t\tValidation cost: 3.45e-03\n",
      "Elapsed time for last epoch: 0.01 s\n",
      "Epoch: 451/1000\t\tTraining cost: 1.18e-04\t\tValidation cost: 3.46e-03\n",
      "Elapsed time for last epoch: 0.00 s\n",
      "Epoch: 461/1000\t\tTraining cost: 1.13e-04\t\tValidation cost: 3.46e-03\n",
      "Elapsed time for last epoch: 0.00 s\n",
      "Epoch: 471/1000\t\tTraining cost: 1.08e-04\t\tValidation cost: 3.46e-03\n",
      "Elapsed time for last epoch: 0.00 s\n",
      "Epoch: 481/1000\t\tTraining cost: 1.04e-04\t\tValidation cost: 3.47e-03\n",
      "Elapsed time for last epoch: 0.01 s\n",
      "Epoch: 491/1000\t\tTraining cost: 1.00e-04\t\tValidation cost: 3.47e-03\n",
      "Elapsed time for last epoch: 0.01 s\n",
      "Epoch: 501/1000\t\tTraining cost: 9.62e-05\t\tValidation cost: 3.48e-03\n",
      "Elapsed time for last epoch: 0.00 s\n",
      "Epoch: 511/1000\t\tTraining cost: 9.25e-05\t\tValidation cost: 3.48e-03\n",
      "Elapsed time for last epoch: 0.00 s\n",
      "Epoch: 521/1000\t\tTraining cost: 8.90e-05\t\tValidation cost: 3.49e-03\n",
      "Elapsed time for last epoch: 0.00 s\n",
      "Epoch: 531/1000\t\tTraining cost: 8.57e-05\t\tValidation cost: 3.49e-03\n",
      "Elapsed time for last epoch: 0.00 s\n",
      "Epoch: 541/1000\t\tTraining cost: 8.26e-05\t\tValidation cost: 3.49e-03\n",
      "Elapsed time for last epoch: 0.00 s\n",
      "Epoch: 551/1000\t\tTraining cost: 7.96e-05\t\tValidation cost: 3.50e-03\n",
      "Elapsed time for last epoch: 0.00 s\n",
      "Epoch: 561/1000\t\tTraining cost: 7.67e-05\t\tValidation cost: 3.50e-03\n",
      "Elapsed time for last epoch: 0.01 s\n",
      "Epoch: 571/1000\t\tTraining cost: 7.40e-05\t\tValidation cost: 3.51e-03\n",
      "Elapsed time for last epoch: 0.01 s\n",
      "Epoch: 581/1000\t\tTraining cost: 7.13e-05\t\tValidation cost: 3.51e-03\n",
      "Elapsed time for last epoch: 0.01 s\n",
      "Epoch: 591/1000\t\tTraining cost: 6.87e-05\t\tValidation cost: 3.52e-03\n",
      "Elapsed time for last epoch: 0.01 s\n",
      "Epoch: 601/1000\t\tTraining cost: 6.63e-05\t\tValidation cost: 3.52e-03\n",
      "Elapsed time for last epoch: 0.00 s\n",
      "Epoch: 611/1000\t\tTraining cost: 6.40e-05\t\tValidation cost: 3.53e-03\n",
      "Elapsed time for last epoch: 0.00 s\n",
      "Epoch: 621/1000\t\tTraining cost: 6.18e-05\t\tValidation cost: 3.53e-03\n",
      "Elapsed time for last epoch: 0.01 s\n",
      "Epoch: 631/1000\t\tTraining cost: 5.97e-05\t\tValidation cost: 3.54e-03\n",
      "Elapsed time for last epoch: 0.00 s\n",
      "Epoch: 641/1000\t\tTraining cost: 5.76e-05\t\tValidation cost: 3.54e-03\n",
      "Elapsed time for last epoch: 0.00 s\n",
      "Epoch: 651/1000\t\tTraining cost: 5.57e-05\t\tValidation cost: 3.55e-03\n",
      "Elapsed time for last epoch: 0.00 s\n",
      "Epoch: 661/1000\t\tTraining cost: 5.38e-05\t\tValidation cost: 3.55e-03\n",
      "Elapsed time for last epoch: 0.00 s\n",
      "Epoch: 671/1000\t\tTraining cost: 5.20e-05\t\tValidation cost: 3.56e-03\n",
      "Elapsed time for last epoch: 0.01 s\n",
      "Epoch: 681/1000\t\tTraining cost: 5.02e-05\t\tValidation cost: 3.56e-03\n",
      "Elapsed time for last epoch: 0.01 s\n",
      "Epoch: 691/1000\t\tTraining cost: 4.86e-05\t\tValidation cost: 3.57e-03\n",
      "Elapsed time for last epoch: 0.01 s\n",
      "Epoch: 701/1000\t\tTraining cost: 4.70e-05\t\tValidation cost: 3.57e-03\n",
      "Elapsed time for last epoch: 0.01 s\n",
      "Epoch: 711/1000\t\tTraining cost: 4.54e-05\t\tValidation cost: 3.58e-03\n",
      "Elapsed time for last epoch: 0.01 s\n",
      "Epoch: 721/1000\t\tTraining cost: 4.40e-05\t\tValidation cost: 3.58e-03\n",
      "Elapsed time for last epoch: 0.00 s\n",
      "Epoch: 731/1000\t\tTraining cost: 4.25e-05\t\tValidation cost: 3.59e-03\n",
      "Elapsed time for last epoch: 0.00 s\n",
      "Epoch: 741/1000\t\tTraining cost: 4.12e-05\t\tValidation cost: 3.59e-03\n",
      "Elapsed time for last epoch: 0.00 s\n",
      "Epoch: 751/1000\t\tTraining cost: 3.98e-05\t\tValidation cost: 3.59e-03\n",
      "Elapsed time for last epoch: 0.00 s\n",
      "Epoch: 761/1000\t\tTraining cost: 3.86e-05\t\tValidation cost: 3.60e-03\n",
      "Elapsed time for last epoch: 0.00 s\n",
      "Epoch: 771/1000\t\tTraining cost: 3.74e-05\t\tValidation cost: 3.60e-03\n",
      "Elapsed time for last epoch: 0.01 s\n",
      "Epoch: 781/1000\t\tTraining cost: 3.62e-05\t\tValidation cost: 3.61e-03\n",
      "Elapsed time for last epoch: 0.00 s\n",
      "Epoch: 791/1000\t\tTraining cost: 3.50e-05\t\tValidation cost: 3.61e-03\n",
      "Elapsed time for last epoch: 0.01 s\n",
      "Epoch: 801/1000\t\tTraining cost: 3.40e-05\t\tValidation cost: 3.62e-03\n",
      "Elapsed time for last epoch: 0.00 s\n",
      "Epoch: 811/1000\t\tTraining cost: 3.29e-05\t\tValidation cost: 3.62e-03\n",
      "Elapsed time for last epoch: 0.00 s\n",
      "Epoch: 821/1000\t\tTraining cost: 3.19e-05\t\tValidation cost: 3.63e-03\n",
      "Elapsed time for last epoch: 0.00 s\n",
      "Epoch: 831/1000\t\tTraining cost: 3.09e-05\t\tValidation cost: 3.63e-03\n",
      "Elapsed time for last epoch: 0.01 s\n",
      "Epoch: 841/1000\t\tTraining cost: 3.00e-05\t\tValidation cost: 3.63e-03\n",
      "Elapsed time for last epoch: 0.00 s\n",
      "Epoch: 851/1000\t\tTraining cost: 2.90e-05\t\tValidation cost: 3.64e-03\n",
      "Elapsed time for last epoch: 0.00 s\n",
      "Epoch: 861/1000\t\tTraining cost: 2.82e-05\t\tValidation cost: 3.64e-03\n",
      "Elapsed time for last epoch: 0.00 s\n",
      "Epoch: 871/1000\t\tTraining cost: 2.73e-05\t\tValidation cost: 3.65e-03\n",
      "Elapsed time for last epoch: 0.00 s\n",
      "Epoch: 881/1000\t\tTraining cost: 2.65e-05\t\tValidation cost: 3.65e-03\n",
      "Elapsed time for last epoch: 0.00 s\n",
      "Epoch: 891/1000\t\tTraining cost: 2.57e-05\t\tValidation cost: 3.66e-03\n",
      "Elapsed time for last epoch: 0.01 s\n",
      "Epoch: 901/1000\t\tTraining cost: 2.49e-05\t\tValidation cost: 3.66e-03\n",
      "Elapsed time for last epoch: 0.01 s\n",
      "Epoch: 911/1000\t\tTraining cost: 2.42e-05\t\tValidation cost: 3.66e-03\n",
      "Elapsed time for last epoch: 0.00 s\n",
      "Epoch: 921/1000\t\tTraining cost: 2.35e-05\t\tValidation cost: 3.67e-03\n",
      "Elapsed time for last epoch: 0.00 s\n",
      "Epoch: 931/1000\t\tTraining cost: 2.28e-05\t\tValidation cost: 3.67e-03\n",
      "Elapsed time for last epoch: 0.00 s\n",
      "Epoch: 941/1000\t\tTraining cost: 2.21e-05\t\tValidation cost: 3.68e-03\n",
      "Elapsed time for last epoch: 0.00 s\n",
      "Epoch: 951/1000\t\tTraining cost: 2.15e-05\t\tValidation cost: 3.68e-03\n",
      "Elapsed time for last epoch: 0.00 s\n",
      "Epoch: 961/1000\t\tTraining cost: 2.08e-05\t\tValidation cost: 3.68e-03\n",
      "Elapsed time for last epoch: 0.00 s\n",
      "Epoch: 971/1000\t\tTraining cost: 2.02e-05\t\tValidation cost: 3.69e-03\n",
      "Elapsed time for last epoch: 0.00 s\n",
      "Epoch: 981/1000\t\tTraining cost: 1.96e-05\t\tValidation cost: 3.69e-03\n",
      "Elapsed time for last epoch: 0.00 s\n",
      "Epoch: 991/1000\t\tTraining cost: 1.90e-05\t\tValidation cost: 3.69e-03\n",
      "Elapsed time for last epoch: 0.00 s\n",
      "Total elapsed time during training: 5.40 s\n"
     ]
    }
   ],
   "source": [
    "start = time.perf_counter()\n",
    "start0 = start\n",
    "bestCost = 1e10\n",
    "\n",
    "for epoch in range(epochs):\n",
    "    if writeHistogram == True:\n",
    "        for name, param in model.named_parameters():\n",
    "            writer.add_histogram(name, param, epoch)\n",
    "\n",
    "    model.train()\n",
    "    for batch, sample in enumerate(dataloaderTraining):\n",
    "        optimizer.zero_grad()\n",
    "\n",
    "        prediction = model(sample[0])\n",
    "        cost = NeuralNetwork.costFunction(prediction, sample[1])\n",
    "\n",
    "        trainingCostHistory[epoch] += cost.detach() * len(sample[1])\n",
    "\n",
    "        cost.backward()\n",
    "        optimizer.step()\n",
    "\n",
    "    trainingCostHistory[epoch] /= numberOfTrainingSamples\n",
    "    scheduler.step()\n",
    "    if writeHistogram == True:\n",
    "        for name, param in model.named_parameters():\n",
    "            writer.add_histogram(f'{name}.grad', param.grad, epoch)\n",
    "\n",
    "    model.eval()\n",
    "    sample = next(iter(dataloaderValidation))\n",
    "    with torch.no_grad():\n",
    "        prediction = model(sample[0])\n",
    "        cost = NeuralNetwork.costFunction(prediction, sample[1])\n",
    "\n",
    "        validationCostHistory[epoch] = cost\n",
    "        if validationCostHistory[epoch] < bestCost:\n",
    "            modelParametersBest = copy.deepcopy(model.state_dict())\n",
    "            bestCost = validationCostHistory[epoch]\n",
    "\n",
    "        if writePredictions == True:\n",
    "            validationPredictionImages = torchvision.utils.make_grid(prediction[:16], normalize=True,\n",
    "                                                                     value_range=(-1, 1))\n",
    "            for i in range(3):\n",
    "                writer.add_image(f'validation prediction {i + 1}', validationPredictionImages[i], epoch,\n",
    "                                 dataformats='HW')\n",
    "\n",
    "    elapsedTime = time.perf_counter() - start\n",
    "    if epoch % 10 == 0:\n",
    "        string = \"Epoch: {}/{}\\t\\tTraining cost: {:.2e}\\t\\tValidation cost: {:.2e}\\nElapsed time for last epoch: {:.2f} s\"\n",
    "        print(string.format(epoch + 1, epochs, trainingCostHistory[epoch], validationCostHistory[epoch], elapsedTime))\n",
    "    start = time.perf_counter()\n",
    "\n",
    "    if writeLearningHistory == True:\n",
    "        writer.add_scalar('training_loss', trainingCostHistory[epoch], epoch)\n",
    "        writer.add_scalar('validation_loss', validationCostHistory[epoch], epoch)\n",
    "\n",
    "if earlyStopping == True:\n",
    "    model.load_state_dict(modelParametersBest)\n",
    "print(\"Total elapsed time during training: {:.2f} s\".format(time.perf_counter() - start0))\n",
    "writer.close()"
   ]
  },
  {
   "cell_type": "markdown",
   "metadata": {},
   "source": [
    "## Post-processing"
   ]
  },
  {
   "cell_type": "markdown",
   "metadata": {},
   "source": [
    "**learning history**"
   ]
  },
  {
   "cell_type": "code",
   "execution_count": 25,
   "metadata": {},
   "outputs": [
    {
     "data": {
      "image/png": "[encoded data removed]",
      "text/plain": [
       "<Figure size 640x480 with 1 Axes>"
      ]
     },
     "metadata": {},
     "output_type": "display_data"
    }
   ],
   "source": [
    "fig, ax = plt.subplots()\n",
    "ax.plot(trainingCostHistory, 'k', label='training')\n",
    "ax.plot(validationCostHistory, 'r', label='validation')\n",
    "ax.set_yscale('log')\n",
    "ax.set_ylabel('cost')\n",
    "ax.set_xlabel('epoch')\n",
    "ax.legend()\n",
    "plt.show()"
   ]
  },
  {
   "cell_type": "markdown",
   "metadata": {},
   "source": [
    "**prediction of training sample**"
   ]
  },
  {
   "cell_type": "code",
   "execution_count": 26,
   "metadata": {},
   "outputs": [
    {
     "data": {
      "image/png": "[encoded data removed]",
      "text/plain": [
       "<Figure size 640x480 with 2 Axes>"
      ]
     },
     "metadata": {},
     "output_type": "display_data"
    }
   ],
   "source": [
    "component = 0\n",
    "sample = next(iter(dataloaderTraining))\n",
    "\n",
    "if numberOfTrainingSamples < 4:  # necessary as the batch normalization parameters are not tuned well enough with so few samples\n",
    "    model.eval()  # ensures that the batch normalization does not continue learning from input data\n",
    "else:\n",
    "    model.train()\n",
    "\n",
    "fig, ax = plt.subplots(1, 2)\n",
    "ax[0].imshow(model(sample[0])[0, component].detach().cpu(), cmap=plt.cm.jet)\n",
    "ax[0].set_title('prediction')\n",
    "ax[1].imshow(sample[1][0, component].detach().cpu(), cmap=plt.cm.jet)\n",
    "ax[1].set_title('ground truth')\n",
    "plt.show()"
   ]
  },
  {
   "cell_type": "markdown",
   "metadata": {},
   "source": [
    "**prediction of validation sample**"
   ]
  },
  {
   "cell_type": "code",
   "execution_count": 27,
   "metadata": {},
   "outputs": [
    {
     "data": {
      "image/png": "[encoded data removed]",
      "text/plain": [
       "<Figure size 640x480 with 2 Axes>"
      ]
     },
     "metadata": {},
     "output_type": "display_data"
    }
   ],
   "source": [
    "component = 0\n",
    "sample = next(iter(dataloaderValidation))\n",
    "\n",
    "model.eval()  # ensures that the batch normalization does not continue learning from input data\n",
    "fig, ax = plt.subplots(1, 2)\n",
    "ax[0].imshow(model(sample[0])[0, component].detach().cpu(), cmap=plt.cm.jet)\n",
    "ax[0].set_title('prediction')\n",
    "ax[1].imshow(sample[1][0, component].detach().cpu(), cmap=plt.cm.jet)\n",
    "ax[1].set_title('ground truth')\n",
    "plt.show()"
   ]
  },
  {
   "cell_type": "markdown",
   "metadata": {},
   "source": [
    "O exercício teve como objetivo treinar e comparar diferentes arquiteturas de redes neurais convolucionais (CNNs) para aprender distribuições de deformação a partir de dados simulados de elasticidade linear. Foram avaliadas três arquiteturas: uma U-Net padrão, uma CNN sequencial e uma combinação de U-Net seguida por uma CNN do tipo feedforward. Para isso, utilizou-se o framework PyTorch, aproveitando ferramentas profissionais como DataLoader, summary e o TensorBoard para monitorar o progresso do treinamento e visualizar métricas de desempenho e gráficos de custo.\n",
    "\n",
    "Durante os experimentos, foi essencial configurar os parâmetros writeGraph, writeHistogram, writeLearningHistory e writePredictions para acompanhar o comportamento da rede ao longo do tempo. O TensorBoard, executado localmente, permitiu uma visualização intuitiva da função de custo para os conjuntos de treinamento e validação, sendo fundamental a utilização da escala logarítmica no eixo Y para destacar diferenças sutis entre arquiteturas. Observou-se que a arquitetura com U-Net seguida por CNN apresentou melhor generalização, refletida por uma menor perda de validação e maior estabilidade durante o treinamento.\n",
    "\n",
    "A fase de ajuste de hiperparâmetros envolveu a modificação da taxa de aprendizado, do tamanho do batch, da regularização L2 (via weightDecay) e do número de amostras de treinamento. O uso do agendador de taxa de aprendizado (LambdaLR) se mostrou eficaz ao controlar o decaimento da learning rate com base em um decaimento polinomial, ajustando a curva de aprendizado para evitar overfitting precoce. Além disso, o early stopping foi empregado para restaurar os melhores parâmetros do modelo com menor custo de validação, o que contribuiu para uma maior robustez do modelo final.\n",
    "\n",
    "A análise visual das previsões em comparação com os valores reais demonstrou a capacidade da rede em capturar padrões espaciais das tensões, mesmo com poucas amostras de treinamento. Esse exercício destacou a importância da engenharia de modelos, do uso estratégico de ferramentas de monitoramento como o TensorBoard, e do processo iterativo de tuning de hiperparâmetros para alcançar um desempenho satisfatório em tarefas de regressão espacial com redes neurais profundas."
   ]
  }
 ],
 "metadata": {
  "kernelspec": {
   "display_name": "jujuexercicios",
   "language": "python",
   "name": "python3"
  },
  "language_info": {
   "codemirror_mode": {
    "name": "ipython",
    "version": 3
   },
   "file_extension": ".py",
   "mimetype": "text/x-python",
   "name": "python",
   "nbconvert_exporter": "python",
   "pygments_lexer": "ipython3",
   "version": "3.13.5"
  }
 },
 "nbformat": 4,
 "nbformat_minor": 4
}
