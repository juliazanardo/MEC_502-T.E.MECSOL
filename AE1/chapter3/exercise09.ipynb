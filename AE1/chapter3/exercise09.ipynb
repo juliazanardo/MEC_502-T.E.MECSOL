{
 "cells": [
  {
   "cell_type": "markdown",
   "metadata": {},
   "source": [
    "# Exercise 9 - Neural Network from Scratch\n",
    "\n",
    "## Task\n",
    "Implement a multilayer Fully Connected Network from scratch using Numpy. Use the class structure provided below. Four member functions are to be implemented:\n",
    "- `forward(self, x)` for the forward prediction\n",
    "- `backward(self, y)` for the backpropagation in order to compute the gradients\n",
    "- `zero_grad(self)` to reset the gradients to zero (to be used before a second prediction/backpropagation)\n",
    "- `step(self, lr)` to update the weights and biases with gradient descent\n",
    "\n",
    "The most challenging task is to compute the gradients. Therefore split the implementation up into two steps:\n",
    "- implement the gradient computation for a sample size of one\n",
    "- implement the gradient computation for an arbitrary sample size (use the currentWeightGradients and currentBiasGradients to store the intermediate results)\n",
    "\n",
    "To check the results, you can verify the gradients by comparing them to PyTorch. A code copying the custom neural network to PyTorch, where the automatic differentiation is provided below.\n",
    "\n",
    "After a successful verification, use the neural network to learn a function. The training algorithm is provided below. Using the Adam optimizer implementation from exercise 2.3, the training can be improved. It is almost impossible to learn a sufficiently complex function with only gradient descent. \n",
    "\n",
    "Finally, compare the implementation to a PyTorch implementation.\n",
    "\n",
    "## Learning Goals\n",
    "- Gain a deeper understanding of each step in the fully connected network inference and backpropogation\n",
    "- Practice matching tensor dimensions of each input and output"
   ]
  },
  {
   "cell_type": "markdown",
   "metadata": {},
   "source": [
    "## Hints\n",
    "Backward: \n",
    "- (3.14) $$\\frac{\\partial z^{(l)}_{j}}{\\partial w^{(l)}_{jk}} = \\frac{\\partial}{\\partial w^{(l)}_{jk}} \\sum_h w^{(l)}_{jh} a^{(l-1)}_h + b^{(l)}_j = a^{(l-1)}_k$$ \n",
    "\n",
    "- (3.16) $$\\frac{\\partial C}{\\partial b^{(l)}_j} = \\frac{\\partial C}{\\partial z^{(l)}_{j}}\\frac{\\partial z^{(l)}_{j}}{\\partial b^{(l)}_j} = \\delta^{(l)}_j \\frac{\\partial z^{(l)}_{j}}{\\partial b^{(l)}_j} = \\delta^{(l)}_j$$\n",
    "\n",
    "- (3.18) $$\\delta^{(L)}_j = \\frac{\\partial C}{\\partial z^{(L)}_j} = \n",
    "\t\\frac{\\partial C}{\\partial a^{(L)}_j}\\frac{\\partial a^{(L)}_j}{\\partial z^{(L)}_j} =\n",
    "\t%\t\\frac{\\partial}{\\partial a^{(L)}_j} \\frac{1}{2}(y_j - a^{(L)}_j)^2\n",
    "\t\\frac{\\partial C}{\\partial a^{(L)}_j}\\sigma'(z^{(L)}_j) = \n",
    "\t-(\\tilde{y}_j - \\sigma(z^{(L)}_j))\\sigma'(z^{(L)}_j)$$\n",
    "\n",
    "- (3.23) \t$$\\delta^{(l)}_j = \\sum_k w^{(l+1)}_{kj}  \\delta^{(l+1)}_k \\sigma'(z^{(l)}_j)$$\n",
    "\n",
    "Start by implementing the backward propagation for only a single sample. Subsequently, extend the implementations for an arbitrary number of samples. To this end, recall the definitions provided in\n",
    "Equations \n",
    "\n",
    "(3.10) $$C = \\frac{1}{m_{\\mathcal{D}}}\\sum_{i=1}^{m_{\\mathcal{D}}}C_i$$\n",
    "\n",
    "and (3.11)    $$C_i = \\frac{1}{2}(\\tilde{y}_i - \\hat{y}_i)^2 = \\frac{1}{2}(\\tilde{y}_i - a_i^{(L)})^2$$"
   ]
  },
  {
   "cell_type": "code",
   "execution_count": 1,
   "metadata": {
    "ExecuteTime": {
     "end_time": "2024-10-24T07:40:54.239189Z",
     "start_time": "2024-10-24T07:40:52.709945Z"
    }
   },
   "outputs": [],
   "source": [
    "import numpy as np\n",
    "import torch\n",
    "import matplotlib.pyplot as plt\n",
    "import time"
   ]
  },
  {
   "cell_type": "markdown",
   "metadata": {},
   "source": [
    "**neural network class**"
   ]
  },
  {
   "cell_type": "code",
   "execution_count": 2,
   "metadata": {
    "ExecuteTime": {
     "end_time": "2024-10-24T07:40:54.250679Z",
     "start_time": "2024-10-24T07:40:54.243162Z"
    }
   },
   "outputs": [],
   "source": [
    "class neuralNetwork:\n",
    "    def __init__(\n",
    "            self, layers, activation, activationGradient, xavierInitialization=True\n",
    "    ):\n",
    "        self.L = len(layers)  # number of layers\n",
    "        if xavierInitialization == True:\n",
    "            self.weights = [\n",
    "                torch.nn.init.xavier_uniform_(\n",
    "                    torch.zeros((layers[i], layers[i + 1])),\n",
    "                    gain=torch.nn.init.calculate_gain(\"sigmoid\"),\n",
    "                ).numpy()\n",
    "                for i in range(self.L - 1)\n",
    "            ]\n",
    "        else:\n",
    "            self.weights = [\n",
    "                np.random.rand(layers[i], layers[i + 1]) for i in range(self.L - 1)\n",
    "            ]\n",
    "        self.biases = [np.random.rand(1, layers[i + 1]) for i in range(self.L - 1)]\n",
    "\n",
    "        self.layerActivations = []\n",
    "\n",
    "        self.weightGradients = [\n",
    "            np.zeros((layers[i], layers[i + 1])) for i in range(self.L - 1)\n",
    "        ]\n",
    "        self.biasGradients = [np.zeros((1, layers[i + 1])) for i in range(self.L - 1)]\n",
    "\n",
    "        # helper variables to store gradients per sample\n",
    "        self.currentWeightGradients = [\n",
    "            np.zeros((layers[i], layers[i + 1])) for i in range(self.L - 1)\n",
    "        ]\n",
    "        self.currentBiasGradients = [\n",
    "            np.zeros((1, layers[i + 1])) for i in range(self.L - 1)\n",
    "        ]\n",
    "\n",
    "        self.activation = activation\n",
    "        self.activationGradient = activationGradient\n",
    "\n",
    "    def forward(self, x):\n",
    "        self.layerActivations = []  # clear activations\n",
    "        a = x\n",
    "        self.layerActivations.append(a)  # activation is not applied to input\n",
    "        for i in range(self.L - 1):\n",
    "            z = a @ self.weights[i] + self.biases[i]\n",
    "            self.layerActivations.append(z)  # store activations\n",
    "            a = self.activation(z)\n",
    "        return a\n",
    "\n",
    "    def backward(self, y):\n",
    "        if len(self.layerActivations) > 0:  # check if forward pass has been performed\n",
    "            numberOfSamples = len(self.layerActivations[0])\n",
    "\n",
    "            # for a single sample\n",
    "            if numberOfSamples == 1:\n",
    "                deltaL = -(\n",
    "                        y - self.activation(self.layerActivations[self.L - 1])\n",
    "                ) * self.activationGradient(self.layerActivations[self.L - 1])\n",
    "                self.biasGradients[self.L - 2] = deltaL\n",
    "                for i in range(\n",
    "                        self.L - 2\n",
    "                ):  # indices of layer activation shifted due to stored input\n",
    "                    deltal = np.sum(\n",
    "                        self.weights[self.L - 2 - i]\n",
    "                        * self.biasGradients[self.L - 2 - i],\n",
    "                        1,\n",
    "                    ) * self.activationGradient(self.layerActivations[self.L - 2 - i])\n",
    "                    self.biasGradients[self.L - 3 - i] = deltal\n",
    "\n",
    "                self.weightGradients[0] = (\n",
    "                        np.transpose(self.layerActivations[0]) @ self.biasGradients[0]\n",
    "                )  # without activation for input\n",
    "                for i in range(1, self.L - 1):\n",
    "                    self.weightGradients[i] = (\n",
    "                            np.transpose(self.activation(self.layerActivations[i]))\n",
    "                            @ self.biasGradients[i]\n",
    "                    )\n",
    "\n",
    "            # for multiple samples using for loop over samples\n",
    "            elif numberOfSamples > 1:\n",
    "                for j in range(numberOfSamples):\n",
    "\n",
    "                    deltaL = -(\n",
    "                            y[j: j + 1]\n",
    "                            - self.activation(self.layerActivations[self.L - 1][j: j + 1])\n",
    "                    ) * self.activationGradient(\n",
    "                        self.layerActivations[self.L - 1][j: j + 1]\n",
    "                    )\n",
    "                    self.currentBiasGradients[self.L - 2] = (\n",
    "                            deltaL / numberOfSamples\n",
    "                    )  # division by number of samples, as we are taking the mean\n",
    "                    self.biasGradients[self.L - 2] += self.currentBiasGradients[\n",
    "                        self.L - 2\n",
    "                        ]\n",
    "                    for i in range(\n",
    "                            self.L - 2\n",
    "                    ):  # indices of layer activation shifted due to stored input\n",
    "                        deltal = np.sum(\n",
    "                            self.weights[self.L - 2 - i]\n",
    "                            * self.currentBiasGradients[self.L - 2 - i],\n",
    "                            1,\n",
    "                        ) * self.activationGradient(\n",
    "                            self.layerActivations[self.L - 2 - i][j: j + 1]\n",
    "                        )\n",
    "                        self.currentBiasGradients[self.L - 3 - i] = deltal\n",
    "                        self.biasGradients[self.L - 3 - i] += self.currentBiasGradients[\n",
    "                            self.L - 3 - i\n",
    "                            ]\n",
    "\n",
    "                    # without activation for input\n",
    "                    self.currentWeightGradients[0] = (\n",
    "                            np.transpose(self.layerActivations[0][j: j + 1])\n",
    "                            @ self.currentBiasGradients[0]\n",
    "                    )\n",
    "                    self.weightGradients[0] += self.currentWeightGradients[0]\n",
    "                    for i in range(1, self.L - 1):\n",
    "                        self.currentWeightGradients[i] = (\n",
    "                                np.transpose(\n",
    "                                    self.activation(self.layerActivations[i][j: j + 1])\n",
    "                                )\n",
    "                                @ self.currentBiasGradients[i]\n",
    "                        )\n",
    "                        self.weightGradients[i] += self.currentWeightGradients[i]\n",
    "\n",
    "        else:\n",
    "            print(\"backward propagation not possible\")\n",
    "\n",
    "    def zero_grad(self):\n",
    "        self.weightGradients = [\n",
    "            np.zeros((layers[i], layers[i + 1])) for i in range(self.L - 1)\n",
    "        ]\n",
    "        self.biasGradients = [np.zeros((1, layers[i + 1])) for i in range(self.L - 1)]\n",
    "\n",
    "    def step(self, lr):\n",
    "        for i in range(self.L - 1):\n",
    "            self.weights[i] -= lr * self.weightGradients[i]\n",
    "            self.biases[i] -= lr * self.biasGradients[i]"
   ]
  },
  {
   "cell_type": "markdown",
   "metadata": {},
   "source": [
    "**model definition**"
   ]
  },
  {
   "cell_type": "code",
   "execution_count": 3,
   "metadata": {
    "ExecuteTime": {
     "end_time": "2024-10-24T07:40:57.185195Z",
     "start_time": "2024-10-24T07:40:57.155983Z"
    }
   },
   "outputs": [],
   "source": [
    "layers = [1, 4, 4, 1]\n",
    "sigmoid = lambda x: 1 / (1 + np.exp(-x))\n",
    "sigmoidGradient = lambda x: sigmoid(x) * (1 - sigmoid(x))\n",
    "\n",
    "model = neuralNetwork(layers, sigmoid, sigmoidGradient)\n",
    "\n",
    "# input data\n",
    "x = np.expand_dims(np.linspace(0, 1, 2), 1) + 0.2\n",
    "y = np.sin(4 * np.pi * x) ** 2"
   ]
  },
  {
   "cell_type": "markdown",
   "metadata": {},
   "source": [
    "**prediction, cost computation & gradient computation**"
   ]
  },
  {
   "cell_type": "code",
   "execution_count": 4,
   "metadata": {
    "ExecuteTime": {
     "end_time": "2024-10-24T07:40:57.911059Z",
     "start_time": "2024-10-24T07:40:57.790168Z"
    }
   },
   "outputs": [],
   "source": [
    "# prediction\n",
    "yPred = model.forward(x)\n",
    "\n",
    "# cost\n",
    "C = 0.5 * np.mean((yPred - y) ** 2)\n",
    "\n",
    "# gradient\n",
    "model.backward(y)"
   ]
  },
  {
   "cell_type": "markdown",
   "metadata": {},
   "source": [
    "## Verification with PyTorch"
   ]
  },
  {
   "cell_type": "markdown",
   "metadata": {},
   "source": [
    "**model definition and cloning of model parameters**"
   ]
  },
  {
   "cell_type": "code",
   "execution_count": 5,
   "metadata": {
    "ExecuteTime": {
     "end_time": "2023-12-22T11:30:47.080256036Z",
     "start_time": "2023-12-22T11:30:47.073862834Z"
    }
   },
   "outputs": [],
   "source": [
    "class neuralNetworkTorch(torch.nn.Module):\n",
    "    def __init__(self, layers, activationFunction=torch.nn.Sigmoid()):\n",
    "        super().__init__()\n",
    "        modules = []\n",
    "        for i in range(len(layers) - 1):\n",
    "            modules.append(torch.nn.Linear(layers[i], layers[i + 1]))\n",
    "            modules.append(activationFunction)\n",
    "\n",
    "        self.model = torch.nn.Sequential(*modules)\n",
    "\n",
    "    def forward(self, x):\n",
    "        return self.model(x)\n",
    "\n",
    "\n",
    "modelTorch = neuralNetworkTorch(layers)\n",
    "\n",
    "# copy parameters\n",
    "with torch.no_grad():\n",
    "    for i, param in enumerate(modelTorch.parameters()):\n",
    "        if i % 2 == 0:\n",
    "            param.data = torch.from_numpy(model.weights[i // 2]).to(torch.float64).t()\n",
    "        else:\n",
    "            param.data = torch.from_numpy(model.biases[i // 2]).to(torch.float64)"
   ]
  },
  {
   "cell_type": "markdown",
   "metadata": {},
   "source": [
    "**prediction, cost computation & gradient computation**"
   ]
  },
  {
   "cell_type": "code",
   "execution_count": 6,
   "metadata": {
    "ExecuteTime": {
     "end_time": "2023-12-22T11:30:47.378616583Z",
     "start_time": "2023-12-22T11:30:47.373348220Z"
    }
   },
   "outputs": [],
   "source": [
    "xTorch = torch.from_numpy(x).to(torch.float64)\n",
    "yPredTorch = modelTorch.forward(xTorch)\n",
    "\n",
    "CTorch = 0.5 * torch.mean((yPredTorch - torch.from_numpy(y).to(torch.float64)) ** 2)\n",
    "CTorch.backward()"
   ]
  },
  {
   "cell_type": "markdown",
   "metadata": {},
   "source": [
    "**gradient comparison**"
   ]
  },
  {
   "cell_type": "code",
   "execution_count": 7,
   "metadata": {
    "ExecuteTime": {
     "end_time": "2023-12-22T11:30:47.691588005Z",
     "start_time": "2023-12-22T11:30:47.681767329Z"
    }
   },
   "outputs": [
    {
     "name": "stdout",
     "output_type": "stream",
     "text": [
      "weight:\n",
      "[[ 0.00018544]\n",
      " [ 0.00023389]\n",
      " [-0.00063424]\n",
      " [-0.00103364]]\n",
      "tensor([[ 0.0002],\n",
      "        [ 0.0002],\n",
      "        [-0.0006],\n",
      "        [-0.0010]], dtype=torch.float64)\n",
      "bias:\n",
      "[[ 0.00033544  0.00035836 -0.00092601 -0.00158637]]\n",
      "tensor([[ 0.0003,  0.0004, -0.0009, -0.0016]], dtype=torch.float64)\n"
     ]
    }
   ],
   "source": [
    "layer = 0\n",
    "# weight gradients\n",
    "print(\"weight:\")\n",
    "print(np.transpose(model.weightGradients[layer]))\n",
    "print(list(modelTorch.parameters())[2 * layer].grad)\n",
    "\n",
    "# bias gradients\n",
    "print(\"bias:\")\n",
    "print(model.biasGradients[layer])\n",
    "print(list(modelTorch.parameters())[2 * layer + 1].grad)"
   ]
  },
  {
   "cell_type": "markdown",
   "metadata": {},
   "source": [
    "## Adam optimizer from Exercise 6 from Chapter 2"
   ]
  },
  {
   "cell_type": "code",
   "execution_count": 8,
   "metadata": {
    "ExecuteTime": {
     "end_time": "2023-12-22T11:30:47.978647219Z",
     "start_time": "2023-12-22T11:30:47.973958649Z"
    }
   },
   "outputs": [],
   "source": [
    "class AdamOptimizer:\n",
    "    def __init__(self, lr=0.001, beta1=0.9, beta2=0.999, epsilon=1e-8):\n",
    "        self.lr = lr\n",
    "        self.beta1 = beta1\n",
    "        self.beta2 = beta2\n",
    "        self.epsilon = epsilon\n",
    "        self.m = None\n",
    "        self.n = None\n",
    "        self.t = 0\n",
    "\n",
    "    def updateParams(self, params, grads):\n",
    "        if self.m is None:\n",
    "            self.m = [np.zeros_like(param) for param in params]\n",
    "        if self.n is None:\n",
    "            self.n = [np.zeros_like(param) for param in params]\n",
    "\n",
    "        self.t += 1  # exponent increases with epochs\n",
    "        updatedParams = []\n",
    "\n",
    "        for p, g, m, n in zip(params, grads, self.m, self.n):\n",
    "            m[:] = self.beta1 * m + (1 - self.beta1) * g\n",
    "            n[:] = self.beta2 * n + (1 - self.beta2) * (g ** 2)\n",
    "\n",
    "            mhat = m / (1 - self.beta1 ** self.t)\n",
    "            nhat = n / (1 - self.beta2 ** self.t)\n",
    "\n",
    "            updatedParams.append(p - self.lr * mhat / (np.sqrt(nhat) + self.epsilon))\n",
    "\n",
    "        return updatedParams"
   ]
  },
  {
   "cell_type": "markdown",
   "metadata": {},
   "source": [
    "## Learning with the custom neural network"
   ]
  },
  {
   "cell_type": "markdown",
   "metadata": {},
   "source": [
    "**select optimizer**"
   ]
  },
  {
   "cell_type": "code",
   "execution_count": 9,
   "metadata": {
    "ExecuteTime": {
     "end_time": "2023-12-22T11:30:48.460758355Z",
     "start_time": "2023-12-22T11:30:48.455452319Z"
    }
   },
   "outputs": [],
   "source": [
    "selectOptimizer = \"gradientDescent\"\n",
    "# selectOptimizer = 'Adam'"
   ]
  },
  {
   "cell_type": "markdown",
   "metadata": {},
   "source": [
    "**model definition**"
   ]
  },
  {
   "cell_type": "code",
   "execution_count": 10,
   "metadata": {
    "ExecuteTime": {
     "end_time": "2023-12-22T11:30:48.770635297Z",
     "start_time": "2023-12-22T11:30:48.762229551Z"
    }
   },
   "outputs": [],
   "source": [
    "layers = [1, 20, 20, 1]\n",
    "sigmoid = lambda x: 1 / (1 + np.exp(-x))\n",
    "sigmoidGradient = lambda x: sigmoid(x) * (1 - sigmoid(x))\n",
    "\n",
    "model = neuralNetwork(layers, sigmoid, sigmoidGradient)\n",
    "\n",
    "x = np.expand_dims(np.linspace(0, 1, 40), 1)  # training grid\n",
    "\n",
    "if selectOptimizer == \"gradientDescent\":\n",
    "    y = x ** 2\n",
    "    epochs = 10000\n",
    "    lr = 1e-1\n",
    "elif selectOptimizer == \"Adam\":\n",
    "    y = np.sin(2 * np.pi * x) ** 2  # a more difficult function\n",
    "    lr = 1e-2\n",
    "    optimizer = AdamOptimizer(lr=lr)"
   ]
  },
  {
   "cell_type": "markdown",
   "metadata": {},
   "source": [
    "**training loop**"
   ]
  },
  {
   "cell_type": "code",
   "execution_count": 11,
   "metadata": {
    "ExecuteTime": {
     "end_time": "2023-12-22T11:31:24.345017934Z",
     "start_time": "2023-12-22T11:30:49.072919393Z"
    }
   },
   "outputs": [
    {
     "name": "stdout",
     "output_type": "stream",
     "text": [
      "Epoch: 0/10000\t\tCost = 7.70e-02\t\tElapsed time = 0.003341\n",
      "Epoch: 100/10000\t\tCost = 4.66e-02\t\tElapsed time = 0.203913\n",
      "Epoch: 200/10000\t\tCost = 4.65e-02\t\tElapsed time = 0.200938\n",
      "Epoch: 300/10000\t\tCost = 4.64e-02\t\tElapsed time = 0.201537\n",
      "Epoch: 400/10000\t\tCost = 4.63e-02\t\tElapsed time = 0.200181\n",
      "Epoch: 500/10000\t\tCost = 4.63e-02\t\tElapsed time = 0.198755\n",
      "Epoch: 600/10000\t\tCost = 4.62e-02\t\tElapsed time = 0.200299\n",
      "Epoch: 700/10000\t\tCost = 4.61e-02\t\tElapsed time = 0.200265\n",
      "Epoch: 800/10000\t\tCost = 4.60e-02\t\tElapsed time = 0.200618\n",
      "Epoch: 900/10000\t\tCost = 4.59e-02\t\tElapsed time = 0.202408\n",
      "Epoch: 1000/10000\t\tCost = 4.58e-02\t\tElapsed time = 0.216376\n",
      "Epoch: 1100/10000\t\tCost = 4.58e-02\t\tElapsed time = 0.212100\n",
      "Epoch: 1200/10000\t\tCost = 4.57e-02\t\tElapsed time = 0.206676\n",
      "Epoch: 1300/10000\t\tCost = 4.56e-02\t\tElapsed time = 0.206942\n",
      "Epoch: 1400/10000\t\tCost = 4.55e-02\t\tElapsed time = 0.206571\n",
      "Epoch: 1500/10000\t\tCost = 4.54e-02\t\tElapsed time = 0.211414\n",
      "Epoch: 1600/10000\t\tCost = 4.52e-02\t\tElapsed time = 0.231218\n",
      "Epoch: 1700/10000\t\tCost = 4.51e-02\t\tElapsed time = 0.206543\n",
      "Epoch: 1800/10000\t\tCost = 4.50e-02\t\tElapsed time = 0.212489\n",
      "Epoch: 1900/10000\t\tCost = 4.49e-02\t\tElapsed time = 0.211681\n",
      "Epoch: 2000/10000\t\tCost = 4.48e-02\t\tElapsed time = 0.215143\n",
      "Epoch: 2100/10000\t\tCost = 4.46e-02\t\tElapsed time = 0.200774\n",
      "Epoch: 2200/10000\t\tCost = 4.45e-02\t\tElapsed time = 0.200508\n",
      "Epoch: 2300/10000\t\tCost = 4.43e-02\t\tElapsed time = 0.207113\n",
      "Epoch: 2400/10000\t\tCost = 4.42e-02\t\tElapsed time = 0.207200\n",
      "Epoch: 2500/10000\t\tCost = 4.40e-02\t\tElapsed time = 0.207548\n",
      "Epoch: 2600/10000\t\tCost = 4.38e-02\t\tElapsed time = 0.207446\n",
      "Epoch: 2700/10000\t\tCost = 4.36e-02\t\tElapsed time = 0.207346\n",
      "Epoch: 2800/10000\t\tCost = 4.35e-02\t\tElapsed time = 0.206924\n",
      "Epoch: 2900/10000\t\tCost = 4.32e-02\t\tElapsed time = 0.207719\n",
      "Epoch: 3000/10000\t\tCost = 4.30e-02\t\tElapsed time = 0.208114\n",
      "Epoch: 3100/10000\t\tCost = 4.28e-02\t\tElapsed time = 0.209715\n",
      "Epoch: 3200/10000\t\tCost = 4.25e-02\t\tElapsed time = 0.207954\n",
      "Epoch: 3300/10000\t\tCost = 4.23e-02\t\tElapsed time = 0.202487\n",
      "Epoch: 3400/10000\t\tCost = 4.20e-02\t\tElapsed time = 0.205404\n",
      "Epoch: 3500/10000\t\tCost = 4.17e-02\t\tElapsed time = 0.222904\n",
      "Epoch: 3600/10000\t\tCost = 4.14e-02\t\tElapsed time = 0.208200\n",
      "Epoch: 3700/10000\t\tCost = 4.11e-02\t\tElapsed time = 0.207497\n",
      "Epoch: 3800/10000\t\tCost = 4.07e-02\t\tElapsed time = 0.211054\n",
      "Epoch: 3900/10000\t\tCost = 4.03e-02\t\tElapsed time = 0.208121\n",
      "Epoch: 4000/10000\t\tCost = 3.99e-02\t\tElapsed time = 0.208049\n",
      "Epoch: 4100/10000\t\tCost = 3.95e-02\t\tElapsed time = 0.207796\n",
      "Epoch: 4200/10000\t\tCost = 3.90e-02\t\tElapsed time = 0.209092\n",
      "Epoch: 4300/10000\t\tCost = 3.85e-02\t\tElapsed time = 0.205931\n",
      "Epoch: 4400/10000\t\tCost = 3.80e-02\t\tElapsed time = 0.205958\n",
      "Epoch: 4500/10000\t\tCost = 3.74e-02\t\tElapsed time = 0.206557\n",
      "Epoch: 4600/10000\t\tCost = 3.69e-02\t\tElapsed time = 0.207119\n",
      "Epoch: 4700/10000\t\tCost = 3.62e-02\t\tElapsed time = 0.206924\n",
      "Epoch: 4800/10000\t\tCost = 3.55e-02\t\tElapsed time = 0.207920\n",
      "Epoch: 4900/10000\t\tCost = 3.48e-02\t\tElapsed time = 0.217022\n",
      "Epoch: 5000/10000\t\tCost = 3.41e-02\t\tElapsed time = 0.202250\n",
      "Epoch: 5100/10000\t\tCost = 3.33e-02\t\tElapsed time = 0.199673\n",
      "Epoch: 5200/10000\t\tCost = 3.24e-02\t\tElapsed time = 0.199483\n",
      "Epoch: 5300/10000\t\tCost = 3.15e-02\t\tElapsed time = 0.200738\n",
      "Epoch: 5400/10000\t\tCost = 3.06e-02\t\tElapsed time = 0.200349\n",
      "Epoch: 5500/10000\t\tCost = 2.96e-02\t\tElapsed time = 0.199555\n",
      "Epoch: 5600/10000\t\tCost = 2.86e-02\t\tElapsed time = 0.199157\n",
      "Epoch: 5700/10000\t\tCost = 2.75e-02\t\tElapsed time = 0.202420\n",
      "Epoch: 5800/10000\t\tCost = 2.64e-02\t\tElapsed time = 0.203479\n",
      "Epoch: 5900/10000\t\tCost = 2.53e-02\t\tElapsed time = 0.200851\n",
      "Epoch: 6000/10000\t\tCost = 2.41e-02\t\tElapsed time = 0.200200\n",
      "Epoch: 6100/10000\t\tCost = 2.30e-02\t\tElapsed time = 0.199550\n",
      "Epoch: 6200/10000\t\tCost = 2.18e-02\t\tElapsed time = 0.199716\n",
      "Epoch: 6300/10000\t\tCost = 2.06e-02\t\tElapsed time = 0.199658\n",
      "Epoch: 6400/10000\t\tCost = 1.94e-02\t\tElapsed time = 0.201229\n",
      "Epoch: 6500/10000\t\tCost = 1.83e-02\t\tElapsed time = 0.203027\n",
      "Epoch: 6600/10000\t\tCost = 1.72e-02\t\tElapsed time = 0.203790\n",
      "Epoch: 6700/10000\t\tCost = 1.61e-02\t\tElapsed time = 0.202452\n",
      "Epoch: 6800/10000\t\tCost = 1.50e-02\t\tElapsed time = 0.200965\n",
      "Epoch: 6900/10000\t\tCost = 1.40e-02\t\tElapsed time = 0.210449\n",
      "Epoch: 7000/10000\t\tCost = 1.30e-02\t\tElapsed time = 0.218554\n",
      "Epoch: 7100/10000\t\tCost = 1.21e-02\t\tElapsed time = 0.218961\n",
      "Epoch: 7200/10000\t\tCost = 1.12e-02\t\tElapsed time = 0.203113\n",
      "Epoch: 7300/10000\t\tCost = 1.04e-02\t\tElapsed time = 0.203718\n",
      "Epoch: 7400/10000\t\tCost = 9.66e-03\t\tElapsed time = 0.206819\n",
      "Epoch: 7500/10000\t\tCost = 8.95e-03\t\tElapsed time = 0.210665\n",
      "Epoch: 7600/10000\t\tCost = 8.29e-03\t\tElapsed time = 0.204193\n",
      "Epoch: 7700/10000\t\tCost = 7.68e-03\t\tElapsed time = 0.207313\n",
      "Epoch: 7800/10000\t\tCost = 7.12e-03\t\tElapsed time = 0.207258\n",
      "Epoch: 7900/10000\t\tCost = 6.60e-03\t\tElapsed time = 0.206731\n",
      "Epoch: 8000/10000\t\tCost = 6.13e-03\t\tElapsed time = 0.203984\n",
      "Epoch: 8100/10000\t\tCost = 5.69e-03\t\tElapsed time = 0.203301\n",
      "Epoch: 8200/10000\t\tCost = 5.29e-03\t\tElapsed time = 0.202780\n",
      "Epoch: 8300/10000\t\tCost = 4.93e-03\t\tElapsed time = 0.202323\n",
      "Epoch: 8400/10000\t\tCost = 4.59e-03\t\tElapsed time = 0.202458\n",
      "Epoch: 8500/10000\t\tCost = 4.28e-03\t\tElapsed time = 0.202413\n",
      "Epoch: 8600/10000\t\tCost = 4.00e-03\t\tElapsed time = 0.202276\n",
      "Epoch: 8700/10000\t\tCost = 3.74e-03\t\tElapsed time = 0.202456\n",
      "Epoch: 8800/10000\t\tCost = 3.50e-03\t\tElapsed time = 0.207870\n",
      "Epoch: 8900/10000\t\tCost = 3.29e-03\t\tElapsed time = 0.208482\n",
      "Epoch: 9000/10000\t\tCost = 3.09e-03\t\tElapsed time = 0.208301\n",
      "Epoch: 9100/10000\t\tCost = 2.91e-03\t\tElapsed time = 0.206587\n",
      "Epoch: 9200/10000\t\tCost = 2.74e-03\t\tElapsed time = 0.200196\n",
      "Epoch: 9300/10000\t\tCost = 2.59e-03\t\tElapsed time = 0.200776\n",
      "Epoch: 9400/10000\t\tCost = 2.44e-03\t\tElapsed time = 0.200765\n",
      "Epoch: 9500/10000\t\tCost = 2.31e-03\t\tElapsed time = 0.201164\n",
      "Epoch: 9600/10000\t\tCost = 2.20e-03\t\tElapsed time = 0.200681\n",
      "Epoch: 9700/10000\t\tCost = 2.09e-03\t\tElapsed time = 0.199466\n",
      "Epoch: 9800/10000\t\tCost = 1.98e-03\t\tElapsed time = 0.200366\n",
      "Epoch: 9900/10000\t\tCost = 1.89e-03\t\tElapsed time = 0.200329\n"
     ]
    }
   ],
   "source": [
    "start = time.perf_counter()\n",
    "for epoch in range(epochs):\n",
    "\n",
    "    model.zero_grad()\n",
    "    yPred = model.forward(x)\n",
    "    C = 0.5 * np.mean((yPred - y) ** 2)\n",
    "    model.backward(y)\n",
    "\n",
    "    if selectOptimizer == \"gradientDescent\":\n",
    "        model.step(lr)\n",
    "    elif selectOptimizer == \"Adam\":\n",
    "        updatedParameters = optimizer.updateParams(\n",
    "            model.weights + model.biases, model.weightGradients + model.biasGradients\n",
    "        )\n",
    "        model.weights = updatedParameters[: model.L - 1]\n",
    "        model.biases = updatedParameters[model.L - 1:]\n",
    "\n",
    "    if epoch % 100 == 0:\n",
    "        elapsedTime = time.perf_counter() - start\n",
    "        string = \"Epoch: {}/{}\\t\\tCost = {:.2e}\\t\\tElapsed time = {:2f}\"\n",
    "        print(string.format(epoch, epochs, C, elapsedTime))\n",
    "        start = time.perf_counter()"
   ]
  },
  {
   "cell_type": "markdown",
   "metadata": {},
   "source": [
    "**visualize the prediction**"
   ]
  },
  {
   "cell_type": "code",
   "execution_count": 12,
   "metadata": {
    "ExecuteTime": {
     "end_time": "2023-12-22T11:31:24.439891943Z",
     "start_time": "2023-12-22T11:31:24.354472264Z"
    }
   },
   "outputs": [
    {
     "data": {
      "image/png": "[encoded data removed]",
      "text/plain": [
       "<Figure size 1200x600 with 1 Axes>"
      ]
     },
     "metadata": {},
     "output_type": "display_data"
    }
   ],
   "source": [
    "yPred = model.forward(x)\n",
    "\n",
    "fig, ax = plt.subplots(figsize=(12, 6))\n",
    "ax.grid()\n",
    "ax.plot(x, y, \"k\", label=\"ground truth\")\n",
    "ax.plot(x, yPred, \"r--\", label=\"prediction\")\n",
    "ax.legend()\n",
    "plt.show()"
   ]
  },
  {
   "cell_type": "markdown",
   "metadata": {},
   "source": [
    "## Learning with PyTorch"
   ]
  },
  {
   "cell_type": "markdown",
   "metadata": {},
   "source": [
    "**model definition**"
   ]
  },
  {
   "cell_type": "code",
   "execution_count": 13,
   "metadata": {
    "ExecuteTime": {
     "end_time": "2023-12-22T11:31:24.446982396Z",
     "start_time": "2023-12-22T11:31:24.441465519Z"
    }
   },
   "outputs": [],
   "source": [
    "modelTorch = neuralNetworkTorch(layers)\n",
    "xTorch = torch.from_numpy(x).to(torch.float32)\n",
    "yTorch = torch.from_numpy(y).to(torch.float32)\n",
    "if selectOptimizer == \"gradientDescent\":\n",
    "    optimizer = torch.optim.SGD(modelTorch.parameters(), lr)\n",
    "elif selectOptimizer == \"Adam\":\n",
    "    optimizer = torch.optim.Adam(modelTorch.parameters(), lr)"
   ]
  },
  {
   "cell_type": "markdown",
   "metadata": {},
   "source": [
    "**training loop**"
   ]
  },
  {
   "cell_type": "code",
   "execution_count": 14,
   "metadata": {
    "ExecuteTime": {
     "end_time": "2023-12-22T11:31:29.386640956Z",
     "start_time": "2023-12-22T11:31:24.446398856Z"
    }
   },
   "outputs": [
    {
     "name": "stdout",
     "output_type": "stream",
     "text": [
      "Epoch: 0/10000\t\tCost = 5.41e-02\t\tElapsed time = 0.001512\n",
      "Epoch: 100/10000\t\tCost = 4.68e-02\t\tElapsed time = 0.039268\n",
      "Epoch: 200/10000\t\tCost = 4.67e-02\t\tElapsed time = 0.036121\n",
      "Epoch: 300/10000\t\tCost = 4.67e-02\t\tElapsed time = 0.036899\n",
      "Epoch: 400/10000\t\tCost = 4.66e-02\t\tElapsed time = 0.036314\n",
      "Epoch: 500/10000\t\tCost = 4.66e-02\t\tElapsed time = 0.035340\n",
      "Epoch: 600/10000\t\tCost = 4.65e-02\t\tElapsed time = 0.035961\n",
      "Epoch: 700/10000\t\tCost = 4.65e-02\t\tElapsed time = 0.035332\n",
      "Epoch: 800/10000\t\tCost = 4.64e-02\t\tElapsed time = 0.035434\n",
      "Epoch: 900/10000\t\tCost = 4.64e-02\t\tElapsed time = 0.035259\n",
      "Epoch: 1000/10000\t\tCost = 4.63e-02\t\tElapsed time = 0.035259\n",
      "Epoch: 1100/10000\t\tCost = 4.63e-02\t\tElapsed time = 0.035987\n",
      "Epoch: 1200/10000\t\tCost = 4.62e-02\t\tElapsed time = 0.037837\n",
      "Epoch: 1300/10000\t\tCost = 4.62e-02\t\tElapsed time = 0.038007\n",
      "Epoch: 1400/10000\t\tCost = 4.61e-02\t\tElapsed time = 0.037608\n",
      "Epoch: 1500/10000\t\tCost = 4.61e-02\t\tElapsed time = 0.035750\n",
      "Epoch: 1600/10000\t\tCost = 4.60e-02\t\tElapsed time = 0.036049\n",
      "Epoch: 1700/10000\t\tCost = 4.59e-02\t\tElapsed time = 0.036361\n",
      "Epoch: 1800/10000\t\tCost = 4.59e-02\t\tElapsed time = 0.036040\n",
      "Epoch: 1900/10000\t\tCost = 4.58e-02\t\tElapsed time = 0.036195\n",
      "Epoch: 2000/10000\t\tCost = 4.57e-02\t\tElapsed time = 0.036755\n",
      "Epoch: 2100/10000\t\tCost = 4.56e-02\t\tElapsed time = 0.036168\n",
      "Epoch: 2200/10000\t\tCost = 4.56e-02\t\tElapsed time = 0.036353\n",
      "Epoch: 2300/10000\t\tCost = 4.55e-02\t\tElapsed time = 0.036976\n",
      "Epoch: 2400/10000\t\tCost = 4.54e-02\t\tElapsed time = 0.039188\n",
      "Epoch: 2500/10000\t\tCost = 4.53e-02\t\tElapsed time = 0.037807\n",
      "Epoch: 2600/10000\t\tCost = 4.52e-02\t\tElapsed time = 0.037460\n",
      "Epoch: 2700/10000\t\tCost = 4.51e-02\t\tElapsed time = 0.038926\n",
      "Epoch: 2800/10000\t\tCost = 4.50e-02\t\tElapsed time = 0.036114\n",
      "Epoch: 2900/10000\t\tCost = 4.49e-02\t\tElapsed time = 0.036259\n",
      "Epoch: 3000/10000\t\tCost = 4.47e-02\t\tElapsed time = 0.037340\n",
      "Epoch: 3100/10000\t\tCost = 4.46e-02\t\tElapsed time = 0.038359\n",
      "Epoch: 3200/10000\t\tCost = 4.45e-02\t\tElapsed time = 0.038154\n",
      "Epoch: 3300/10000\t\tCost = 4.43e-02\t\tElapsed time = 0.036088\n",
      "Epoch: 3400/10000\t\tCost = 4.42e-02\t\tElapsed time = 0.037230\n",
      "Epoch: 3500/10000\t\tCost = 4.40e-02\t\tElapsed time = 0.037088\n",
      "Epoch: 3600/10000\t\tCost = 4.39e-02\t\tElapsed time = 0.035723\n",
      "Epoch: 3700/10000\t\tCost = 4.37e-02\t\tElapsed time = 0.035866\n",
      "Epoch: 3800/10000\t\tCost = 4.35e-02\t\tElapsed time = 0.035577\n",
      "Epoch: 3900/10000\t\tCost = 4.33e-02\t\tElapsed time = 0.035573\n",
      "Epoch: 4000/10000\t\tCost = 4.31e-02\t\tElapsed time = 0.035760\n",
      "Epoch: 4100/10000\t\tCost = 4.28e-02\t\tElapsed time = 0.035563\n",
      "Epoch: 4200/10000\t\tCost = 4.26e-02\t\tElapsed time = 0.036094\n",
      "Epoch: 4300/10000\t\tCost = 4.24e-02\t\tElapsed time = 0.036115\n",
      "Epoch: 4400/10000\t\tCost = 4.21e-02\t\tElapsed time = 0.035830\n",
      "Epoch: 4500/10000\t\tCost = 4.18e-02\t\tElapsed time = 0.036273\n",
      "Epoch: 4600/10000\t\tCost = 4.15e-02\t\tElapsed time = 0.035645\n",
      "Epoch: 4700/10000\t\tCost = 4.12e-02\t\tElapsed time = 0.035277\n",
      "Epoch: 4800/10000\t\tCost = 4.08e-02\t\tElapsed time = 0.035639\n",
      "Epoch: 4900/10000\t\tCost = 4.05e-02\t\tElapsed time = 0.035707\n",
      "Epoch: 5000/10000\t\tCost = 4.01e-02\t\tElapsed time = 0.035086\n",
      "Epoch: 5100/10000\t\tCost = 3.97e-02\t\tElapsed time = 0.035007\n",
      "Epoch: 5200/10000\t\tCost = 3.92e-02\t\tElapsed time = 0.035611\n",
      "Epoch: 5300/10000\t\tCost = 3.88e-02\t\tElapsed time = 0.035497\n",
      "Epoch: 5400/10000\t\tCost = 3.83e-02\t\tElapsed time = 0.040706\n",
      "Epoch: 5500/10000\t\tCost = 3.77e-02\t\tElapsed time = 0.039488\n",
      "Epoch: 5600/10000\t\tCost = 3.72e-02\t\tElapsed time = 0.035984\n",
      "Epoch: 5700/10000\t\tCost = 3.66e-02\t\tElapsed time = 0.036972\n",
      "Epoch: 5800/10000\t\tCost = 3.60e-02\t\tElapsed time = 0.035386\n",
      "Epoch: 5900/10000\t\tCost = 3.53e-02\t\tElapsed time = 0.035407\n",
      "Epoch: 6000/10000\t\tCost = 3.46e-02\t\tElapsed time = 0.035961\n",
      "Epoch: 6100/10000\t\tCost = 3.39e-02\t\tElapsed time = 0.034550\n",
      "Epoch: 6200/10000\t\tCost = 3.31e-02\t\tElapsed time = 0.034904\n",
      "Epoch: 6300/10000\t\tCost = 3.23e-02\t\tElapsed time = 0.034808\n",
      "Epoch: 6400/10000\t\tCost = 3.14e-02\t\tElapsed time = 0.034769\n",
      "Epoch: 6500/10000\t\tCost = 3.06e-02\t\tElapsed time = 0.034816\n",
      "Epoch: 6600/10000\t\tCost = 2.96e-02\t\tElapsed time = 0.035460\n",
      "Epoch: 6700/10000\t\tCost = 2.87e-02\t\tElapsed time = 0.035212\n",
      "Epoch: 6800/10000\t\tCost = 2.77e-02\t\tElapsed time = 0.034835\n",
      "Epoch: 6900/10000\t\tCost = 2.67e-02\t\tElapsed time = 0.034826\n",
      "Epoch: 7000/10000\t\tCost = 2.56e-02\t\tElapsed time = 0.034793\n",
      "Epoch: 7100/10000\t\tCost = 2.45e-02\t\tElapsed time = 0.034768\n",
      "Epoch: 7200/10000\t\tCost = 2.34e-02\t\tElapsed time = 0.035699\n",
      "Epoch: 7300/10000\t\tCost = 2.24e-02\t\tElapsed time = 0.042080\n",
      "Epoch: 7400/10000\t\tCost = 2.13e-02\t\tElapsed time = 0.035599\n",
      "Epoch: 7500/10000\t\tCost = 2.02e-02\t\tElapsed time = 0.034802\n",
      "Epoch: 7600/10000\t\tCost = 1.91e-02\t\tElapsed time = 0.035337\n",
      "Epoch: 7700/10000\t\tCost = 1.80e-02\t\tElapsed time = 0.035237\n",
      "Epoch: 7800/10000\t\tCost = 1.70e-02\t\tElapsed time = 0.037117\n",
      "Epoch: 7900/10000\t\tCost = 1.59e-02\t\tElapsed time = 0.038231\n",
      "Epoch: 8000/10000\t\tCost = 1.50e-02\t\tElapsed time = 0.038767\n",
      "Epoch: 8100/10000\t\tCost = 1.40e-02\t\tElapsed time = 0.038954\n",
      "Epoch: 8200/10000\t\tCost = 1.31e-02\t\tElapsed time = 0.037619\n",
      "Epoch: 8300/10000\t\tCost = 1.22e-02\t\tElapsed time = 0.036068\n",
      "Epoch: 8400/10000\t\tCost = 1.14e-02\t\tElapsed time = 0.035607\n",
      "Epoch: 8500/10000\t\tCost = 1.07e-02\t\tElapsed time = 0.034794\n",
      "Epoch: 8600/10000\t\tCost = 9.93e-03\t\tElapsed time = 0.035074\n",
      "Epoch: 8700/10000\t\tCost = 9.26e-03\t\tElapsed time = 0.035534\n",
      "Epoch: 8800/10000\t\tCost = 8.62e-03\t\tElapsed time = 0.034983\n",
      "Epoch: 8900/10000\t\tCost = 8.04e-03\t\tElapsed time = 0.034957\n",
      "Epoch: 9000/10000\t\tCost = 7.49e-03\t\tElapsed time = 0.035531\n",
      "Epoch: 9100/10000\t\tCost = 6.98e-03\t\tElapsed time = 0.035530\n",
      "Epoch: 9200/10000\t\tCost = 6.51e-03\t\tElapsed time = 0.035139\n",
      "Epoch: 9300/10000\t\tCost = 6.08e-03\t\tElapsed time = 0.035065\n",
      "Epoch: 9400/10000\t\tCost = 5.68e-03\t\tElapsed time = 0.034365\n",
      "Epoch: 9500/10000\t\tCost = 5.31e-03\t\tElapsed time = 0.035596\n",
      "Epoch: 9600/10000\t\tCost = 4.97e-03\t\tElapsed time = 0.035881\n",
      "Epoch: 9700/10000\t\tCost = 4.66e-03\t\tElapsed time = 0.035674\n",
      "Epoch: 9800/10000\t\tCost = 4.37e-03\t\tElapsed time = 0.035584\n",
      "Epoch: 9900/10000\t\tCost = 4.10e-03\t\tElapsed time = 0.034850\n"
     ]
    }
   ],
   "source": [
    "start = time.perf_counter()\n",
    "for epoch in range(epochs):\n",
    "    optimizer.zero_grad()\n",
    "    yPredTorch = modelTorch.forward(xTorch)\n",
    "    CTorch = 0.5 * torch.mean((yPredTorch - yTorch) ** 2)\n",
    "    CTorch.backward()\n",
    "\n",
    "    optimizer.step()\n",
    "\n",
    "    if epoch % 100 == 0:\n",
    "        elapsedTime = time.perf_counter() - start\n",
    "        string = \"Epoch: {}/{}\\t\\tCost = {:.2e}\\t\\tElapsed time = {:2f}\"\n",
    "        print(string.format(epoch, epochs, CTorch.detach(), elapsedTime))\n",
    "        start = time.perf_counter()"
   ]
  },
  {
   "cell_type": "markdown",
   "metadata": {},
   "source": [
    "**visualize the predictions**"
   ]
  },
  {
   "cell_type": "code",
   "execution_count": 15,
   "metadata": {
    "ExecuteTime": {
     "end_time": "2023-12-22T11:31:29.479013182Z",
     "start_time": "2023-12-22T11:31:29.387061456Z"
    }
   },
   "outputs": [
    {
     "data": {
      "image/png": "[encoded data removed]",
      "text/plain": [
       "<Figure size 1200x600 with 1 Axes>"
      ]
     },
     "metadata": {},
     "output_type": "display_data"
    }
   ],
   "source": [
    "fig, ax = plt.subplots(figsize=(12, 6))\n",
    "ax.grid()\n",
    "ax.plot(x, y, \"k\", label=\"ground truth\")\n",
    "ax.plot(xTorch, yPredTorch.detach(), \"r--\", label=\"prediction\")\n",
    "ax.legend()\n",
    "plt.show()"
   ]
  }
 ],
 "metadata": {
  "kernelspec": {
   "display_name": "jujuexercicios",
   "language": "python",
   "name": "python3"
  },
  "language_info": {
   "codemirror_mode": {
    "name": "ipython",
    "version": 3
   },
   "file_extension": ".py",
   "mimetype": "text/x-python",
   "name": "python",
   "nbconvert_exporter": "python",
   "pygments_lexer": "ipython3",
   "version": "3.13.5"
  }
 },
 "nbformat": 4,
 "nbformat_minor": 4
}
