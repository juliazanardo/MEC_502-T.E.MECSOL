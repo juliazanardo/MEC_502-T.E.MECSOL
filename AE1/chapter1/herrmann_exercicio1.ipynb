{
 "cells": [
  {
   "cell_type": "markdown",
   "id": "6db1dc45",
   "metadata": {},
   "source": [
    "# Chapter 1\n",
    "## Exercise 1 - Introduction to PyTorch\n",
    "\n",
    "### Task \n",
    "Familiarize yourself with the PyTorch framework by executing and modifying the different commands.\n",
    "\n",
    "### Installtion \n",
    "Follow the instructions in the \"Exercises\" folder README to install jupyter lab and all dependencies for the exercises.\n",
    "\n",
    "### Learning goals\n",
    "Introduce PyTorch framework\n",
    "Familiarize yourself with its basic syntax and some commands we will see frequently\n",
    "Experiment with syntax"
   ]
  },
  {
   "cell_type": "markdown",
   "id": "f4513ab1",
   "metadata": {},
   "source": [
    "________________________\n",
    "Nesse exemplo utilizaremos 3 bibliotecas do python, então o primeiro bloco de código irá realizar as importações para serem usadas nesse exercício."
   ]
  },
  {
   "cell_type": "code",
   "execution_count": 61,
   "id": "4b606a7c",
   "metadata": {},
   "outputs": [],
   "source": [
    "import torch\n",
    "import numpy as np\n",
    "import matplotlib.pyplot as plt"
   ]
  },
  {
   "cell_type": "markdown",
   "id": "173cc0b4",
   "metadata": {},
   "source": [
    "Iremos criar diferentes tipos de tensores:  \n",
    "**matrix_2x3** -> valores definidos  \n",
    "**tensor_3x3x3** -> preenchido com zero  \n",
    "**vector_10** -> esse terá valores espaçados entre 0 e 1  \n",
    "**matrix_1x3** -> com valores 1  "
   ]
  },
  {
   "cell_type": "code",
   "execution_count": 62,
   "id": "c6af2514",
   "metadata": {},
   "outputs": [],
   "source": [
    "matrix_2x3 = torch.tensor([[0., 2., 4.], [3., 5., 7.]])\n",
    "tensor_3x3x3 = torch.zeros(3, 3, 3)\n",
    "vector_10 = torch.linspace(0, 1, 10)\n",
    "matrix_1x3 = torch.ones(1, 3)"
   ]
  },
  {
   "cell_type": "markdown",
   "id": "7e162424",
   "metadata": {},
   "source": [
    "**matrix_2x3.size()**: retorna o tamanho (shape) do tensor matrix_2x3, que é (2, 3).  \n",
    "**matrix_2x3[0, 0]**: acessa o primeiro elemento (linha 0, coluna 0).  \n",
    "**matrix_2x3[:, 0]**: retorna todos os valores da primeira coluna.  \n",
    "**matrix_2x3[-1, -1]**: acessa o último elemento da última linha.  \n",
    "**tensor_3x3x3[0, :, :]**: seleciona a primeira \"fatia\" do tensor tridimensional tensor_3x3x3.  \n",
    "**matrix_2x3[0, 1:3]**: retorna os elementos das colunas 1 e 2 da primeira linha.  "
   ]
  },
  {
   "cell_type": "code",
   "execution_count": 63,
   "id": "af16b24b",
   "metadata": {},
   "outputs": [
    {
     "data": {
      "text/plain": [
       "tensor([2., 4.])"
      ]
     },
     "execution_count": 63,
     "metadata": {},
     "output_type": "execute_result"
    }
   ],
   "source": [
    "matrix_2x3.size()\n",
    "matrix_2x3[0, 0]\n",
    "matrix_2x3[:, 0]\n",
    "matrix_2x3[-1, -1]\n",
    "tensor_3x3x3[0, :, :]\n",
    "matrix_2x3[0, 1:3]"
   ]
  },
  {
   "cell_type": "markdown",
   "id": "244f3866",
   "metadata": {},
   "source": [
    "# Tensor Operations\n",
    "## Functional approach:\n",
    "\n",
    "### Note that matrix_2x3, tensor_3x3x3, vector_10, and matrix_1x3 remain unchanged\n",
    "\n",
    "**torch.cat**: concatena dois tensores na dimensão especificada (no caso, na linha).  \n",
    "**torch.transpose**: troca as dimensões 0 e 1, transformando linhas em colunas.  \n",
    "**torch.permute**: reordena as dimensões do tensor (ideal para tensores 3D ou maiores).  \n",
    "**torch.reshape**: altera a forma do tensor sem alterar os dados.  \n",
    "**torch.unsqueeze**: adiciona uma nova dimensão (útil para broadcast).  \n",
    "**torch.squeeze**: remove dimensões de tamanho 1.  \n",
    "**torch.flatten**: transforma o tensor em um vetor 1D.  \n",
    "**torch.ones_like**: cria um novo tensor com o mesmo shape de outro, mas com todos os valores 1.  \n",
    "**torch.cos aplica**: a função cosseno elemento a elemento.  "
   ]
  },
  {
   "cell_type": "code",
   "execution_count": 64,
   "id": "d42126df",
   "metadata": {},
   "outputs": [
    {
     "name": "stdout",
     "output_type": "stream",
     "text": [
      "cat:\n",
      "tensor([[0., 2., 4.],\n",
      "        [3., 5., 7.],\n",
      "        [1., 1., 1.]])\n",
      "\n",
      "transpose:\n",
      "tensor([[0., 3.],\n",
      "        [2., 5.],\n",
      "        [4., 7.]])\n",
      "\n",
      "permute:\n",
      "tensor([[[0., 0., 0.],\n",
      "         [0., 0., 0.],\n",
      "         [0., 0., 0.]],\n",
      "\n",
      "        [[0., 0., 0.],\n",
      "         [0., 0., 0.],\n",
      "         [0., 0., 0.]],\n",
      "\n",
      "        [[0., 0., 0.],\n",
      "         [0., 0., 0.],\n",
      "         [0., 0., 0.]]])\n",
      "\n",
      "reshape:\n",
      "tensor([[0., 2., 4., 3., 5., 7.]])\n",
      "\n",
      "unsqueeze:\n",
      "tensor([[[0., 2., 4.],\n",
      "         [3., 5., 7.]]])\n",
      "\n",
      "squeeze:\n",
      "tensor([1., 1., 1.])\n",
      "\n",
      "flatten:\n",
      "tensor([0., 0., 0., 0., 0., 0., 0., 0., 0., 0., 0., 0., 0., 0., 0., 0., 0., 0., 0., 0., 0., 0., 0., 0.,\n",
      "        0., 0., 0.])\n",
      "\n",
      "ones_like:\n",
      "tensor([1., 1., 1., 1., 1., 1., 1., 1., 1., 1.])\n",
      "\n",
      "cos:\n",
      "tensor([[ 1.0000, -0.4161, -0.6536],\n",
      "        [-0.9900,  0.2837,  0.7539]])\n",
      "\n"
     ]
    }
   ],
   "source": [
    "# tuple with name (str) and result operation (tensor)\n",
    "operations = [\n",
    "    (\"cat\", torch.cat((matrix_2x3, matrix_1x3))),\n",
    "    (\"transpose\", torch.transpose(matrix_2x3, 0, 1)),\n",
    "    (\"permute\", torch.permute(tensor_3x3x3, (2, 1, 0))),\n",
    "    (\"reshape\", torch.reshape(matrix_2x3, (1, 6))),\n",
    "    (\"unsqueeze\", torch.unsqueeze(matrix_2x3, 0)),\n",
    "    (\"squeeze\", torch.squeeze(matrix_1x3, 0)),\n",
    "    (\"flatten\", torch.flatten(tensor_3x3x3)),\n",
    "    (\"ones_like\", torch.ones_like(vector_10)),\n",
    "    (\"cos\", torch.cos(matrix_2x3)),\n",
    "]\n",
    "\n",
    "# tuple unpacking method\n",
    "for name, result in operations:\n",
    "    print(f\"{name}:\\n{result}\\n\")"
   ]
  },
  {
   "cell_type": "markdown",
   "id": "b2dc4144",
   "metadata": {},
   "source": [
    "# Conversion to and from NumPy\n",
    "\n",
    "**torch.from_numpy**: converte em array Numpy para tensor.  \n",
    "**.numpy()**: converte um tensor em array do numpy  \n",
    "\n",
    "a comparação do **numpyArray** e do **ttensorFromNumpy** (torch tensor = ttensor) retorna True porque os dados são iguais. \n",
    "Todas as conversões são direto no espaço de memória que está alocado **numpyArray**, logo **tensorFromNumpy** aponta também para esse local de memória e quando se faz **numpyFromTtensor**, ele estará modificando de novo o mesmo valor, então as três variáveis apontam para o mesmo espaço de memória, o que confirma ser True a comparação deles\n"
   ]
  },
  {
   "cell_type": "code",
   "execution_count": 65,
   "id": "11bd198f",
   "metadata": {},
   "outputs": [
    {
     "data": {
      "text/plain": [
       "array([ True,  True])"
      ]
     },
     "execution_count": 65,
     "metadata": {},
     "output_type": "execute_result"
    }
   ],
   "source": [
    "numpyArray = np.array([2., 3,])\n",
    "ttensorFromNumpy = torch.from_numpy(numpyArray)\n",
    "numpyFromTtensor = ttensorFromNumpy.numpy()\n",
    "\n",
    "numpyArray == numpyFromTtensor\n"
   ]
  },
  {
   "cell_type": "markdown",
   "id": "08cf7f68",
   "metadata": {},
   "source": [
    "# Grid Creation\n",
    "\n",
    "Nessa parte, iremos criar uma malha 2D com torch.  \n",
    "\n",
    "**torch.meshgrid**: cria coordenadas em grades regulares.  \n",
    "**indexing='ij'**: garante que as dimensões estarão em ordens corretas."
   ]
  },
  {
   "cell_type": "code",
   "execution_count": 66,
   "id": "706d1862",
   "metadata": {},
   "outputs": [],
   "source": [
    "x = torch.linspace(0, 1, 10)\n",
    "y = torch.linspace(0, 2, 5)\n",
    "x, y =torch.meshgrid(x, y, indexing='ij')\n"
   ]
  },
  {
   "cell_type": "markdown",
   "id": "52c38e3d",
   "metadata": {},
   "source": [
    "# Gradient Computation\n",
    "## Theory is explained later in Chapter 3  \n",
    "\n",
    "\n",
    "$$\n",
    "\\boldsymbol{J}^\\intercal \\boldsymbol{v} =\n",
    "\\begin{pmatrix}\n",
    "\\frac{\\partial z(y_1)}{\\partial y_1} & \\dots & \\frac{\\partial z(y_1)}{\\partial y_{x}} \\\\\n",
    "\\vdots & \\ddots & \\vdots \\\\\n",
    "\\frac{\\partial z(y_{x})}{\\partial y_1} & \\dots & \\frac{\\partial z(y_{x})}{\\partial y_{x}}\n",
    "\\end{pmatrix}\n",
    "\\begin{pmatrix}\n",
    "1 \\\\ \\vdots \\\\ 1\n",
    "\\end{pmatrix}\n",
    "=\n",
    "\\begin{pmatrix}\n",
    "\\frac{\\partial z(y_1)}{\\partial y_1} & \\dots & 0 \\\\\n",
    "\\vdots & \\ddots & \\vdots \\\\\n",
    "0 & \\dots & \\frac{\\partial z(y_{x})}{\\partial y_{x}}\n",
    "\\end{pmatrix}\n",
    "\\begin{pmatrix}\n",
    "1 \\\\ \\vdots \\\\ 1\n",
    "\\end{pmatrix}\n",
    "=\n",
    "\\begin{pmatrix}\n",
    "\\frac{\\partial z(y_1)}{\\partial y_1} \\\\ \\vdots \\\\ \\frac{\\partial z(y_{x})}{\\partial y_{10}}\n",
    "\\end{pmatrix}\n",
    "$$\n"
   ]
  },
  {
   "cell_type": "markdown",
   "id": "3b0fa212",
   "metadata": {},
   "source": [
    "**requires_grad=True**: ativa o rastreamento de operações para permitir o cálculo automático de derivadas.  \n",
    "**.data**: acessa os dados reais do tensor.  \n",
    "**.grad**: armazena o gradiente após a chamada de .backward().  \n",
    "**.grad_fn**: aponta para a função que criou o tensor.  \n",
    "**.is_leaf**: indica se o tensor é uma folha no grafo computacional (não derivado de outras operações).  "
   ]
  },
  {
   "cell_type": "code",
   "execution_count": 67,
   "id": "cafd3663",
   "metadata": {},
   "outputs": [
    {
     "data": {
      "text/plain": [
       "True"
      ]
     },
     "execution_count": 67,
     "metadata": {},
     "output_type": "execute_result"
    }
   ],
   "source": [
    "x.requires_grad = True  # after construction - allows backpropogation\n",
    "y = torch.tensor([0.], requires_grad=True)  # during construction\n",
    "\n",
    "## Member Variables\n",
    "x.data\n",
    "x.requires_grad\n",
    "x.grad\n",
    "x.grad_fn\n",
    "x.is_leaf  # (see Chapter 2)"
   ]
  },
  {
   "cell_type": "markdown",
   "id": "7484a4e8",
   "metadata": {},
   "source": [
    "# Example gradients for simple functions\n",
    "\n",
    "Nesse exemplo, criamos uma função e usamos autograd para calcular derivadas:\n",
    "\n",
    "**y = 2x e z = y²**: define nossa função.  \n",
    "**retain_grad()**: é necessário para acessar o gradiente de y, pois PyTorch normalmente descarta gradientes intermediários.  \n",
    "**.backward()**: propaga os gradientes através do grafo computacional.  \n",
    "**dzdx e dzdy**: armazenam as derivadas de z em relação a x e y, respectivamente.  \n",
    "Imprimimos os resultados armazenados no.grad do tensor x"
   ]
  },
  {
   "cell_type": "code",
   "execution_count": 68,
   "id": "dce5a7e1",
   "metadata": {},
   "outputs": [
    {
     "name": "stdout",
     "output_type": "stream",
     "text": [
      "tensor([0.0000, 0.4211, 0.8421, 1.2632, 1.6842, 2.1053, 2.5263, 2.9474, 3.3684,\n",
      "        3.7895, 4.2105, 4.6316, 5.0526, 5.4737, 5.8947, 6.3158, 6.7368, 7.1579,\n",
      "        7.5789, 8.0000])\n"
     ]
    }
   ],
   "source": [
    "x = torch.linspace(0., 1., 20, requires_grad=True)\n",
    "y = 2 * x\n",
    "z = y ** 2\n",
    "\n",
    "y.retain_grad()  # otherwise gradient with respect to y will be deleted\n",
    "\n",
    "z.backward(torch.ones_like(z))  # differentiate z with respect to all variables used to create it\n",
    "\n",
    "dzdx = x.grad  # gradient of z with respect to x: 8 * x\n",
    "dzdy = y.grad  # gradient of z with respect to y: 2 * y = 4 * x\n",
    "\n",
    "print(x.grad)"
   ]
  },
  {
   "cell_type": "markdown",
   "id": "a12d7715",
   "metadata": {},
   "source": [
    "Usamos o Matplotlib para visualizar:\n",
    "\n",
    "A **função z = (2x)²** que criamos.  \n",
    "O gradiente **dz/dx = 4x**.  \n",
    "O gradiente **dz/dy = 2y**.  \n",
    "\n",
    "A função **detach()** é usada para extrair os dados do tensor sem manter o grafo computacional."
   ]
  },
  {
   "cell_type": "code",
   "execution_count": 69,
   "id": "dbf2ba68",
   "metadata": {},
   "outputs": [
    {
     "data": {
      "image/png": "[encoded data removed]",
      "text/plain": [
       "<Figure size 640x480 with 1 Axes>"
      ]
     },
     "metadata": {},
     "output_type": "display_data"
    }
   ],
   "source": [
    "# Plot the function and gradients with respect to variables used in its graph\n",
    "# .detach() is used when the computation graph is no longer needed\n",
    "plt.plot(x.detach(), z.detach(), label='z', color = 'blue')\n",
    "plt.plot(x.detach(), dzdx, '.', label='dz/dx', color = 'black')\n",
    "plt.plot(x.detach(), dzdy, '.', label='dz/dy', color = 'red')\n",
    "\n",
    "plt.legend()\n",
    "plt.grid(True)\n",
    "plt.show()"
   ]
  },
  {
   "cell_type": "markdown",
   "id": "8b26c87b",
   "metadata": {},
   "source": [
    "# Neural Networks\n",
    "\n",
    "Neste trecho instanciamos um modelo de rede neural com uma camada linear:\n",
    "\n",
    "A camada recebe vetores de entrada com 2 valores e retorna saídas com 3 valores.  \n",
    "**model(x)** realiza a multiplicação peso * entrada + bias.  \n",
    "Podemos acessar os pesos e bias diretamente com **.weight.data** e **.bias.data**."
   ]
  },
  {
   "cell_type": "code",
   "execution_count": 70,
   "id": "570b093f",
   "metadata": {},
   "outputs": [
    {
     "name": "stdout",
     "output_type": "stream",
     "text": [
      "Matrix model weight \n",
      " tensor([[ 0.6320,  0.1940],\n",
      "        [-0.4246, -0.1988],\n",
      "        [ 0.0705,  0.2972]])\n",
      "Matrix model bias \n",
      " tensor([-0.1680, -0.0538,  0.4430])\n"
     ]
    }
   ],
   "source": [
    "model = torch.nn.Linear(2, 3)  # input size: 2 and output size: 3\n",
    "x = torch.tensor([[1., 2.]])  # input\n",
    "y = model(x)  # output\n",
    "\n",
    "# access weight parameters\n",
    "print(\"Matrix model weight \\n\", model.weight.data)  # returns a tensor of shape (3, 2)\n",
    "print(\"Matrix model bias \\n\", model.bias.data)  # returns a tensor of shape (3)"
   ]
  },
  {
   "cell_type": "markdown",
   "id": "73bbcc41",
   "metadata": {},
   "source": [
    "# GPU Acceleration\n",
    "\n",
    "Por fim, mostramos como utilizar a GPU se disponível:\n",
    "\n",
    "**torch.device** escolhe entre CPU e CUDA automaticamente.  \n",
    "Tensores e modelos podem ser criados diretamente na GPU ou transferidos com **.to(device)**.  \n",
    "O método **.cpu()** traz os dados de volta para a CPU."
   ]
  },
  {
   "cell_type": "code",
   "execution_count": 81,
   "id": "c86f190d",
   "metadata": {},
   "outputs": [
    {
     "name": "stdout",
     "output_type": "stream",
     "text": [
      "cuda\n"
     ]
    },
    {
     "data": {
      "text/plain": [
       "tensor([1., 1., 1., 1.])"
      ]
     },
     "execution_count": 81,
     "metadata": {},
     "output_type": "execute_result"
    }
   ],
   "source": [
    "device = torch.device('cuda' if torch.cuda.is_available() else 'cpu')\n",
    "print(device)\n",
    "\n",
    "a = torch.ones(4, device=device)  # cuda\n",
    "b = torch.ones(4)  # cpu\n",
    "\n",
    "# transfer to CUDA\n",
    "b = b.to(device)\n",
    "model = model.to(device)\n",
    "\n",
    "# transfer back to CPU\n",
    "a.cpu()"
   ]
  }
 ],
 "metadata": {
  "kernelspec": {
   "display_name": "jujuexercicios",
   "language": "python",
   "name": "python3"
  },
  "language_info": {
   "codemirror_mode": {
    "name": "ipython",
    "version": 3
   },
   "file_extension": ".py",
   "mimetype": "text/x-python",
   "name": "python",
   "nbconvert_exporter": "python",
   "pygments_lexer": "ipython3",
   "version": "3.13.5"
  }
 },
 "nbformat": 4,
 "nbformat_minor": 5
}
